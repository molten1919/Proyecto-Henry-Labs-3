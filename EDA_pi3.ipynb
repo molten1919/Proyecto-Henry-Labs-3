{
 "cells": [
  {
   "cell_type": "code",
   "execution_count": 35,
   "metadata": {},
   "outputs": [
    {
     "name": "stderr",
     "output_type": "stream",
     "text": [
      "C:\\Users\\kaod_\\AppData\\Roaming\\Python\\Python310\\site-packages\\scipy\\__init__.py:146: UserWarning: A NumPy version >=1.16.5 and <1.23.0 is required for this version of SciPy (detected version 1.24.1\n",
      "  warnings.warn(f\"A NumPy version >={np_minversion} and <{np_maxversion}\"\n"
     ]
    }
   ],
   "source": [
    "%matplotlib inline\n",
    "import pandas as pd\n",
    "import numpy as np\n",
    "import matplotlib as plt\n",
    "import seaborn as sns\n",
    "from wordcloud import WordCloud"
   ]
  },
  {
   "cell_type": "code",
   "execution_count": 8,
   "metadata": {},
   "outputs": [],
   "source": [
    "# cargando los csv\n",
    "\n",
    "coursera_courses = pd.read_csv('Coursera_courses.csv')\n",
    "coursera_reviews = pd.read_csv('Coursera_reviews.csv')\n",
    "edx_courses = pd.read_csv('edx_courses.csv')\n",
    "udemy_courses = pd.read_csv('udemy_courses.csv')"
   ]
  },
  {
   "attachments": {},
   "cell_type": "markdown",
   "metadata": {},
   "source": [
    "# Echando un vistazo a los dataframes..."
   ]
  },
  {
   "attachments": {},
   "cell_type": "markdown",
   "metadata": {},
   "source": [
    "## coursera_courses"
   ]
  },
  {
   "cell_type": "code",
   "execution_count": 9,
   "metadata": {},
   "outputs": [
    {
     "data": {
      "text/html": [
       "<div>\n",
       "<style scoped>\n",
       "    .dataframe tbody tr th:only-of-type {\n",
       "        vertical-align: middle;\n",
       "    }\n",
       "\n",
       "    .dataframe tbody tr th {\n",
       "        vertical-align: top;\n",
       "    }\n",
       "\n",
       "    .dataframe thead th {\n",
       "        text-align: right;\n",
       "    }\n",
       "</style>\n",
       "<table border=\"1\" class=\"dataframe\">\n",
       "  <thead>\n",
       "    <tr style=\"text-align: right;\">\n",
       "      <th></th>\n",
       "      <th>name</th>\n",
       "      <th>institution</th>\n",
       "      <th>course_url</th>\n",
       "      <th>course_id</th>\n",
       "    </tr>\n",
       "  </thead>\n",
       "  <tbody>\n",
       "    <tr>\n",
       "      <th>0</th>\n",
       "      <td>Machine Learning</td>\n",
       "      <td>Stanford University</td>\n",
       "      <td>https://www.coursera.org/learn/machine-learning</td>\n",
       "      <td>machine-learning</td>\n",
       "    </tr>\n",
       "    <tr>\n",
       "      <th>1</th>\n",
       "      <td>Indigenous Canada</td>\n",
       "      <td>University of Alberta</td>\n",
       "      <td>https://www.coursera.org/learn/indigenous-canada</td>\n",
       "      <td>indigenous-canada</td>\n",
       "    </tr>\n",
       "    <tr>\n",
       "      <th>2</th>\n",
       "      <td>The Science of Well-Being</td>\n",
       "      <td>Yale University</td>\n",
       "      <td>https://www.coursera.org/learn/the-science-of-...</td>\n",
       "      <td>the-science-of-well-being</td>\n",
       "    </tr>\n",
       "    <tr>\n",
       "      <th>3</th>\n",
       "      <td>Technical Support Fundamentals</td>\n",
       "      <td>Google</td>\n",
       "      <td>https://www.coursera.org/learn/technical-suppo...</td>\n",
       "      <td>technical-support-fundamentals</td>\n",
       "    </tr>\n",
       "    <tr>\n",
       "      <th>4</th>\n",
       "      <td>Become a CBRS Certified Professional Installer...</td>\n",
       "      <td>Google - Spectrum Sharing</td>\n",
       "      <td>https://www.coursera.org/learn/google-cbrs-cpi...</td>\n",
       "      <td>google-cbrs-cpi-training</td>\n",
       "    </tr>\n",
       "  </tbody>\n",
       "</table>\n",
       "</div>"
      ],
      "text/plain": [
       "                                                name  \\\n",
       "0                                   Machine Learning   \n",
       "1                                  Indigenous Canada   \n",
       "2                          The Science of Well-Being   \n",
       "3                     Technical Support Fundamentals   \n",
       "4  Become a CBRS Certified Professional Installer...   \n",
       "\n",
       "                 institution  \\\n",
       "0        Stanford University   \n",
       "1      University of Alberta   \n",
       "2            Yale University   \n",
       "3                     Google   \n",
       "4  Google - Spectrum Sharing   \n",
       "\n",
       "                                          course_url  \\\n",
       "0    https://www.coursera.org/learn/machine-learning   \n",
       "1   https://www.coursera.org/learn/indigenous-canada   \n",
       "2  https://www.coursera.org/learn/the-science-of-...   \n",
       "3  https://www.coursera.org/learn/technical-suppo...   \n",
       "4  https://www.coursera.org/learn/google-cbrs-cpi...   \n",
       "\n",
       "                        course_id  \n",
       "0                machine-learning  \n",
       "1               indigenous-canada  \n",
       "2       the-science-of-well-being  \n",
       "3  technical-support-fundamentals  \n",
       "4        google-cbrs-cpi-training  "
      ]
     },
     "execution_count": 9,
     "metadata": {},
     "output_type": "execute_result"
    }
   ],
   "source": [
    "# dándole una checadita...\n",
    "coursera_courses.head()"
   ]
  },
  {
   "cell_type": "code",
   "execution_count": 48,
   "metadata": {},
   "outputs": [
    {
     "data": {
      "text/plain": [
       "(623, 4)"
      ]
     },
     "execution_count": 48,
     "metadata": {},
     "output_type": "execute_result"
    }
   ],
   "source": [
    "# dimensiones de este dataframe\n",
    "coursera_courses.shape"
   ]
  },
  {
   "cell_type": "code",
   "execution_count": 49,
   "metadata": {},
   "outputs": [
    {
     "data": {
      "text/plain": [
       "name           object\n",
       "institution    object\n",
       "course_url     object\n",
       "course_id      object\n",
       "dtype: object"
      ]
     },
     "execution_count": 49,
     "metadata": {},
     "output_type": "execute_result"
    }
   ],
   "source": [
    "# Tipos de datos de cada columnda de coursera_courses\n",
    "coursera_courses.dtypes"
   ]
  },
  {
   "cell_type": "code",
   "execution_count": 101,
   "metadata": {},
   "outputs": [
    {
     "name": "stdout",
     "output_type": "stream",
     "text": [
      "las dimensiones del df son:  (623, 4)\n"
     ]
    },
    {
     "data": {
      "text/html": [
       "<div>\n",
       "<style scoped>\n",
       "    .dataframe tbody tr th:only-of-type {\n",
       "        vertical-align: middle;\n",
       "    }\n",
       "\n",
       "    .dataframe tbody tr th {\n",
       "        vertical-align: top;\n",
       "    }\n",
       "\n",
       "    .dataframe thead th {\n",
       "        text-align: right;\n",
       "    }\n",
       "</style>\n",
       "<table border=\"1\" class=\"dataframe\">\n",
       "  <thead>\n",
       "    <tr style=\"text-align: right;\">\n",
       "      <th></th>\n",
       "      <th>name</th>\n",
       "      <th>institution</th>\n",
       "      <th>course_url</th>\n",
       "      <th>course_id</th>\n",
       "    </tr>\n",
       "  </thead>\n",
       "  <tbody>\n",
       "    <tr>\n",
       "      <th>count</th>\n",
       "      <td>623</td>\n",
       "      <td>623</td>\n",
       "      <td>623</td>\n",
       "      <td>623</td>\n",
       "    </tr>\n",
       "    <tr>\n",
       "      <th>unique</th>\n",
       "      <td>622</td>\n",
       "      <td>134</td>\n",
       "      <td>623</td>\n",
       "      <td>623</td>\n",
       "    </tr>\n",
       "    <tr>\n",
       "      <th>top</th>\n",
       "      <td>Introduction to Psychology</td>\n",
       "      <td>University of Pennsylvania</td>\n",
       "      <td>https://www.coursera.org/learn/machine-learning</td>\n",
       "      <td>machine-learning</td>\n",
       "    </tr>\n",
       "    <tr>\n",
       "      <th>freq</th>\n",
       "      <td>2</td>\n",
       "      <td>43</td>\n",
       "      <td>1</td>\n",
       "      <td>1</td>\n",
       "    </tr>\n",
       "  </tbody>\n",
       "</table>\n",
       "</div>"
      ],
      "text/plain": [
       "                              name                 institution  \\\n",
       "count                          623                         623   \n",
       "unique                         622                         134   \n",
       "top     Introduction to Psychology  University of Pennsylvania   \n",
       "freq                             2                          43   \n",
       "\n",
       "                                             course_url         course_id  \n",
       "count                                               623               623  \n",
       "unique                                              623               623  \n",
       "top     https://www.coursera.org/learn/machine-learning  machine-learning  \n",
       "freq                                                  1                 1  "
      ]
     },
     "execution_count": 101,
     "metadata": {},
     "output_type": "execute_result"
    }
   ],
   "source": [
    "# descripción\n",
    "print('las dimensiones del df son: ', coursera_courses.shape)\n",
    "coursera_courses.describe()"
   ]
  },
  {
   "cell_type": "code",
   "execution_count": 45,
   "metadata": {},
   "outputs": [
    {
     "data": {
      "text/plain": [
       "name           0\n",
       "institution    0\n",
       "course_url     0\n",
       "course_id      0\n",
       "dtype: int64"
      ]
     },
     "execution_count": 45,
     "metadata": {},
     "output_type": "execute_result"
    }
   ],
   "source": [
    "# campos vacíos de coursera courses\n",
    "coursera_courses.isnull().sum()"
   ]
  },
  {
   "cell_type": "code",
   "execution_count": 119,
   "metadata": {},
   "outputs": [
    {
     "data": {
      "text/plain": [
       "0"
      ]
     },
     "execution_count": 119,
     "metadata": {},
     "output_type": "execute_result"
    }
   ],
   "source": [
    "# duplicados\n",
    "coursera_courses.duplicated().sum()"
   ]
  },
  {
   "cell_type": "code",
   "execution_count": 61,
   "metadata": {},
   "outputs": [
    {
     "data": {
      "text/plain": [
       "Introduction to Psychology                                                2\n",
       "Machine Learning                                                          1\n",
       "Career 911: Your Future Job in Medicine and Healthcare                    1\n",
       "Introduction to Trading, Machine Learning & GCP                           1\n",
       "Python Programming: A Concise Introduction                                1\n",
       "                                                                         ..\n",
       "Building Scalable Java Microservices with Spring Boot and Spring Cloud    1\n",
       "Introduction to Forensic Science                                          1\n",
       "Google Cloud Product Fundamentals                                         1\n",
       "American Contract Law I                                                   1\n",
       "A Crash Course in Data Science                                            1\n",
       "Name: name, Length: 622, dtype: int64"
      ]
     },
     "execution_count": 61,
     "metadata": {},
     "output_type": "execute_result"
    }
   ],
   "source": [
    "''' \n",
    "Se ve que en el campo name, hay un solo valor que se repite ('Introduction to Psychology), pues existen 623 filas\n",
    "y hay 622 valores únicos. Hay 134 instituciones, y por supuesto, todas las url y los id son únicos.\n",
    "'''\n",
    "coursera_courses['name'].value_counts()"
   ]
  },
  {
   "attachments": {},
   "cell_type": "markdown",
   "metadata": {},
   "source": [
    "## coursera_reviews"
   ]
  },
  {
   "cell_type": "code",
   "execution_count": 50,
   "metadata": {},
   "outputs": [
    {
     "data": {
      "text/html": [
       "<div>\n",
       "<style scoped>\n",
       "    .dataframe tbody tr th:only-of-type {\n",
       "        vertical-align: middle;\n",
       "    }\n",
       "\n",
       "    .dataframe tbody tr th {\n",
       "        vertical-align: top;\n",
       "    }\n",
       "\n",
       "    .dataframe thead th {\n",
       "        text-align: right;\n",
       "    }\n",
       "</style>\n",
       "<table border=\"1\" class=\"dataframe\">\n",
       "  <thead>\n",
       "    <tr style=\"text-align: right;\">\n",
       "      <th></th>\n",
       "      <th>reviews</th>\n",
       "      <th>reviewers</th>\n",
       "      <th>date_reviews</th>\n",
       "      <th>rating</th>\n",
       "      <th>course_id</th>\n",
       "    </tr>\n",
       "  </thead>\n",
       "  <tbody>\n",
       "    <tr>\n",
       "      <th>0</th>\n",
       "      <td>Pretty dry, but I was able to pass with just t...</td>\n",
       "      <td>By Robert S</td>\n",
       "      <td>Feb 12, 2020</td>\n",
       "      <td>4</td>\n",
       "      <td>google-cbrs-cpi-training</td>\n",
       "    </tr>\n",
       "    <tr>\n",
       "      <th>1</th>\n",
       "      <td>would be a better experience if the video and ...</td>\n",
       "      <td>By Gabriel E R</td>\n",
       "      <td>Sep 28, 2020</td>\n",
       "      <td>4</td>\n",
       "      <td>google-cbrs-cpi-training</td>\n",
       "    </tr>\n",
       "    <tr>\n",
       "      <th>2</th>\n",
       "      <td>Information was perfect! The program itself wa...</td>\n",
       "      <td>By Jacob D</td>\n",
       "      <td>Apr 08, 2020</td>\n",
       "      <td>4</td>\n",
       "      <td>google-cbrs-cpi-training</td>\n",
       "    </tr>\n",
       "    <tr>\n",
       "      <th>3</th>\n",
       "      <td>A few grammatical mistakes on test made me do ...</td>\n",
       "      <td>By Dale B</td>\n",
       "      <td>Feb 24, 2020</td>\n",
       "      <td>4</td>\n",
       "      <td>google-cbrs-cpi-training</td>\n",
       "    </tr>\n",
       "    <tr>\n",
       "      <th>4</th>\n",
       "      <td>Excellent course and the training provided was...</td>\n",
       "      <td>By Sean G</td>\n",
       "      <td>Jun 18, 2020</td>\n",
       "      <td>4</td>\n",
       "      <td>google-cbrs-cpi-training</td>\n",
       "    </tr>\n",
       "  </tbody>\n",
       "</table>\n",
       "</div>"
      ],
      "text/plain": [
       "                                             reviews       reviewers  \\\n",
       "0  Pretty dry, but I was able to pass with just t...     By Robert S   \n",
       "1  would be a better experience if the video and ...  By Gabriel E R   \n",
       "2  Information was perfect! The program itself wa...      By Jacob D   \n",
       "3  A few grammatical mistakes on test made me do ...       By Dale B   \n",
       "4  Excellent course and the training provided was...       By Sean G   \n",
       "\n",
       "   date_reviews  rating                 course_id  \n",
       "0  Feb 12, 2020       4  google-cbrs-cpi-training  \n",
       "1  Sep 28, 2020       4  google-cbrs-cpi-training  \n",
       "2  Apr 08, 2020       4  google-cbrs-cpi-training  \n",
       "3  Feb 24, 2020       4  google-cbrs-cpi-training  \n",
       "4  Jun 18, 2020       4  google-cbrs-cpi-training  "
      ]
     },
     "execution_count": 50,
     "metadata": {},
     "output_type": "execute_result"
    }
   ],
   "source": [
    "# header\n",
    "coursera_reviews.head()"
   ]
  },
  {
   "cell_type": "code",
   "execution_count": 104,
   "metadata": {},
   "outputs": [
    {
     "data": {
      "text/plain": [
       "604"
      ]
     },
     "execution_count": 104,
     "metadata": {},
     "output_type": "execute_result"
    }
   ],
   "source": [
    "len(coursera_reviews['course_id'].unique())"
   ]
  },
  {
   "cell_type": "code",
   "execution_count": 51,
   "metadata": {},
   "outputs": [
    {
     "data": {
      "text/plain": [
       "(1454711, 5)"
      ]
     },
     "execution_count": 51,
     "metadata": {},
     "output_type": "execute_result"
    }
   ],
   "source": [
    "# dimensiones\n",
    "coursera_reviews.shape"
   ]
  },
  {
   "cell_type": "code",
   "execution_count": 54,
   "metadata": {},
   "outputs": [
    {
     "data": {
      "text/plain": [
       "reviews         object\n",
       "reviewers       object\n",
       "date_reviews    object\n",
       "rating           int64\n",
       "course_id       object\n",
       "dtype: object"
      ]
     },
     "execution_count": 54,
     "metadata": {},
     "output_type": "execute_result"
    }
   ],
   "source": [
    "# tipos de datos\n",
    "''' de aquí vemos que sería útil formatear la fecha, y también revisar el course_id '''\n",
    "coursera_reviews.dtypes"
   ]
  },
  {
   "cell_type": "code",
   "execution_count": 65,
   "metadata": {},
   "outputs": [
    {
     "data": {
      "text/html": [
       "<div>\n",
       "<style scoped>\n",
       "    .dataframe tbody tr th:only-of-type {\n",
       "        vertical-align: middle;\n",
       "    }\n",
       "\n",
       "    .dataframe tbody tr th {\n",
       "        vertical-align: top;\n",
       "    }\n",
       "\n",
       "    .dataframe thead th {\n",
       "        text-align: right;\n",
       "    }\n",
       "</style>\n",
       "<table border=\"1\" class=\"dataframe\">\n",
       "  <thead>\n",
       "    <tr style=\"text-align: right;\">\n",
       "      <th></th>\n",
       "      <th>rating</th>\n",
       "    </tr>\n",
       "  </thead>\n",
       "  <tbody>\n",
       "    <tr>\n",
       "      <th>count</th>\n",
       "      <td>1.454711e+06</td>\n",
       "    </tr>\n",
       "    <tr>\n",
       "      <th>mean</th>\n",
       "      <td>4.696649e+00</td>\n",
       "    </tr>\n",
       "    <tr>\n",
       "      <th>std</th>\n",
       "      <td>6.983271e-01</td>\n",
       "    </tr>\n",
       "    <tr>\n",
       "      <th>min</th>\n",
       "      <td>1.000000e+00</td>\n",
       "    </tr>\n",
       "    <tr>\n",
       "      <th>25%</th>\n",
       "      <td>5.000000e+00</td>\n",
       "    </tr>\n",
       "    <tr>\n",
       "      <th>50%</th>\n",
       "      <td>5.000000e+00</td>\n",
       "    </tr>\n",
       "    <tr>\n",
       "      <th>75%</th>\n",
       "      <td>5.000000e+00</td>\n",
       "    </tr>\n",
       "    <tr>\n",
       "      <th>max</th>\n",
       "      <td>5.000000e+00</td>\n",
       "    </tr>\n",
       "  </tbody>\n",
       "</table>\n",
       "</div>"
      ],
      "text/plain": [
       "             rating\n",
       "count  1.454711e+06\n",
       "mean   4.696649e+00\n",
       "std    6.983271e-01\n",
       "min    1.000000e+00\n",
       "25%    5.000000e+00\n",
       "50%    5.000000e+00\n",
       "75%    5.000000e+00\n",
       "max    5.000000e+00"
      ]
     },
     "execution_count": 65,
     "metadata": {},
     "output_type": "execute_result"
    }
   ],
   "source": [
    "coursera_reviews.describe()"
   ]
  },
  {
   "cell_type": "code",
   "execution_count": 53,
   "metadata": {},
   "outputs": [
    {
     "data": {
      "text/plain": [
       "reviews         140\n",
       "reviewers         0\n",
       "date_reviews      0\n",
       "rating            0\n",
       "course_id         0\n",
       "dtype: int64"
      ]
     },
     "execution_count": 53,
     "metadata": {},
     "output_type": "execute_result"
    }
   ],
   "source": [
    "# campos vacíos de coursera_reviews\n",
    "''' podríamos prescindir de los nulos al no ser representativos respecto al número total de filas'''\n",
    "coursera_reviews.isnull().sum()"
   ]
  },
  {
   "cell_type": "code",
   "execution_count": 115,
   "metadata": {},
   "outputs": [
    {
     "data": {
      "text/plain": [
       "934764"
      ]
     },
     "execution_count": 115,
     "metadata": {},
     "output_type": "execute_result"
    }
   ],
   "source": [
    "# cantdad de valores duplicados\n",
    "''' \n",
    "habría que eliminar duplicados\n",
    "'''\n",
    "coursera_reviews.duplicated().sum()"
   ]
  },
  {
   "cell_type": "code",
   "execution_count": 116,
   "metadata": {},
   "outputs": [
    {
     "data": {
      "text/html": [
       "<div>\n",
       "<style scoped>\n",
       "    .dataframe tbody tr th:only-of-type {\n",
       "        vertical-align: middle;\n",
       "    }\n",
       "\n",
       "    .dataframe tbody tr th {\n",
       "        vertical-align: top;\n",
       "    }\n",
       "\n",
       "    .dataframe thead th {\n",
       "        text-align: right;\n",
       "    }\n",
       "</style>\n",
       "<table border=\"1\" class=\"dataframe\">\n",
       "  <thead>\n",
       "    <tr style=\"text-align: right;\">\n",
       "      <th></th>\n",
       "      <th>reviews</th>\n",
       "      <th>reviewers</th>\n",
       "      <th>date_reviews</th>\n",
       "      <th>rating</th>\n",
       "      <th>course_id</th>\n",
       "    </tr>\n",
       "  </thead>\n",
       "  <tbody>\n",
       "    <tr>\n",
       "      <th>73690</th>\n",
       "      <td>G</td>\n",
       "      <td>By Reza S</td>\n",
       "      <td>Aug 12, 2018</td>\n",
       "      <td>5</td>\n",
       "      <td>computer-networking</td>\n",
       "    </tr>\n",
       "    <tr>\n",
       "      <th>1454688</th>\n",
       "      <td>G</td>\n",
       "      <td>By Reza S</td>\n",
       "      <td>Aug 12, 2018</td>\n",
       "      <td>5</td>\n",
       "      <td>computer-networking</td>\n",
       "    </tr>\n",
       "    <tr>\n",
       "      <th>1454710</th>\n",
       "      <td>G</td>\n",
       "      <td>By Reza S</td>\n",
       "      <td>Aug 12, 2018</td>\n",
       "      <td>5</td>\n",
       "      <td>computer-networking</td>\n",
       "    </tr>\n",
       "  </tbody>\n",
       "</table>\n",
       "</div>"
      ],
      "text/plain": [
       "        reviews  reviewers  date_reviews  rating            course_id\n",
       "73690         G  By Reza S  Aug 12, 2018       5  computer-networking\n",
       "1454688       G  By Reza S  Aug 12, 2018       5  computer-networking\n",
       "1454710       G  By Reza S  Aug 12, 2018       5  computer-networking"
      ]
     },
     "execution_count": 116,
     "metadata": {},
     "output_type": "execute_result"
    }
   ],
   "source": [
    "# por ejemplo\n",
    "coursera_reviews[(coursera_reviews['reviews'] == 'G') & (coursera_reviews['reviewers'] == 'By Reza S') & \n",
    "                 (coursera_reviews['rating'] == 5)]"
   ]
  },
  {
   "cell_type": "code",
   "execution_count": 55,
   "metadata": {},
   "outputs": [
    {
     "name": "stdout",
     "output_type": "stream",
     "text": [
      "458278\n",
      "287808\n",
      "5\n",
      "604\n"
     ]
    }
   ],
   "source": [
    "# valores diferentes por columna para coursera reviews\n",
    "print(len(coursera_reviews['reviews'].unique()))\n",
    "print(len(coursera_reviews['reviewers'].unique()))\n",
    "print(len(coursera_reviews['rating'].unique()))\n",
    "print(len(coursera_reviews['course_id'].unique()))"
   ]
  },
  {
   "cell_type": "code",
   "execution_count": 62,
   "metadata": {},
   "outputs": [
    {
     "data": {
      "text/plain": [
       "good                                                                                                                                                                                                                                                                                                                                                          8827\n",
       "Good                                                                                                                                                                                                                                                                                                                                                          5445\n",
       "Excellent                                                                                                                                                                                                                                                                                                                                                     3678\n",
       "Great course!                                                                                                                                                                                                                                                                                                                                                 2446\n",
       "great                                                                                                                                                                                                                                                                                                                                                         2151\n",
       "                                                                                                                                                                                                                                                                                                                                                              ... \n",
       "i have completed all 5 courses of this series,  i am proud of myself                                                                                                                                                                                                                                                                                             1\n",
       "That's really an integrated practice of all the skills learnt before!                                                                                                                                                                                                                                                                                            1\n",
       "Very helpful. I learned to build my first data visualization project.                                                                                                                                                                                                                                                                                            1\n",
       "Thank you, it has been wonderful learning from Dr. Chuck about python                                                                                                                                                                                                                                                                                            1\n",
       "Pretty dry, but I was able to pass with just two complete watches so I'm happy about that.  As usual there were some questions on the final exam that were NO WHERE in the course, which is annoying but far better than many microsoft tests I have taken.  Never found the suplimental material that the course references... but who cares... i passed!       1\n",
       "Name: reviews, Length: 458277, dtype: int64"
      ]
     },
     "execution_count": 62,
     "metadata": {},
     "output_type": "execute_result"
    }
   ],
   "source": [
    "# aquí hay que formatear datos en la limpieza\n",
    "coursera_reviews['reviews'].value_counts()"
   ]
  },
  {
   "cell_type": "code",
   "execution_count": 63,
   "metadata": {},
   "outputs": [
    {
     "data": {
      "text/plain": [
       "By Deleted A     5412\n",
       "By Muhammad A     649\n",
       "By Abhishek S     440\n",
       "By David M        435\n",
       "By Michael S      431\n",
       "                 ... \n",
       "By Calvin N         1\n",
       "By Kachan O V       1\n",
       "By Tan S X A        1\n",
       "By Yusong S         1\n",
       "By Yu-Jhen-Wu       1\n",
       "Name: reviewers, Length: 287808, dtype: int64"
      ]
     },
     "execution_count": 63,
     "metadata": {},
     "output_type": "execute_result"
    }
   ],
   "source": [
    "# para los más de 200,000 reviewers\n",
    "coursera_reviews['reviewers'].value_counts()"
   ]
  },
  {
   "cell_type": "code",
   "execution_count": 64,
   "metadata": {},
   "outputs": [
    {
     "data": {
      "text/plain": [
       "<AxesSubplot:>"
      ]
     },
     "execution_count": 64,
     "metadata": {},
     "output_type": "execute_result"
    },
    {
     "data": {
      "image/png": "[encoded data removed]",
      "text/plain": [
       "<Figure size 640x480 with 1 Axes>"
      ]
     },
     "metadata": {},
     "output_type": "display_data"
    }
   ],
   "source": [
    "# histograma de la columna 'rating'. Vemos que la gran mayoría son reseñas de 5 puntos\n",
    "coursera_reviews['rating'].hist(bins=10)"
   ]
  },
  {
   "attachments": {},
   "cell_type": "markdown",
   "metadata": {},
   "source": [
    "## edx_courses dataframe"
   ]
  },
  {
   "cell_type": "code",
   "execution_count": 235,
   "metadata": {},
   "outputs": [
    {
     "data": {
      "text/html": [
       "<div>\n",
       "<style scoped>\n",
       "    .dataframe tbody tr th:only-of-type {\n",
       "        vertical-align: middle;\n",
       "    }\n",
       "\n",
       "    .dataframe tbody tr th {\n",
       "        vertical-align: top;\n",
       "    }\n",
       "\n",
       "    .dataframe thead th {\n",
       "        text-align: right;\n",
       "    }\n",
       "</style>\n",
       "<table border=\"1\" class=\"dataframe\">\n",
       "  <thead>\n",
       "    <tr style=\"text-align: right;\">\n",
       "      <th></th>\n",
       "      <th>title</th>\n",
       "      <th>summary</th>\n",
       "      <th>n_enrolled</th>\n",
       "      <th>course_type</th>\n",
       "      <th>institution</th>\n",
       "      <th>instructors</th>\n",
       "      <th>Level</th>\n",
       "      <th>subject</th>\n",
       "      <th>language</th>\n",
       "      <th>subtitles</th>\n",
       "      <th>course_effort</th>\n",
       "      <th>course_length</th>\n",
       "      <th>price</th>\n",
       "      <th>course_description</th>\n",
       "      <th>course_syllabus</th>\n",
       "      <th>course_url</th>\n",
       "    </tr>\n",
       "  </thead>\n",
       "  <tbody>\n",
       "    <tr>\n",
       "      <th>0</th>\n",
       "      <td>How to Learn Online</td>\n",
       "      <td>Learn essential strategies for successful onli...</td>\n",
       "      <td>124,980</td>\n",
       "      <td>Self-paced on your time</td>\n",
       "      <td>edX</td>\n",
       "      <td>Nina Huntemann-Robyn Belair-Ben Piscopo</td>\n",
       "      <td>Introductory</td>\n",
       "      <td>Education &amp; Teacher Training</td>\n",
       "      <td>English</td>\n",
       "      <td>English</td>\n",
       "      <td>2–3 hours per week</td>\n",
       "      <td>2 Weeks</td>\n",
       "      <td>FREE-Add a Verified Certificate for $49 USD</td>\n",
       "      <td>Designed for those who are new to elearning, t...</td>\n",
       "      <td>Welcome - We start with opportunities to meet ...</td>\n",
       "      <td>https://www.edx.org/course/how-to-learn-online</td>\n",
       "    </tr>\n",
       "    <tr>\n",
       "      <th>1</th>\n",
       "      <td>Programming for Everybody (Getting Started wit...</td>\n",
       "      <td>This course is a \"no prerequisite\" introductio...</td>\n",
       "      <td>293,864</td>\n",
       "      <td>Self-paced on your time</td>\n",
       "      <td>The University of Michigan</td>\n",
       "      <td>Charles Severance</td>\n",
       "      <td>Introductory</td>\n",
       "      <td>Computer Science</td>\n",
       "      <td>English</td>\n",
       "      <td>English</td>\n",
       "      <td>2–4 hours per week</td>\n",
       "      <td>7 Weeks</td>\n",
       "      <td>FREE-Add a Verified Certificate for $49 USD</td>\n",
       "      <td>This course aims to teach everyone the basics ...</td>\n",
       "      <td>NaN</td>\n",
       "      <td>https://www.edx.org/course/programming-for-eve...</td>\n",
       "    </tr>\n",
       "    <tr>\n",
       "      <th>2</th>\n",
       "      <td>CS50's Introduction to Computer Science</td>\n",
       "      <td>An introduction to the intellectual enterprise...</td>\n",
       "      <td>2,442,271</td>\n",
       "      <td>Self-paced on your time</td>\n",
       "      <td>Harvard University</td>\n",
       "      <td>David J. Malan-Doug Lloyd-Brian Yu</td>\n",
       "      <td>Introductory</td>\n",
       "      <td>Computer Science</td>\n",
       "      <td>English</td>\n",
       "      <td>English</td>\n",
       "      <td>6–18 hours per week</td>\n",
       "      <td>12 Weeks</td>\n",
       "      <td>FREE-Add a Verified Certificate for $90 USD</td>\n",
       "      <td>This is CS50x , Harvard University's introduct...</td>\n",
       "      <td>NaN</td>\n",
       "      <td>https://www.edx.org/course/cs50s-introduction-...</td>\n",
       "    </tr>\n",
       "    <tr>\n",
       "      <th>3</th>\n",
       "      <td>The Analytics Edge</td>\n",
       "      <td>Through inspiring examples and stories, discov...</td>\n",
       "      <td>129,555</td>\n",
       "      <td>Instructor-led on a course schedule</td>\n",
       "      <td>Massachusetts Institute of Technology</td>\n",
       "      <td>Dimitris Bertsimas-Allison O'Hair-John Silberh...</td>\n",
       "      <td>Intermediate</td>\n",
       "      <td>Data Analysis &amp; Statistics</td>\n",
       "      <td>English</td>\n",
       "      <td>English</td>\n",
       "      <td>10–15 hours per week</td>\n",
       "      <td>13 Weeks</td>\n",
       "      <td>FREE-Add a Verified Certificate for $199 USD</td>\n",
       "      <td>In the last decade, the amount of data availab...</td>\n",
       "      <td>NaN</td>\n",
       "      <td>https://www.edx.org/course/the-analytics-edge</td>\n",
       "    </tr>\n",
       "    <tr>\n",
       "      <th>4</th>\n",
       "      <td>Marketing Analytics: Marketing Measurement Str...</td>\n",
       "      <td>This course is part of a MicroMasters® Program</td>\n",
       "      <td>81,140</td>\n",
       "      <td>Self-paced on your time</td>\n",
       "      <td>University of California, Berkeley</td>\n",
       "      <td>Stephan Sorger</td>\n",
       "      <td>Introductory</td>\n",
       "      <td>Computer Science</td>\n",
       "      <td>English</td>\n",
       "      <td>English</td>\n",
       "      <td>5–7 hours per week</td>\n",
       "      <td>4 Weeks</td>\n",
       "      <td>FREE-Add a Verified Certificate for $249 USD</td>\n",
       "      <td>Begin your journey in a new career in marketin...</td>\n",
       "      <td>NaN</td>\n",
       "      <td>https://www.edx.org/course/marketing-analytics...</td>\n",
       "    </tr>\n",
       "  </tbody>\n",
       "</table>\n",
       "</div>"
      ],
      "text/plain": [
       "                                               title  \\\n",
       "0                                How to Learn Online   \n",
       "1  Programming for Everybody (Getting Started wit...   \n",
       "2            CS50's Introduction to Computer Science   \n",
       "3                                 The Analytics Edge   \n",
       "4  Marketing Analytics: Marketing Measurement Str...   \n",
       "\n",
       "                                             summary n_enrolled  \\\n",
       "0  Learn essential strategies for successful onli...    124,980   \n",
       "1  This course is a \"no prerequisite\" introductio...    293,864   \n",
       "2  An introduction to the intellectual enterprise...  2,442,271   \n",
       "3  Through inspiring examples and stories, discov...    129,555   \n",
       "4     This course is part of a MicroMasters® Program     81,140   \n",
       "\n",
       "                           course_type                            institution  \\\n",
       "0              Self-paced on your time                                    edX   \n",
       "1              Self-paced on your time             The University of Michigan   \n",
       "2              Self-paced on your time                     Harvard University   \n",
       "3  Instructor-led on a course schedule  Massachusetts Institute of Technology   \n",
       "4              Self-paced on your time     University of California, Berkeley   \n",
       "\n",
       "                                         instructors         Level  \\\n",
       "0            Nina Huntemann-Robyn Belair-Ben Piscopo  Introductory   \n",
       "1                                  Charles Severance  Introductory   \n",
       "2                 David J. Malan-Doug Lloyd-Brian Yu  Introductory   \n",
       "3  Dimitris Bertsimas-Allison O'Hair-John Silberh...  Intermediate   \n",
       "4                                     Stephan Sorger  Introductory   \n",
       "\n",
       "                        subject language subtitles         course_effort  \\\n",
       "0  Education & Teacher Training  English   English    2–3 hours per week   \n",
       "1              Computer Science  English   English    2–4 hours per week   \n",
       "2              Computer Science  English   English   6–18 hours per week   \n",
       "3    Data Analysis & Statistics  English   English  10–15 hours per week   \n",
       "4              Computer Science  English   English    5–7 hours per week   \n",
       "\n",
       "  course_length                                         price  \\\n",
       "0       2 Weeks   FREE-Add a Verified Certificate for $49 USD   \n",
       "1       7 Weeks   FREE-Add a Verified Certificate for $49 USD   \n",
       "2      12 Weeks   FREE-Add a Verified Certificate for $90 USD   \n",
       "3      13 Weeks  FREE-Add a Verified Certificate for $199 USD   \n",
       "4       4 Weeks  FREE-Add a Verified Certificate for $249 USD   \n",
       "\n",
       "                                  course_description  \\\n",
       "0  Designed for those who are new to elearning, t...   \n",
       "1  This course aims to teach everyone the basics ...   \n",
       "2  This is CS50x , Harvard University's introduct...   \n",
       "3  In the last decade, the amount of data availab...   \n",
       "4  Begin your journey in a new career in marketin...   \n",
       "\n",
       "                                     course_syllabus  \\\n",
       "0  Welcome - We start with opportunities to meet ...   \n",
       "1                                                NaN   \n",
       "2                                                NaN   \n",
       "3                                                NaN   \n",
       "4                                                NaN   \n",
       "\n",
       "                                          course_url  \n",
       "0     https://www.edx.org/course/how-to-learn-online  \n",
       "1  https://www.edx.org/course/programming-for-eve...  \n",
       "2  https://www.edx.org/course/cs50s-introduction-...  \n",
       "3      https://www.edx.org/course/the-analytics-edge  \n",
       "4  https://www.edx.org/course/marketing-analytics...  "
      ]
     },
     "execution_count": 235,
     "metadata": {},
     "output_type": "execute_result"
    }
   ],
   "source": [
    "# edx_courses\n",
    "\n",
    "edx_courses.head()\n"
   ]
  },
  {
   "cell_type": "code",
   "execution_count": null,
   "metadata": {},
   "outputs": [],
   "source": [
    "''' checar course_effort para poder cuantizar variables\n",
    "    formatear course_length\n",
    "    formnatear el título de la columna Level\n",
    "    formatear price\n",
    "    checar course syllabus\n",
    "    se podría eliminar la columna syllabus '''"
   ]
  },
  {
   "cell_type": "code",
   "execution_count": 236,
   "metadata": {},
   "outputs": [
    {
     "data": {
      "text/plain": [
       "(975, 16)"
      ]
     },
     "execution_count": 236,
     "metadata": {},
     "output_type": "execute_result"
    }
   ],
   "source": [
    "# dimensiones de edx_courses\n",
    "edx_courses.shape"
   ]
  },
  {
   "cell_type": "code",
   "execution_count": 237,
   "metadata": {},
   "outputs": [
    {
     "data": {
      "text/plain": [
       "title                 object\n",
       "summary               object\n",
       "n_enrolled            object\n",
       "course_type           object\n",
       "institution           object\n",
       "instructors           object\n",
       "Level                 object\n",
       "subject               object\n",
       "language              object\n",
       "subtitles             object\n",
       "course_effort         object\n",
       "course_length         object\n",
       "price                 object\n",
       "course_description    object\n",
       "course_syllabus       object\n",
       "course_url            object\n",
       "dtype: object"
      ]
     },
     "execution_count": 237,
     "metadata": {},
     "output_type": "execute_result"
    }
   ],
   "source": [
    "# tipo de datos\n",
    "\n",
    "edx_courses.dtypes"
   ]
  },
  {
   "cell_type": "code",
   "execution_count": 238,
   "metadata": {},
   "outputs": [
    {
     "name": "stdout",
     "output_type": "stream",
     "text": [
      " a considerar siempre las dimensiones:  (975, 16)\n"
     ]
    },
    {
     "data": {
      "text/html": [
       "<div>\n",
       "<style scoped>\n",
       "    .dataframe tbody tr th:only-of-type {\n",
       "        vertical-align: middle;\n",
       "    }\n",
       "\n",
       "    .dataframe tbody tr th {\n",
       "        vertical-align: top;\n",
       "    }\n",
       "\n",
       "    .dataframe thead th {\n",
       "        text-align: right;\n",
       "    }\n",
       "</style>\n",
       "<table border=\"1\" class=\"dataframe\">\n",
       "  <thead>\n",
       "    <tr style=\"text-align: right;\">\n",
       "      <th></th>\n",
       "      <th>title</th>\n",
       "      <th>summary</th>\n",
       "      <th>n_enrolled</th>\n",
       "      <th>course_type</th>\n",
       "      <th>institution</th>\n",
       "      <th>instructors</th>\n",
       "      <th>Level</th>\n",
       "      <th>subject</th>\n",
       "      <th>language</th>\n",
       "      <th>subtitles</th>\n",
       "      <th>course_effort</th>\n",
       "      <th>course_length</th>\n",
       "      <th>price</th>\n",
       "      <th>course_description</th>\n",
       "      <th>course_syllabus</th>\n",
       "      <th>course_url</th>\n",
       "    </tr>\n",
       "  </thead>\n",
       "  <tbody>\n",
       "    <tr>\n",
       "      <th>count</th>\n",
       "      <td>975</td>\n",
       "      <td>922</td>\n",
       "      <td>855</td>\n",
       "      <td>975</td>\n",
       "      <td>975</td>\n",
       "      <td>972</td>\n",
       "      <td>975</td>\n",
       "      <td>975</td>\n",
       "      <td>975</td>\n",
       "      <td>972</td>\n",
       "      <td>975</td>\n",
       "      <td>975</td>\n",
       "      <td>975</td>\n",
       "      <td>935</td>\n",
       "      <td>417</td>\n",
       "      <td>975</td>\n",
       "    </tr>\n",
       "    <tr>\n",
       "      <th>unique</th>\n",
       "      <td>972</td>\n",
       "      <td>887</td>\n",
       "      <td>849</td>\n",
       "      <td>2</td>\n",
       "      <td>111</td>\n",
       "      <td>775</td>\n",
       "      <td>3</td>\n",
       "      <td>31</td>\n",
       "      <td>9</td>\n",
       "      <td>33</td>\n",
       "      <td>53</td>\n",
       "      <td>18</td>\n",
       "      <td>47</td>\n",
       "      <td>932</td>\n",
       "      <td>412</td>\n",
       "      <td>974</td>\n",
       "    </tr>\n",
       "    <tr>\n",
       "      <th>top</th>\n",
       "      <td>Introduction to Probability</td>\n",
       "      <td>This course is part of a MicroMasters® Program</td>\n",
       "      <td>97,291</td>\n",
       "      <td>Self-paced on your time</td>\n",
       "      <td>Harvard University</td>\n",
       "      <td>Rafael Irizarry</td>\n",
       "      <td>Introductory</td>\n",
       "      <td>Computer Science</td>\n",
       "      <td>English</td>\n",
       "      <td>English</td>\n",
       "      <td>2–4 hours per week</td>\n",
       "      <td>4 Weeks</td>\n",
       "      <td>FREE-Add a Verified Certificate for $49 USD</td>\n",
       "      <td>About the Database Series of Courses\"Databases...</td>\n",
       "      <td>Course Outline:</td>\n",
       "      <td>https://www.edx.org/course/introduction-to-pro...</td>\n",
       "    </tr>\n",
       "    <tr>\n",
       "      <th>freq</th>\n",
       "      <td>2</td>\n",
       "      <td>15</td>\n",
       "      <td>2</td>\n",
       "      <td>917</td>\n",
       "      <td>104</td>\n",
       "      <td>9</td>\n",
       "      <td>621</td>\n",
       "      <td>166</td>\n",
       "      <td>777</td>\n",
       "      <td>713</td>\n",
       "      <td>108</td>\n",
       "      <td>194</td>\n",
       "      <td>270</td>\n",
       "      <td>3</td>\n",
       "      <td>3</td>\n",
       "      <td>2</td>\n",
       "    </tr>\n",
       "  </tbody>\n",
       "</table>\n",
       "</div>"
      ],
      "text/plain": [
       "                              title  \\\n",
       "count                           975   \n",
       "unique                          972   \n",
       "top     Introduction to Probability   \n",
       "freq                              2   \n",
       "\n",
       "                                               summary n_enrolled  \\\n",
       "count                                              922        855   \n",
       "unique                                             887        849   \n",
       "top     This course is part of a MicroMasters® Program     97,291   \n",
       "freq                                                15          2   \n",
       "\n",
       "                    course_type         institution      instructors  \\\n",
       "count                       975                 975              972   \n",
       "unique                        2                 111              775   \n",
       "top     Self-paced on your time  Harvard University  Rafael Irizarry   \n",
       "freq                        917                 104                9   \n",
       "\n",
       "               Level           subject language subtitles       course_effort  \\\n",
       "count            975               975      975       972                 975   \n",
       "unique             3                31        9        33                  53   \n",
       "top     Introductory  Computer Science  English   English  2–4 hours per week   \n",
       "freq             621               166      777       713                 108   \n",
       "\n",
       "       course_length                                        price  \\\n",
       "count            975                                          975   \n",
       "unique            18                                           47   \n",
       "top          4 Weeks  FREE-Add a Verified Certificate for $49 USD   \n",
       "freq             194                                          270   \n",
       "\n",
       "                                       course_description  course_syllabus  \\\n",
       "count                                                 935              417   \n",
       "unique                                                932              412   \n",
       "top     About the Database Series of Courses\"Databases...  Course Outline:   \n",
       "freq                                                    3                3   \n",
       "\n",
       "                                               course_url  \n",
       "count                                                 975  \n",
       "unique                                                974  \n",
       "top     https://www.edx.org/course/introduction-to-pro...  \n",
       "freq                                                    2  "
      ]
     },
     "execution_count": 238,
     "metadata": {},
     "output_type": "execute_result"
    }
   ],
   "source": [
    "# descripción\n",
    "print(' a considerar siempre las dimensiones: ', edx_courses.shape)\n",
    "edx_courses.describe()"
   ]
  },
  {
   "cell_type": "code",
   "execution_count": 239,
   "metadata": {},
   "outputs": [
    {
     "data": {
      "text/plain": [
       "English          777\n",
       "Español          176\n",
       "Français           7\n",
       "Italiano           4\n",
       "中文                 4\n",
       "Português          4\n",
       "日本語                1\n",
       "اللغة العربية      1\n",
       "Deutsch            1\n",
       "Name: language, dtype: int64"
      ]
     },
     "execution_count": 239,
     "metadata": {},
     "output_type": "execute_result"
    }
   ],
   "source": [
    "edx_courses['language'].value_counts()"
   ]
  },
  {
   "cell_type": "code",
   "execution_count": null,
   "metadata": {},
   "outputs": [],
   "source": [
    "'''\n",
    "formatear n_enrolled\n",
    "'''"
   ]
  },
  {
   "cell_type": "code",
   "execution_count": 240,
   "metadata": {},
   "outputs": [
    {
     "data": {
      "text/plain": [
       "title                   0\n",
       "summary                53\n",
       "n_enrolled            120\n",
       "course_type             0\n",
       "institution             0\n",
       "instructors             3\n",
       "Level                   0\n",
       "subject                 0\n",
       "language                0\n",
       "subtitles               3\n",
       "course_effort           0\n",
       "course_length           0\n",
       "price                   0\n",
       "course_description     40\n",
       "course_syllabus       558\n",
       "course_url              0\n",
       "dtype: int64"
      ]
     },
     "execution_count": 240,
     "metadata": {},
     "output_type": "execute_result"
    }
   ],
   "source": [
    "# valores nulos\n",
    "edx_courses.isnull().sum()"
   ]
  },
  {
   "cell_type": "code",
   "execution_count": 241,
   "metadata": {},
   "outputs": [
    {
     "data": {
      "text/plain": [
       "1"
      ]
     },
     "execution_count": 241,
     "metadata": {},
     "output_type": "execute_result"
    }
   ],
   "source": [
    "# valores duplicados\n",
    "''' \n",
    "hay que eliminar duplicados\n",
    "'''\n",
    "edx_courses.duplicated().sum()"
   ]
  },
  {
   "cell_type": "code",
   "execution_count": 242,
   "metadata": {},
   "outputs": [
    {
     "data": {
      "text/html": [
       "<div>\n",
       "<style scoped>\n",
       "    .dataframe tbody tr th:only-of-type {\n",
       "        vertical-align: middle;\n",
       "    }\n",
       "\n",
       "    .dataframe tbody tr th {\n",
       "        vertical-align: top;\n",
       "    }\n",
       "\n",
       "    .dataframe thead th {\n",
       "        text-align: right;\n",
       "    }\n",
       "</style>\n",
       "<table border=\"1\" class=\"dataframe\">\n",
       "  <thead>\n",
       "    <tr style=\"text-align: right;\">\n",
       "      <th></th>\n",
       "      <th>title</th>\n",
       "      <th>summary</th>\n",
       "      <th>n_enrolled</th>\n",
       "      <th>course_type</th>\n",
       "      <th>institution</th>\n",
       "      <th>instructors</th>\n",
       "      <th>Level</th>\n",
       "      <th>subject</th>\n",
       "      <th>language</th>\n",
       "      <th>subtitles</th>\n",
       "      <th>course_effort</th>\n",
       "      <th>course_length</th>\n",
       "      <th>price</th>\n",
       "      <th>course_description</th>\n",
       "      <th>course_syllabus</th>\n",
       "      <th>course_url</th>\n",
       "    </tr>\n",
       "  </thead>\n",
       "  <tbody>\n",
       "    <tr>\n",
       "      <th>59</th>\n",
       "      <td>Introduction to Probability</td>\n",
       "      <td>Learn probability, an essential language and s...</td>\n",
       "      <td>97,291</td>\n",
       "      <td>Self-paced on your time</td>\n",
       "      <td>Harvard University</td>\n",
       "      <td>Joseph Blitzstein</td>\n",
       "      <td>Intermediate</td>\n",
       "      <td>Data Analysis &amp; Statistics</td>\n",
       "      <td>English</td>\n",
       "      <td>English</td>\n",
       "      <td>5–10 hours per week</td>\n",
       "      <td>10 Weeks</td>\n",
       "      <td>FREE-Add a Verified Certificate for $99 USD</td>\n",
       "      <td>Probability and statistics help to bring logic...</td>\n",
       "      <td>NaN</td>\n",
       "      <td>https://www.edx.org/course/introduction-to-pro...</td>\n",
       "    </tr>\n",
       "    <tr>\n",
       "      <th>95</th>\n",
       "      <td>Introduction to Probability</td>\n",
       "      <td>Learn probability, an essential language and s...</td>\n",
       "      <td>97,291</td>\n",
       "      <td>Self-paced on your time</td>\n",
       "      <td>Harvard University</td>\n",
       "      <td>Joseph Blitzstein</td>\n",
       "      <td>Intermediate</td>\n",
       "      <td>Data Analysis &amp; Statistics</td>\n",
       "      <td>English</td>\n",
       "      <td>English</td>\n",
       "      <td>5–10 hours per week</td>\n",
       "      <td>10 Weeks</td>\n",
       "      <td>FREE-Add a Verified Certificate for $99 USD</td>\n",
       "      <td>Probability and statistics help to bring logic...</td>\n",
       "      <td>NaN</td>\n",
       "      <td>https://www.edx.org/course/introduction-to-pro...</td>\n",
       "    </tr>\n",
       "  </tbody>\n",
       "</table>\n",
       "</div>"
      ],
      "text/plain": [
       "                          title  \\\n",
       "59  Introduction to Probability   \n",
       "95  Introduction to Probability   \n",
       "\n",
       "                                              summary n_enrolled  \\\n",
       "59  Learn probability, an essential language and s...     97,291   \n",
       "95  Learn probability, an essential language and s...     97,291   \n",
       "\n",
       "                course_type         institution        instructors  \\\n",
       "59  Self-paced on your time  Harvard University  Joseph Blitzstein   \n",
       "95  Self-paced on your time  Harvard University  Joseph Blitzstein   \n",
       "\n",
       "           Level                     subject language subtitles  \\\n",
       "59  Intermediate  Data Analysis & Statistics  English   English   \n",
       "95  Intermediate  Data Analysis & Statistics  English   English   \n",
       "\n",
       "          course_effort course_length  \\\n",
       "59  5–10 hours per week      10 Weeks   \n",
       "95  5–10 hours per week      10 Weeks   \n",
       "\n",
       "                                          price  \\\n",
       "59  FREE-Add a Verified Certificate for $99 USD   \n",
       "95  FREE-Add a Verified Certificate for $99 USD   \n",
       "\n",
       "                                   course_description course_syllabus  \\\n",
       "59  Probability and statistics help to bring logic...             NaN   \n",
       "95  Probability and statistics help to bring logic...             NaN   \n",
       "\n",
       "                                           course_url  \n",
       "59  https://www.edx.org/course/introduction-to-pro...  \n",
       "95  https://www.edx.org/course/introduction-to-pro...  "
      ]
     },
     "execution_count": 242,
     "metadata": {},
     "output_type": "execute_result"
    }
   ],
   "source": [
    "# valor duplicado\n",
    "edx_courses[(edx_courses['title'] == 'Introduction to Probability') & (edx_courses['n_enrolled'] == '97,291')]"
   ]
  },
  {
   "cell_type": "code",
   "execution_count": 243,
   "metadata": {},
   "outputs": [
    {
     "ename": "ValueError",
     "evalue": "hist method requires numerical or datetime columns, nothing to plot.",
     "output_type": "error",
     "traceback": [
      "\u001b[1;31m---------------------------------------------------------------------------\u001b[0m",
      "\u001b[1;31mValueError\u001b[0m                                Traceback (most recent call last)",
      "\u001b[1;32mc:\\Users\\kaod_\\Desktop\\recursos_henry\\Pi3\\PI03-Analytics\\Moocs\\EDA_pi3.ipynb Cell 36\u001b[0m in \u001b[0;36m<cell line: 2>\u001b[1;34m()\u001b[0m\n\u001b[0;32m      <a href='vscode-notebook-cell:/c%3A/Users/kaod_/Desktop/recursos_henry/Pi3/PI03-Analytics/Moocs/EDA_pi3.ipynb#Y103sZmlsZQ%3D%3D?line=0'>1</a>\u001b[0m \u001b[39m# histogramas\u001b[39;00m\n\u001b[1;32m----> <a href='vscode-notebook-cell:/c%3A/Users/kaod_/Desktop/recursos_henry/Pi3/PI03-Analytics/Moocs/EDA_pi3.ipynb#Y103sZmlsZQ%3D%3D?line=1'>2</a>\u001b[0m edx_courses\u001b[39m.\u001b[39;49mhist(bins\u001b[39m=\u001b[39;49m\u001b[39m50\u001b[39;49m, figsize\u001b[39m=\u001b[39;49m(\u001b[39m20\u001b[39;49m,\u001b[39m15\u001b[39;49m))\n",
      "File \u001b[1;32m~\\AppData\\Roaming\\Python\\Python310\\site-packages\\pandas\\plotting\\_core.py:232\u001b[0m, in \u001b[0;36mhist_frame\u001b[1;34m(data, column, by, grid, xlabelsize, xrot, ylabelsize, yrot, ax, sharex, sharey, figsize, layout, bins, backend, legend, **kwargs)\u001b[0m\n\u001b[0;32m    141\u001b[0m \u001b[39m\"\"\"\u001b[39;00m\n\u001b[0;32m    142\u001b[0m \u001b[39mMake a histogram of the DataFrame's columns.\u001b[39;00m\n\u001b[0;32m    143\u001b[0m \n\u001b[1;32m   (...)\u001b[0m\n\u001b[0;32m    229\u001b[0m \u001b[39m    >>> hist = df.hist(bins=3)\u001b[39;00m\n\u001b[0;32m    230\u001b[0m \u001b[39m\"\"\"\u001b[39;00m\n\u001b[0;32m    231\u001b[0m plot_backend \u001b[39m=\u001b[39m _get_plot_backend(backend)\n\u001b[1;32m--> 232\u001b[0m \u001b[39mreturn\u001b[39;00m plot_backend\u001b[39m.\u001b[39mhist_frame(\n\u001b[0;32m    233\u001b[0m     data,\n\u001b[0;32m    234\u001b[0m     column\u001b[39m=\u001b[39mcolumn,\n\u001b[0;32m    235\u001b[0m     by\u001b[39m=\u001b[39mby,\n\u001b[0;32m    236\u001b[0m     grid\u001b[39m=\u001b[39mgrid,\n\u001b[0;32m    237\u001b[0m     xlabelsize\u001b[39m=\u001b[39mxlabelsize,\n\u001b[0;32m    238\u001b[0m     xrot\u001b[39m=\u001b[39mxrot,\n\u001b[0;32m    239\u001b[0m     ylabelsize\u001b[39m=\u001b[39mylabelsize,\n\u001b[0;32m    240\u001b[0m     yrot\u001b[39m=\u001b[39myrot,\n\u001b[0;32m    241\u001b[0m     ax\u001b[39m=\u001b[39max,\n\u001b[0;32m    242\u001b[0m     sharex\u001b[39m=\u001b[39msharex,\n\u001b[0;32m    243\u001b[0m     sharey\u001b[39m=\u001b[39msharey,\n\u001b[0;32m    244\u001b[0m     figsize\u001b[39m=\u001b[39mfigsize,\n\u001b[0;32m    245\u001b[0m     layout\u001b[39m=\u001b[39mlayout,\n\u001b[0;32m    246\u001b[0m     legend\u001b[39m=\u001b[39mlegend,\n\u001b[0;32m    247\u001b[0m     bins\u001b[39m=\u001b[39mbins,\n\u001b[0;32m    248\u001b[0m     \u001b[39m*\u001b[39m\u001b[39m*\u001b[39mkwargs,\n\u001b[0;32m    249\u001b[0m )\n",
      "File \u001b[1;32m~\\AppData\\Roaming\\Python\\Python310\\site-packages\\pandas\\plotting\\_matplotlib\\hist.py:499\u001b[0m, in \u001b[0;36mhist_frame\u001b[1;34m(data, column, by, grid, xlabelsize, xrot, ylabelsize, yrot, ax, sharex, sharey, figsize, layout, bins, legend, **kwds)\u001b[0m\n\u001b[0;32m    496\u001b[0m naxes \u001b[39m=\u001b[39m \u001b[39mlen\u001b[39m(data\u001b[39m.\u001b[39mcolumns)\n\u001b[0;32m    498\u001b[0m \u001b[39mif\u001b[39;00m naxes \u001b[39m==\u001b[39m \u001b[39m0\u001b[39m:\n\u001b[1;32m--> 499\u001b[0m     \u001b[39mraise\u001b[39;00m \u001b[39mValueError\u001b[39;00m(\n\u001b[0;32m    500\u001b[0m         \u001b[39m\"\u001b[39m\u001b[39mhist method requires numerical or datetime columns, nothing to plot.\u001b[39m\u001b[39m\"\u001b[39m\n\u001b[0;32m    501\u001b[0m     )\n\u001b[0;32m    503\u001b[0m fig, axes \u001b[39m=\u001b[39m create_subplots(\n\u001b[0;32m    504\u001b[0m     naxes\u001b[39m=\u001b[39mnaxes,\n\u001b[0;32m    505\u001b[0m     ax\u001b[39m=\u001b[39max,\n\u001b[1;32m   (...)\u001b[0m\n\u001b[0;32m    510\u001b[0m     layout\u001b[39m=\u001b[39mlayout,\n\u001b[0;32m    511\u001b[0m )\n\u001b[0;32m    512\u001b[0m _axes \u001b[39m=\u001b[39m flatten_axes(axes)\n",
      "\u001b[1;31mValueError\u001b[0m: hist method requires numerical or datetime columns, nothing to plot."
     ]
    }
   ],
   "source": [
    "# histogramas\n",
    "edx_courses.hist(bins=50, figsize=(20,15))"
   ]
  },
  {
   "cell_type": "code",
   "execution_count": null,
   "metadata": {},
   "outputs": [],
   "source": [
    "# para obtener gráficos de dispersión y la matrizde correlación, es necesario tener datos numéricos."
   ]
  },
  {
   "attachments": {},
   "cell_type": "markdown",
   "metadata": {},
   "source": [
    "## udemy_courses"
   ]
  },
  {
   "cell_type": "code",
   "execution_count": 12,
   "metadata": {},
   "outputs": [
    {
     "data": {
      "text/html": [
       "<div>\n",
       "<style scoped>\n",
       "    .dataframe tbody tr th:only-of-type {\n",
       "        vertical-align: middle;\n",
       "    }\n",
       "\n",
       "    .dataframe tbody tr th {\n",
       "        vertical-align: top;\n",
       "    }\n",
       "\n",
       "    .dataframe thead th {\n",
       "        text-align: right;\n",
       "    }\n",
       "</style>\n",
       "<table border=\"1\" class=\"dataframe\">\n",
       "  <thead>\n",
       "    <tr style=\"text-align: right;\">\n",
       "      <th></th>\n",
       "      <th>course_id</th>\n",
       "      <th>course_title</th>\n",
       "      <th>url</th>\n",
       "      <th>is_paid</th>\n",
       "      <th>price</th>\n",
       "      <th>num_subscribers</th>\n",
       "      <th>num_reviews</th>\n",
       "      <th>num_lectures</th>\n",
       "      <th>level</th>\n",
       "      <th>content_duration</th>\n",
       "      <th>published_timestamp</th>\n",
       "      <th>subject</th>\n",
       "    </tr>\n",
       "  </thead>\n",
       "  <tbody>\n",
       "    <tr>\n",
       "      <th>0</th>\n",
       "      <td>1070968</td>\n",
       "      <td>Ultimate Investment Banking Course</td>\n",
       "      <td>https://www.udemy.com/ultimate-investment-bank...</td>\n",
       "      <td>True</td>\n",
       "      <td>200</td>\n",
       "      <td>2147</td>\n",
       "      <td>23</td>\n",
       "      <td>51</td>\n",
       "      <td>All Levels</td>\n",
       "      <td>1.5</td>\n",
       "      <td>2017-01-18T20:58:58Z</td>\n",
       "      <td>Business Finance</td>\n",
       "    </tr>\n",
       "    <tr>\n",
       "      <th>1</th>\n",
       "      <td>1113822</td>\n",
       "      <td>Complete GST Course &amp; Certification - Grow You...</td>\n",
       "      <td>https://www.udemy.com/goods-and-services-tax/</td>\n",
       "      <td>True</td>\n",
       "      <td>75</td>\n",
       "      <td>2792</td>\n",
       "      <td>923</td>\n",
       "      <td>274</td>\n",
       "      <td>All Levels</td>\n",
       "      <td>39.0</td>\n",
       "      <td>2017-03-09T16:34:20Z</td>\n",
       "      <td>Business Finance</td>\n",
       "    </tr>\n",
       "    <tr>\n",
       "      <th>2</th>\n",
       "      <td>1006314</td>\n",
       "      <td>Financial Modeling for Business Analysts and C...</td>\n",
       "      <td>https://www.udemy.com/financial-modeling-for-b...</td>\n",
       "      <td>True</td>\n",
       "      <td>45</td>\n",
       "      <td>2174</td>\n",
       "      <td>74</td>\n",
       "      <td>51</td>\n",
       "      <td>Intermediate Level</td>\n",
       "      <td>2.5</td>\n",
       "      <td>2016-12-19T19:26:30Z</td>\n",
       "      <td>Business Finance</td>\n",
       "    </tr>\n",
       "    <tr>\n",
       "      <th>3</th>\n",
       "      <td>1210588</td>\n",
       "      <td>Beginner to Pro - Financial Analysis in Excel ...</td>\n",
       "      <td>https://www.udemy.com/complete-excel-finance-c...</td>\n",
       "      <td>True</td>\n",
       "      <td>95</td>\n",
       "      <td>2451</td>\n",
       "      <td>11</td>\n",
       "      <td>36</td>\n",
       "      <td>All Levels</td>\n",
       "      <td>3.0</td>\n",
       "      <td>2017-05-30T20:07:24Z</td>\n",
       "      <td>Business Finance</td>\n",
       "    </tr>\n",
       "    <tr>\n",
       "      <th>4</th>\n",
       "      <td>1011058</td>\n",
       "      <td>How To Maximize Your Profits Trading Options</td>\n",
       "      <td>https://www.udemy.com/how-to-maximize-your-pro...</td>\n",
       "      <td>True</td>\n",
       "      <td>200</td>\n",
       "      <td>1276</td>\n",
       "      <td>45</td>\n",
       "      <td>26</td>\n",
       "      <td>Intermediate Level</td>\n",
       "      <td>2.0</td>\n",
       "      <td>2016-12-13T14:57:18Z</td>\n",
       "      <td>Business Finance</td>\n",
       "    </tr>\n",
       "  </tbody>\n",
       "</table>\n",
       "</div>"
      ],
      "text/plain": [
       "   course_id                                       course_title  \\\n",
       "0    1070968                 Ultimate Investment Banking Course   \n",
       "1    1113822  Complete GST Course & Certification - Grow You...   \n",
       "2    1006314  Financial Modeling for Business Analysts and C...   \n",
       "3    1210588  Beginner to Pro - Financial Analysis in Excel ...   \n",
       "4    1011058       How To Maximize Your Profits Trading Options   \n",
       "\n",
       "                                                 url  is_paid  price  \\\n",
       "0  https://www.udemy.com/ultimate-investment-bank...     True    200   \n",
       "1      https://www.udemy.com/goods-and-services-tax/     True     75   \n",
       "2  https://www.udemy.com/financial-modeling-for-b...     True     45   \n",
       "3  https://www.udemy.com/complete-excel-finance-c...     True     95   \n",
       "4  https://www.udemy.com/how-to-maximize-your-pro...     True    200   \n",
       "\n",
       "   num_subscribers  num_reviews  num_lectures               level  \\\n",
       "0             2147           23            51          All Levels   \n",
       "1             2792          923           274          All Levels   \n",
       "2             2174           74            51  Intermediate Level   \n",
       "3             2451           11            36          All Levels   \n",
       "4             1276           45            26  Intermediate Level   \n",
       "\n",
       "   content_duration   published_timestamp           subject  \n",
       "0               1.5  2017-01-18T20:58:58Z  Business Finance  \n",
       "1              39.0  2017-03-09T16:34:20Z  Business Finance  \n",
       "2               2.5  2016-12-19T19:26:30Z  Business Finance  \n",
       "3               3.0  2017-05-30T20:07:24Z  Business Finance  \n",
       "4               2.0  2016-12-13T14:57:18Z  Business Finance  "
      ]
     },
     "execution_count": 12,
     "metadata": {},
     "output_type": "execute_result"
    }
   ],
   "source": [
    "# udemy\n",
    "udemy_courses.head()"
   ]
  },
  {
   "cell_type": "code",
   "execution_count": null,
   "metadata": {},
   "outputs": [],
   "source": [
    "'''\n",
    "formatear published_timestamp. Quizá se tenga que partir en dos columnas, una de fecha y otra de hora\n",
    "'''"
   ]
  },
  {
   "cell_type": "code",
   "execution_count": 86,
   "metadata": {},
   "outputs": [
    {
     "data": {
      "text/plain": [
       "(3678, 12)"
      ]
     },
     "execution_count": 86,
     "metadata": {},
     "output_type": "execute_result"
    }
   ],
   "source": [
    "# dimensiones de udemy_courses\n",
    "udemy_courses.shape"
   ]
  },
  {
   "cell_type": "code",
   "execution_count": 24,
   "metadata": {},
   "outputs": [
    {
     "data": {
      "text/plain": [
       "course_id                int64\n",
       "course_title            object\n",
       "url                     object\n",
       "is_paid                   bool\n",
       "price                    int64\n",
       "num_subscribers          int64\n",
       "num_reviews              int64\n",
       "num_lectures             int64\n",
       "level                   object\n",
       "content_duration       float64\n",
       "published_timestamp     object\n",
       "subject                 object\n",
       "dtype: object"
      ]
     },
     "execution_count": 24,
     "metadata": {},
     "output_type": "execute_result"
    }
   ],
   "source": [
    "udemy_courses.dtypes"
   ]
  },
  {
   "cell_type": "code",
   "execution_count": 87,
   "metadata": {},
   "outputs": [
    {
     "data": {
      "text/html": [
       "<div>\n",
       "<style scoped>\n",
       "    .dataframe tbody tr th:only-of-type {\n",
       "        vertical-align: middle;\n",
       "    }\n",
       "\n",
       "    .dataframe tbody tr th {\n",
       "        vertical-align: top;\n",
       "    }\n",
       "\n",
       "    .dataframe thead th {\n",
       "        text-align: right;\n",
       "    }\n",
       "</style>\n",
       "<table border=\"1\" class=\"dataframe\">\n",
       "  <thead>\n",
       "    <tr style=\"text-align: right;\">\n",
       "      <th></th>\n",
       "      <th>course_id</th>\n",
       "      <th>price</th>\n",
       "      <th>num_subscribers</th>\n",
       "      <th>num_reviews</th>\n",
       "      <th>num_lectures</th>\n",
       "      <th>content_duration</th>\n",
       "    </tr>\n",
       "  </thead>\n",
       "  <tbody>\n",
       "    <tr>\n",
       "      <th>count</th>\n",
       "      <td>3.678000e+03</td>\n",
       "      <td>3678.000000</td>\n",
       "      <td>3678.000000</td>\n",
       "      <td>3678.000000</td>\n",
       "      <td>3678.000000</td>\n",
       "      <td>3678.000000</td>\n",
       "    </tr>\n",
       "    <tr>\n",
       "      <th>mean</th>\n",
       "      <td>6.759720e+05</td>\n",
       "      <td>66.049483</td>\n",
       "      <td>3197.150625</td>\n",
       "      <td>156.259108</td>\n",
       "      <td>40.108755</td>\n",
       "      <td>4.094517</td>\n",
       "    </tr>\n",
       "    <tr>\n",
       "      <th>std</th>\n",
       "      <td>3.432732e+05</td>\n",
       "      <td>61.005755</td>\n",
       "      <td>9504.117010</td>\n",
       "      <td>935.452044</td>\n",
       "      <td>50.383346</td>\n",
       "      <td>6.053840</td>\n",
       "    </tr>\n",
       "    <tr>\n",
       "      <th>min</th>\n",
       "      <td>8.324000e+03</td>\n",
       "      <td>0.000000</td>\n",
       "      <td>0.000000</td>\n",
       "      <td>0.000000</td>\n",
       "      <td>0.000000</td>\n",
       "      <td>0.000000</td>\n",
       "    </tr>\n",
       "    <tr>\n",
       "      <th>25%</th>\n",
       "      <td>4.076925e+05</td>\n",
       "      <td>20.000000</td>\n",
       "      <td>111.000000</td>\n",
       "      <td>4.000000</td>\n",
       "      <td>15.000000</td>\n",
       "      <td>1.000000</td>\n",
       "    </tr>\n",
       "    <tr>\n",
       "      <th>50%</th>\n",
       "      <td>6.879170e+05</td>\n",
       "      <td>45.000000</td>\n",
       "      <td>911.500000</td>\n",
       "      <td>18.000000</td>\n",
       "      <td>25.000000</td>\n",
       "      <td>2.000000</td>\n",
       "    </tr>\n",
       "    <tr>\n",
       "      <th>75%</th>\n",
       "      <td>9.613555e+05</td>\n",
       "      <td>95.000000</td>\n",
       "      <td>2546.000000</td>\n",
       "      <td>67.000000</td>\n",
       "      <td>45.750000</td>\n",
       "      <td>4.500000</td>\n",
       "    </tr>\n",
       "    <tr>\n",
       "      <th>max</th>\n",
       "      <td>1.282064e+06</td>\n",
       "      <td>200.000000</td>\n",
       "      <td>268923.000000</td>\n",
       "      <td>27445.000000</td>\n",
       "      <td>779.000000</td>\n",
       "      <td>78.500000</td>\n",
       "    </tr>\n",
       "  </tbody>\n",
       "</table>\n",
       "</div>"
      ],
      "text/plain": [
       "          course_id        price  num_subscribers   num_reviews  num_lectures  \\\n",
       "count  3.678000e+03  3678.000000      3678.000000   3678.000000   3678.000000   \n",
       "mean   6.759720e+05    66.049483      3197.150625    156.259108     40.108755   \n",
       "std    3.432732e+05    61.005755      9504.117010    935.452044     50.383346   \n",
       "min    8.324000e+03     0.000000         0.000000      0.000000      0.000000   \n",
       "25%    4.076925e+05    20.000000       111.000000      4.000000     15.000000   \n",
       "50%    6.879170e+05    45.000000       911.500000     18.000000     25.000000   \n",
       "75%    9.613555e+05    95.000000      2546.000000     67.000000     45.750000   \n",
       "max    1.282064e+06   200.000000    268923.000000  27445.000000    779.000000   \n",
       "\n",
       "       content_duration  \n",
       "count       3678.000000  \n",
       "mean           4.094517  \n",
       "std            6.053840  \n",
       "min            0.000000  \n",
       "25%            1.000000  \n",
       "50%            2.000000  \n",
       "75%            4.500000  \n",
       "max           78.500000  "
      ]
     },
     "execution_count": 87,
     "metadata": {},
     "output_type": "execute_result"
    }
   ],
   "source": [
    "# la descripción\n",
    "udemy_courses.describe()"
   ]
  },
  {
   "cell_type": "code",
   "execution_count": 91,
   "metadata": {},
   "outputs": [
    {
     "name": "stdout",
     "output_type": "stream",
     "text": [
      "course_title:  3663\n",
      "level:  4\n",
      "published_timestamp:  3672\n",
      "subject:  4\n"
     ]
    }
   ],
   "source": [
    "# valores unicos NO numéricos\n",
    "print('course_title: ', len(udemy_courses['course_title'].unique()))\n",
    "print('level: ', len(udemy_courses['level'].unique()))\n",
    "print('published_timestamp: ', len(udemy_courses['published_timestamp'].unique()))\n",
    "print('subject: ', len(udemy_courses['subject'].unique()))\n",
    "\n"
   ]
  },
  {
   "cell_type": "code",
   "execution_count": 95,
   "metadata": {},
   "outputs": [
    {
     "name": "stdout",
     "output_type": "stream",
     "text": [
      "dimensiones del df:  (3678, 12)\n",
      "cantidad de Falses:  310\n",
      "cantidad de Trues:  3368\n"
     ]
    }
   ],
   "source": [
    "# esto puede servir para medir las VENTAS\n",
    "\n",
    "print('dimensiones del df: ', udemy_courses.shape)\n",
    "print('cantidad de Falses: ', len(udemy_courses[udemy_courses['is_paid'] == False]))\n",
    "print('cantidad de Trues: ', len(udemy_courses[udemy_courses['is_paid'] == True]))"
   ]
  },
  {
   "cell_type": "code",
   "execution_count": 34,
   "metadata": {},
   "outputs": [
    {
     "data": {
      "text/plain": [
       "course_id              0\n",
       "course_title           0\n",
       "url                    0\n",
       "is_paid                0\n",
       "price                  0\n",
       "num_subscribers        0\n",
       "num_reviews            0\n",
       "num_lectures           0\n",
       "level                  0\n",
       "content_duration       0\n",
       "published_timestamp    0\n",
       "subject                0\n",
       "dtype: int64"
      ]
     },
     "execution_count": 34,
     "metadata": {},
     "output_type": "execute_result"
    }
   ],
   "source": [
    "udemy_courses.isnull().sum()"
   ]
  },
  {
   "cell_type": "code",
   "execution_count": 130,
   "metadata": {},
   "outputs": [
    {
     "data": {
      "text/plain": [
       "6"
      ]
     },
     "execution_count": 130,
     "metadata": {},
     "output_type": "execute_result"
    }
   ],
   "source": [
    "# registros completos duplicados\n",
    "''' \n",
    "hay que eliminarlos\n",
    "'''\n",
    "udemy_courses.duplicated().sum()"
   ]
  },
  {
   "cell_type": "code",
   "execution_count": 96,
   "metadata": {},
   "outputs": [
    {
     "data": {
      "text/plain": [
       "array([[<AxesSubplot:title={'center':'course_id'}>,\n",
       "        <AxesSubplot:title={'center':'price'}>],\n",
       "       [<AxesSubplot:title={'center':'num_subscribers'}>,\n",
       "        <AxesSubplot:title={'center':'num_reviews'}>],\n",
       "       [<AxesSubplot:title={'center':'num_lectures'}>,\n",
       "        <AxesSubplot:title={'center':'content_duration'}>]], dtype=object)"
      ]
     },
     "execution_count": 96,
     "metadata": {},
     "output_type": "execute_result"
    },
    {
     "data": {
      "image/png": "[encoded data removed]",
      "text/plain": [
       "<Figure size 640x480 with 6 Axes>"
      ]
     },
     "metadata": {},
     "output_type": "display_data"
    }
   ],
   "source": [
    "udemy_courses.hist()"
   ]
  },
  {
   "attachments": {},
   "cell_type": "markdown",
   "metadata": {},
   "source": [
    "# Limpieza de datos"
   ]
  },
  {
   "attachments": {},
   "cell_type": "markdown",
   "metadata": {},
   "source": [
    "## coursera_courses\n",
    "\n",
    "Se plantea hacer un merge de este df con coursera_reviews para tener información más útil de ambos dataframes"
   ]
  },
  {
   "attachments": {},
   "cell_type": "markdown",
   "metadata": {},
   "source": [
    "## coursera_reviewes\n",
    "\n",
    "Para este df, se eliminan primero los duplicados"
   ]
  },
  {
   "cell_type": "code",
   "execution_count": 133,
   "metadata": {},
   "outputs": [
    {
     "data": {
      "text/plain": [
       "(1454711, 5)"
      ]
     },
     "execution_count": 133,
     "metadata": {},
     "output_type": "execute_result"
    }
   ],
   "source": [
    "coursera_reviews.shape"
   ]
  },
  {
   "cell_type": "code",
   "execution_count": 134,
   "metadata": {},
   "outputs": [
    {
     "data": {
      "text/plain": [
       "934764"
      ]
     },
     "execution_count": 134,
     "metadata": {},
     "output_type": "execute_result"
    }
   ],
   "source": [
    "coursera_reviews.duplicated().sum()"
   ]
  },
  {
   "cell_type": "code",
   "execution_count": 135,
   "metadata": {},
   "outputs": [],
   "source": [
    "coursera_reviews = coursera_reviews.drop_duplicates()"
   ]
  },
  {
   "cell_type": "code",
   "execution_count": 136,
   "metadata": {},
   "outputs": [
    {
     "data": {
      "text/plain": [
       "0"
      ]
     },
     "execution_count": 136,
     "metadata": {},
     "output_type": "execute_result"
    }
   ],
   "source": [
    "# confirmamos\n",
    "coursera_reviews.duplicated().sum()"
   ]
  },
  {
   "attachments": {},
   "cell_type": "markdown",
   "metadata": {},
   "source": [
    "Luego, los valores nulos también se eliminan, al no ser representativos respecto a las dimensiones del dataframe"
   ]
  },
  {
   "cell_type": "code",
   "execution_count": 139,
   "metadata": {},
   "outputs": [
    {
     "name": "stdout",
     "output_type": "stream",
     "text": [
      "dimensiones de coursera_review después de eliminar duplicados:  (519947, 5)\n"
     ]
    },
    {
     "data": {
      "text/plain": [
       "reviews         56\n",
       "reviewers        0\n",
       "date_reviews     0\n",
       "rating           0\n",
       "course_id        0\n",
       "dtype: int64"
      ]
     },
     "execution_count": 139,
     "metadata": {},
     "output_type": "execute_result"
    }
   ],
   "source": [
    "print('dimensiones de coursera_review después de eliminar duplicados: ', coursera_reviews.shape)\n",
    "coursera_reviews.isnull().sum()"
   ]
  },
  {
   "cell_type": "code",
   "execution_count": 143,
   "metadata": {},
   "outputs": [],
   "source": [
    "coursera_reviews = coursera_reviews.dropna()"
   ]
  },
  {
   "cell_type": "code",
   "execution_count": 145,
   "metadata": {},
   "outputs": [
    {
     "data": {
      "text/plain": [
       "reviews         0\n",
       "reviewers       0\n",
       "date_reviews    0\n",
       "rating          0\n",
       "course_id       0\n",
       "dtype: int64"
      ]
     },
     "execution_count": 145,
     "metadata": {},
     "output_type": "execute_result"
    }
   ],
   "source": [
    "coursera_reviews.isnull().sum()\n"
   ]
  },
  {
   "attachments": {},
   "cell_type": "markdown",
   "metadata": {},
   "source": [
    "Formatear columna de fecha"
   ]
  },
  {
   "cell_type": "code",
   "execution_count": 146,
   "metadata": {},
   "outputs": [
    {
     "data": {
      "text/html": [
       "<div>\n",
       "<style scoped>\n",
       "    .dataframe tbody tr th:only-of-type {\n",
       "        vertical-align: middle;\n",
       "    }\n",
       "\n",
       "    .dataframe tbody tr th {\n",
       "        vertical-align: top;\n",
       "    }\n",
       "\n",
       "    .dataframe thead th {\n",
       "        text-align: right;\n",
       "    }\n",
       "</style>\n",
       "<table border=\"1\" class=\"dataframe\">\n",
       "  <thead>\n",
       "    <tr style=\"text-align: right;\">\n",
       "      <th></th>\n",
       "      <th>reviews</th>\n",
       "      <th>reviewers</th>\n",
       "      <th>date_reviews</th>\n",
       "      <th>rating</th>\n",
       "      <th>course_id</th>\n",
       "    </tr>\n",
       "  </thead>\n",
       "  <tbody>\n",
       "    <tr>\n",
       "      <th>0</th>\n",
       "      <td>Pretty dry, but I was able to pass with just t...</td>\n",
       "      <td>By Robert S</td>\n",
       "      <td>Feb 12, 2020</td>\n",
       "      <td>4</td>\n",
       "      <td>google-cbrs-cpi-training</td>\n",
       "    </tr>\n",
       "    <tr>\n",
       "      <th>1</th>\n",
       "      <td>would be a better experience if the video and ...</td>\n",
       "      <td>By Gabriel E R</td>\n",
       "      <td>Sep 28, 2020</td>\n",
       "      <td>4</td>\n",
       "      <td>google-cbrs-cpi-training</td>\n",
       "    </tr>\n",
       "    <tr>\n",
       "      <th>2</th>\n",
       "      <td>Information was perfect! The program itself wa...</td>\n",
       "      <td>By Jacob D</td>\n",
       "      <td>Apr 08, 2020</td>\n",
       "      <td>4</td>\n",
       "      <td>google-cbrs-cpi-training</td>\n",
       "    </tr>\n",
       "    <tr>\n",
       "      <th>3</th>\n",
       "      <td>A few grammatical mistakes on test made me do ...</td>\n",
       "      <td>By Dale B</td>\n",
       "      <td>Feb 24, 2020</td>\n",
       "      <td>4</td>\n",
       "      <td>google-cbrs-cpi-training</td>\n",
       "    </tr>\n",
       "    <tr>\n",
       "      <th>4</th>\n",
       "      <td>Excellent course and the training provided was...</td>\n",
       "      <td>By Sean G</td>\n",
       "      <td>Jun 18, 2020</td>\n",
       "      <td>4</td>\n",
       "      <td>google-cbrs-cpi-training</td>\n",
       "    </tr>\n",
       "  </tbody>\n",
       "</table>\n",
       "</div>"
      ],
      "text/plain": [
       "                                             reviews       reviewers  \\\n",
       "0  Pretty dry, but I was able to pass with just t...     By Robert S   \n",
       "1  would be a better experience if the video and ...  By Gabriel E R   \n",
       "2  Information was perfect! The program itself wa...      By Jacob D   \n",
       "3  A few grammatical mistakes on test made me do ...       By Dale B   \n",
       "4  Excellent course and the training provided was...       By Sean G   \n",
       "\n",
       "   date_reviews  rating                 course_id  \n",
       "0  Feb 12, 2020       4  google-cbrs-cpi-training  \n",
       "1  Sep 28, 2020       4  google-cbrs-cpi-training  \n",
       "2  Apr 08, 2020       4  google-cbrs-cpi-training  \n",
       "3  Feb 24, 2020       4  google-cbrs-cpi-training  \n",
       "4  Jun 18, 2020       4  google-cbrs-cpi-training  "
      ]
     },
     "execution_count": 146,
     "metadata": {},
     "output_type": "execute_result"
    }
   ],
   "source": [
    "# pasamos de tipo object...\n",
    "coursera_reviews.head()"
   ]
  },
  {
   "cell_type": "code",
   "execution_count": 147,
   "metadata": {},
   "outputs": [],
   "source": [
    "coursera_reviews['date_reviews'] = pd.to_datetime(coursera_reviews['date_reviews'])"
   ]
  },
  {
   "cell_type": "code",
   "execution_count": 152,
   "metadata": {},
   "outputs": [
    {
     "data": {
      "text/html": [
       "<div>\n",
       "<style scoped>\n",
       "    .dataframe tbody tr th:only-of-type {\n",
       "        vertical-align: middle;\n",
       "    }\n",
       "\n",
       "    .dataframe tbody tr th {\n",
       "        vertical-align: top;\n",
       "    }\n",
       "\n",
       "    .dataframe thead th {\n",
       "        text-align: right;\n",
       "    }\n",
       "</style>\n",
       "<table border=\"1\" class=\"dataframe\">\n",
       "  <thead>\n",
       "    <tr style=\"text-align: right;\">\n",
       "      <th></th>\n",
       "      <th>reviews</th>\n",
       "      <th>reviewers</th>\n",
       "      <th>date_reviews</th>\n",
       "      <th>rating</th>\n",
       "      <th>course_id</th>\n",
       "    </tr>\n",
       "  </thead>\n",
       "  <tbody>\n",
       "    <tr>\n",
       "      <th>0</th>\n",
       "      <td>Pretty dry, but I was able to pass with just t...</td>\n",
       "      <td>By Robert S</td>\n",
       "      <td>2020-02-12</td>\n",
       "      <td>4</td>\n",
       "      <td>google-cbrs-cpi-training</td>\n",
       "    </tr>\n",
       "    <tr>\n",
       "      <th>1</th>\n",
       "      <td>would be a better experience if the video and ...</td>\n",
       "      <td>By Gabriel E R</td>\n",
       "      <td>2020-09-28</td>\n",
       "      <td>4</td>\n",
       "      <td>google-cbrs-cpi-training</td>\n",
       "    </tr>\n",
       "    <tr>\n",
       "      <th>2</th>\n",
       "      <td>Information was perfect! The program itself wa...</td>\n",
       "      <td>By Jacob D</td>\n",
       "      <td>2020-04-08</td>\n",
       "      <td>4</td>\n",
       "      <td>google-cbrs-cpi-training</td>\n",
       "    </tr>\n",
       "    <tr>\n",
       "      <th>3</th>\n",
       "      <td>A few grammatical mistakes on test made me do ...</td>\n",
       "      <td>By Dale B</td>\n",
       "      <td>2020-02-24</td>\n",
       "      <td>4</td>\n",
       "      <td>google-cbrs-cpi-training</td>\n",
       "    </tr>\n",
       "    <tr>\n",
       "      <th>4</th>\n",
       "      <td>Excellent course and the training provided was...</td>\n",
       "      <td>By Sean G</td>\n",
       "      <td>2020-06-18</td>\n",
       "      <td>4</td>\n",
       "      <td>google-cbrs-cpi-training</td>\n",
       "    </tr>\n",
       "  </tbody>\n",
       "</table>\n",
       "</div>"
      ],
      "text/plain": [
       "                                             reviews       reviewers  \\\n",
       "0  Pretty dry, but I was able to pass with just t...     By Robert S   \n",
       "1  would be a better experience if the video and ...  By Gabriel E R   \n",
       "2  Information was perfect! The program itself wa...      By Jacob D   \n",
       "3  A few grammatical mistakes on test made me do ...       By Dale B   \n",
       "4  Excellent course and the training provided was...       By Sean G   \n",
       "\n",
       "  date_reviews  rating                 course_id  \n",
       "0   2020-02-12       4  google-cbrs-cpi-training  \n",
       "1   2020-09-28       4  google-cbrs-cpi-training  \n",
       "2   2020-04-08       4  google-cbrs-cpi-training  \n",
       "3   2020-02-24       4  google-cbrs-cpi-training  \n",
       "4   2020-06-18       4  google-cbrs-cpi-training  "
      ]
     },
     "execution_count": 152,
     "metadata": {},
     "output_type": "execute_result"
    }
   ],
   "source": [
    "# ... a tipo datetime64 ns\n",
    "coursera_reviews.head()"
   ]
  },
  {
   "attachments": {},
   "cell_type": "markdown",
   "metadata": {},
   "source": [
    "Veamos un histograma de las columnas 'date_reviews' y 'rating'"
   ]
  },
  {
   "cell_type": "code",
   "execution_count": 153,
   "metadata": {},
   "outputs": [
    {
     "data": {
      "text/plain": [
       "array([[<AxesSubplot:title={'center':'date_reviews'}>,\n",
       "        <AxesSubplot:title={'center':'rating'}>]], dtype=object)"
      ]
     },
     "execution_count": 153,
     "metadata": {},
     "output_type": "execute_result"
    },
    {
     "data": {
      "image/png": "[encoded data removed]",
      "text/plain": [
       "<Figure size 640x480 with 2 Axes>"
      ]
     },
     "metadata": {},
     "output_type": "display_data"
    }
   ],
   "source": [
    "coursera_reviews.hist(bins=10)"
   ]
  },
  {
   "attachments": {},
   "cell_type": "markdown",
   "metadata": {},
   "source": [
    "Uniendo coursera_courses con coursera_reviews "
   ]
  },
  {
   "cell_type": "code",
   "execution_count": 155,
   "metadata": {},
   "outputs": [
    {
     "name": "stdout",
     "output_type": "stream",
     "text": [
      "(623, 4)\n",
      "(519891, 5)\n",
      "(519910, 8)\n",
      "(519891, 8)\n"
     ]
    }
   ],
   "source": [
    "coursera_outer = pd.merge(coursera_courses, coursera_reviews, how= \"outer\")\n",
    "\n",
    "# el inner va mediante course_id\n",
    "coursera = pd.merge(coursera_courses, coursera_reviews, on= \"course_id\")\n",
    "print(coursera_courses.shape)\n",
    "print(coursera_reviews.shape)\n",
    "print(coursera_outer.shape)\n",
    "print(coursera.shape)"
   ]
  },
  {
   "attachments": {},
   "cell_type": "markdown",
   "metadata": {},
   "source": [
    "### Así, trabajaremos de ahora en adelante con el dataframe llamado 'coursera', un inner join entre los datasets anteriores"
   ]
  },
  {
   "cell_type": "code",
   "execution_count": 156,
   "metadata": {},
   "outputs": [
    {
     "data": {
      "text/html": [
       "<div>\n",
       "<style scoped>\n",
       "    .dataframe tbody tr th:only-of-type {\n",
       "        vertical-align: middle;\n",
       "    }\n",
       "\n",
       "    .dataframe tbody tr th {\n",
       "        vertical-align: top;\n",
       "    }\n",
       "\n",
       "    .dataframe thead th {\n",
       "        text-align: right;\n",
       "    }\n",
       "</style>\n",
       "<table border=\"1\" class=\"dataframe\">\n",
       "  <thead>\n",
       "    <tr style=\"text-align: right;\">\n",
       "      <th></th>\n",
       "      <th>name</th>\n",
       "      <th>institution</th>\n",
       "      <th>course_url</th>\n",
       "      <th>course_id</th>\n",
       "      <th>reviews</th>\n",
       "      <th>reviewers</th>\n",
       "      <th>date_reviews</th>\n",
       "      <th>rating</th>\n",
       "    </tr>\n",
       "  </thead>\n",
       "  <tbody>\n",
       "    <tr>\n",
       "      <th>0</th>\n",
       "      <td>Machine Learning</td>\n",
       "      <td>Stanford University</td>\n",
       "      <td>https://www.coursera.org/learn/machine-learning</td>\n",
       "      <td>machine-learning</td>\n",
       "      <td>This is an extremely basic course. Machine lea...</td>\n",
       "      <td>By Deleted A</td>\n",
       "      <td>2017-03-18</td>\n",
       "      <td>1</td>\n",
       "    </tr>\n",
       "    <tr>\n",
       "      <th>1</th>\n",
       "      <td>Machine Learning</td>\n",
       "      <td>Stanford University</td>\n",
       "      <td>https://www.coursera.org/learn/machine-learning</td>\n",
       "      <td>machine-learning</td>\n",
       "      <td>The course is ok but the certification procedu...</td>\n",
       "      <td>By Bruno C</td>\n",
       "      <td>2015-11-09</td>\n",
       "      <td>1</td>\n",
       "    </tr>\n",
       "    <tr>\n",
       "      <th>2</th>\n",
       "      <td>Machine Learning</td>\n",
       "      <td>Stanford University</td>\n",
       "      <td>https://www.coursera.org/learn/machine-learning</td>\n",
       "      <td>machine-learning</td>\n",
       "      <td>I just started week 3 , I have to admit that I...</td>\n",
       "      <td>By Fadi</td>\n",
       "      <td>2019-04-15</td>\n",
       "      <td>1</td>\n",
       "    </tr>\n",
       "    <tr>\n",
       "      <th>3</th>\n",
       "      <td>Machine Learning</td>\n",
       "      <td>Stanford University</td>\n",
       "      <td>https://www.coursera.org/learn/machine-learning</td>\n",
       "      <td>machine-learning</td>\n",
       "      <td>This course is absolute garbage.  You get no f...</td>\n",
       "      <td>By Mathew L</td>\n",
       "      <td>2015-09-25</td>\n",
       "      <td>1</td>\n",
       "    </tr>\n",
       "    <tr>\n",
       "      <th>4</th>\n",
       "      <td>Machine Learning</td>\n",
       "      <td>Stanford University</td>\n",
       "      <td>https://www.coursera.org/learn/machine-learning</td>\n",
       "      <td>machine-learning</td>\n",
       "      <td>However good the material and lectures may be,...</td>\n",
       "      <td>By Rui C</td>\n",
       "      <td>2015-12-12</td>\n",
       "      <td>1</td>\n",
       "    </tr>\n",
       "  </tbody>\n",
       "</table>\n",
       "</div>"
      ],
      "text/plain": [
       "               name          institution  \\\n",
       "0  Machine Learning  Stanford University   \n",
       "1  Machine Learning  Stanford University   \n",
       "2  Machine Learning  Stanford University   \n",
       "3  Machine Learning  Stanford University   \n",
       "4  Machine Learning  Stanford University   \n",
       "\n",
       "                                        course_url         course_id  \\\n",
       "0  https://www.coursera.org/learn/machine-learning  machine-learning   \n",
       "1  https://www.coursera.org/learn/machine-learning  machine-learning   \n",
       "2  https://www.coursera.org/learn/machine-learning  machine-learning   \n",
       "3  https://www.coursera.org/learn/machine-learning  machine-learning   \n",
       "4  https://www.coursera.org/learn/machine-learning  machine-learning   \n",
       "\n",
       "                                             reviews     reviewers  \\\n",
       "0  This is an extremely basic course. Machine lea...  By Deleted A   \n",
       "1  The course is ok but the certification procedu...    By Bruno C   \n",
       "2  I just started week 3 , I have to admit that I...       By Fadi   \n",
       "3  This course is absolute garbage.  You get no f...   By Mathew L   \n",
       "4  However good the material and lectures may be,...      By Rui C   \n",
       "\n",
       "  date_reviews  rating  \n",
       "0   2017-03-18       1  \n",
       "1   2015-11-09       1  \n",
       "2   2019-04-15       1  \n",
       "3   2015-09-25       1  \n",
       "4   2015-12-12       1  "
      ]
     },
     "execution_count": 156,
     "metadata": {},
     "output_type": "execute_result"
    }
   ],
   "source": [
    "coursera.head()"
   ]
  },
  {
   "cell_type": "code",
   "execution_count": 158,
   "metadata": {},
   "outputs": [
    {
     "data": {
      "text/html": [
       "<div>\n",
       "<style scoped>\n",
       "    .dataframe tbody tr th:only-of-type {\n",
       "        vertical-align: middle;\n",
       "    }\n",
       "\n",
       "    .dataframe tbody tr th {\n",
       "        vertical-align: top;\n",
       "    }\n",
       "\n",
       "    .dataframe thead th {\n",
       "        text-align: right;\n",
       "    }\n",
       "</style>\n",
       "<table border=\"1\" class=\"dataframe\">\n",
       "  <thead>\n",
       "    <tr style=\"text-align: right;\">\n",
       "      <th></th>\n",
       "      <th>rating</th>\n",
       "    </tr>\n",
       "  </thead>\n",
       "  <tbody>\n",
       "    <tr>\n",
       "      <th>count</th>\n",
       "      <td>519891.000000</td>\n",
       "    </tr>\n",
       "    <tr>\n",
       "      <th>mean</th>\n",
       "      <td>4.689279</td>\n",
       "    </tr>\n",
       "    <tr>\n",
       "      <th>std</th>\n",
       "      <td>0.710834</td>\n",
       "    </tr>\n",
       "    <tr>\n",
       "      <th>min</th>\n",
       "      <td>1.000000</td>\n",
       "    </tr>\n",
       "    <tr>\n",
       "      <th>25%</th>\n",
       "      <td>5.000000</td>\n",
       "    </tr>\n",
       "    <tr>\n",
       "      <th>50%</th>\n",
       "      <td>5.000000</td>\n",
       "    </tr>\n",
       "    <tr>\n",
       "      <th>75%</th>\n",
       "      <td>5.000000</td>\n",
       "    </tr>\n",
       "    <tr>\n",
       "      <th>max</th>\n",
       "      <td>5.000000</td>\n",
       "    </tr>\n",
       "  </tbody>\n",
       "</table>\n",
       "</div>"
      ],
      "text/plain": [
       "              rating\n",
       "count  519891.000000\n",
       "mean        4.689279\n",
       "std         0.710834\n",
       "min         1.000000\n",
       "25%         5.000000\n",
       "50%         5.000000\n",
       "75%         5.000000\n",
       "max         5.000000"
      ]
     },
     "execution_count": 158,
     "metadata": {},
     "output_type": "execute_result"
    }
   ],
   "source": [
    "coursera.describe()"
   ]
  },
  {
   "cell_type": "code",
   "execution_count": 171,
   "metadata": {},
   "outputs": [
    {
     "data": {
      "text/plain": [
       "<AxesSubplot:>"
      ]
     },
     "execution_count": 171,
     "metadata": {},
     "output_type": "execute_result"
    },
    {
     "data": {
      "image/png": "[encoded data removed]",
      "text/plain": [
       "<Figure size 640x480 with 1 Axes>"
      ]
     },
     "metadata": {},
     "output_type": "display_data"
    }
   ],
   "source": [
    "coursera['date_reviews'].hist(bins=10)"
   ]
  },
  {
   "cell_type": "code",
   "execution_count": 167,
   "metadata": {},
   "outputs": [
    {
     "data": {
      "text/plain": [
       "2020-05-18    1974\n",
       "2020-05-25    1968\n",
       "2020-05-31    1951\n",
       "2020-06-01    1945\n",
       "2020-05-11    1911\n",
       "              ... \n",
       "2015-08-08      19\n",
       "2015-08-09      17\n",
       "2015-08-11      16\n",
       "2015-08-12      11\n",
       "2015-08-13       9\n",
       "Name: date_reviews, Length: 1892, dtype: int64"
      ]
     },
     "execution_count": 167,
     "metadata": {},
     "output_type": "execute_result"
    }
   ],
   "source": [
    "coursera['date_reviews'].value_counts()"
   ]
  },
  {
   "attachments": {},
   "cell_type": "markdown",
   "metadata": {},
   "source": [
    "Eliminamos columnas que no serán necesarias"
   ]
  },
  {
   "cell_type": "code",
   "execution_count": null,
   "metadata": {},
   "outputs": [],
   "source": [
    "coursera.drop(['course_url'], axis = 'columns', inplace=True)"
   ]
  },
  {
   "cell_type": "code",
   "execution_count": 180,
   "metadata": {},
   "outputs": [
    {
     "data": {
      "text/html": [
       "<div>\n",
       "<style scoped>\n",
       "    .dataframe tbody tr th:only-of-type {\n",
       "        vertical-align: middle;\n",
       "    }\n",
       "\n",
       "    .dataframe tbody tr th {\n",
       "        vertical-align: top;\n",
       "    }\n",
       "\n",
       "    .dataframe thead th {\n",
       "        text-align: right;\n",
       "    }\n",
       "</style>\n",
       "<table border=\"1\" class=\"dataframe\">\n",
       "  <thead>\n",
       "    <tr style=\"text-align: right;\">\n",
       "      <th></th>\n",
       "      <th>name</th>\n",
       "      <th>institution</th>\n",
       "      <th>course_id</th>\n",
       "      <th>reviews</th>\n",
       "      <th>reviewers</th>\n",
       "      <th>date_reviews</th>\n",
       "      <th>rating</th>\n",
       "    </tr>\n",
       "  </thead>\n",
       "  <tbody>\n",
       "    <tr>\n",
       "      <th>0</th>\n",
       "      <td>Machine Learning</td>\n",
       "      <td>Stanford University</td>\n",
       "      <td>machine-learning</td>\n",
       "      <td>This is an extremely basic course. Machine lea...</td>\n",
       "      <td>By Deleted A</td>\n",
       "      <td>2017-03-18</td>\n",
       "      <td>1</td>\n",
       "    </tr>\n",
       "    <tr>\n",
       "      <th>1</th>\n",
       "      <td>Machine Learning</td>\n",
       "      <td>Stanford University</td>\n",
       "      <td>machine-learning</td>\n",
       "      <td>The course is ok but the certification procedu...</td>\n",
       "      <td>By Bruno C</td>\n",
       "      <td>2015-11-09</td>\n",
       "      <td>1</td>\n",
       "    </tr>\n",
       "    <tr>\n",
       "      <th>2</th>\n",
       "      <td>Machine Learning</td>\n",
       "      <td>Stanford University</td>\n",
       "      <td>machine-learning</td>\n",
       "      <td>I just started week 3 , I have to admit that I...</td>\n",
       "      <td>By Fadi</td>\n",
       "      <td>2019-04-15</td>\n",
       "      <td>1</td>\n",
       "    </tr>\n",
       "    <tr>\n",
       "      <th>3</th>\n",
       "      <td>Machine Learning</td>\n",
       "      <td>Stanford University</td>\n",
       "      <td>machine-learning</td>\n",
       "      <td>This course is absolute garbage.  You get no f...</td>\n",
       "      <td>By Mathew L</td>\n",
       "      <td>2015-09-25</td>\n",
       "      <td>1</td>\n",
       "    </tr>\n",
       "    <tr>\n",
       "      <th>4</th>\n",
       "      <td>Machine Learning</td>\n",
       "      <td>Stanford University</td>\n",
       "      <td>machine-learning</td>\n",
       "      <td>However good the material and lectures may be,...</td>\n",
       "      <td>By Rui C</td>\n",
       "      <td>2015-12-12</td>\n",
       "      <td>1</td>\n",
       "    </tr>\n",
       "  </tbody>\n",
       "</table>\n",
       "</div>"
      ],
      "text/plain": [
       "               name          institution         course_id  \\\n",
       "0  Machine Learning  Stanford University  machine-learning   \n",
       "1  Machine Learning  Stanford University  machine-learning   \n",
       "2  Machine Learning  Stanford University  machine-learning   \n",
       "3  Machine Learning  Stanford University  machine-learning   \n",
       "4  Machine Learning  Stanford University  machine-learning   \n",
       "\n",
       "                                             reviews     reviewers  \\\n",
       "0  This is an extremely basic course. Machine lea...  By Deleted A   \n",
       "1  The course is ok but the certification procedu...    By Bruno C   \n",
       "2  I just started week 3 , I have to admit that I...       By Fadi   \n",
       "3  This course is absolute garbage.  You get no f...   By Mathew L   \n",
       "4  However good the material and lectures may be,...      By Rui C   \n",
       "\n",
       "  date_reviews  rating  \n",
       "0   2017-03-18       1  \n",
       "1   2015-11-09       1  \n",
       "2   2019-04-15       1  \n",
       "3   2015-09-25       1  \n",
       "4   2015-12-12       1  "
      ]
     },
     "execution_count": 180,
     "metadata": {},
     "output_type": "execute_result"
    }
   ],
   "source": [
    "coursera.head()"
   ]
  },
  {
   "attachments": {},
   "cell_type": "markdown",
   "metadata": {},
   "source": [
    "# edx_courses\n",
    "\n",
    "Primero eliminamos duplicados"
   ]
  },
  {
   "cell_type": "code",
   "execution_count": 244,
   "metadata": {},
   "outputs": [
    {
     "data": {
      "text/plain": [
       "1"
      ]
     },
     "execution_count": 244,
     "metadata": {},
     "output_type": "execute_result"
    }
   ],
   "source": [
    "edx_courses.duplicated().sum()"
   ]
  },
  {
   "cell_type": "code",
   "execution_count": 245,
   "metadata": {},
   "outputs": [],
   "source": [
    "# se eliminan\n",
    "edx_courses = edx_courses.drop_duplicates()"
   ]
  },
  {
   "cell_type": "code",
   "execution_count": 246,
   "metadata": {},
   "outputs": [
    {
     "data": {
      "text/plain": [
       "0"
      ]
     },
     "execution_count": 246,
     "metadata": {},
     "output_type": "execute_result"
    }
   ],
   "source": [
    "edx_courses.duplicated().sum()"
   ]
  },
  {
   "attachments": {},
   "cell_type": "markdown",
   "metadata": {},
   "source": [
    "Luego los valores nulos"
   ]
  },
  {
   "cell_type": "code",
   "execution_count": 247,
   "metadata": {},
   "outputs": [
    {
     "data": {
      "text/plain": [
       "(974, 16)"
      ]
     },
     "execution_count": 247,
     "metadata": {},
     "output_type": "execute_result"
    }
   ],
   "source": [
    "edx_courses.shape"
   ]
  },
  {
   "cell_type": "code",
   "execution_count": 248,
   "metadata": {},
   "outputs": [
    {
     "data": {
      "text/plain": [
       "title                   0\n",
       "summary                53\n",
       "n_enrolled            120\n",
       "course_type             0\n",
       "institution             0\n",
       "instructors             3\n",
       "Level                   0\n",
       "subject                 0\n",
       "language                0\n",
       "subtitles               3\n",
       "course_effort           0\n",
       "course_length           0\n",
       "price                   0\n",
       "course_description     40\n",
       "course_syllabus       557\n",
       "course_url              0\n",
       "dtype: int64"
      ]
     },
     "execution_count": 248,
     "metadata": {},
     "output_type": "execute_result"
    }
   ],
   "source": [
    "edx_courses.isnull().sum()"
   ]
  },
  {
   "attachments": {},
   "cell_type": "markdown",
   "metadata": {},
   "source": [
    "En la columna course_syllabus hay más de la mitad de campos nulos, por tanto se va a eliminar esta columna. También la columna course_url.\n",
    "\n",
    "También se eliminarán los registros nulos de las columnas 'subtitles' e 'instructors', pues ambas representan menos del 1% respecto a las dimensiones del dataframe. Sin embargo, es preferible no utilizar este mismo criterio para los registros con campos vacíos en las columnas 'summary', 'n_enrolled', y 'course_description', pues representan cerca del 20% respecto al número total de registros y es posible que repercuta en el análisis de datos.\n"
   ]
  },
  {
   "cell_type": "code",
   "execution_count": 249,
   "metadata": {},
   "outputs": [
    {
     "name": "stderr",
     "output_type": "stream",
     "text": [
      "C:\\Users\\kaod_\\AppData\\Local\\Temp\\ipykernel_35644\\3716922124.py:1: SettingWithCopyWarning: \n",
      "A value is trying to be set on a copy of a slice from a DataFrame\n",
      "\n",
      "See the caveats in the documentation: https://pandas.pydata.org/pandas-docs/stable/user_guide/indexing.html#returning-a-view-versus-a-copy\n",
      "  edx_courses.drop(['course_syllabus', 'course_url'], axis = 'columns', inplace=True)\n"
     ]
    }
   ],
   "source": [
    "edx_courses.drop(['course_syllabus', 'course_url'], axis = 'columns', inplace=True)\n"
   ]
  },
  {
   "cell_type": "code",
   "execution_count": 250,
   "metadata": {},
   "outputs": [
    {
     "data": {
      "text/html": [
       "<div>\n",
       "<style scoped>\n",
       "    .dataframe tbody tr th:only-of-type {\n",
       "        vertical-align: middle;\n",
       "    }\n",
       "\n",
       "    .dataframe tbody tr th {\n",
       "        vertical-align: top;\n",
       "    }\n",
       "\n",
       "    .dataframe thead th {\n",
       "        text-align: right;\n",
       "    }\n",
       "</style>\n",
       "<table border=\"1\" class=\"dataframe\">\n",
       "  <thead>\n",
       "    <tr style=\"text-align: right;\">\n",
       "      <th></th>\n",
       "      <th>title</th>\n",
       "      <th>summary</th>\n",
       "      <th>n_enrolled</th>\n",
       "      <th>course_type</th>\n",
       "      <th>institution</th>\n",
       "      <th>instructors</th>\n",
       "      <th>Level</th>\n",
       "      <th>subject</th>\n",
       "      <th>language</th>\n",
       "      <th>subtitles</th>\n",
       "      <th>course_effort</th>\n",
       "      <th>course_length</th>\n",
       "      <th>price</th>\n",
       "      <th>course_description</th>\n",
       "    </tr>\n",
       "  </thead>\n",
       "  <tbody>\n",
       "    <tr>\n",
       "      <th>0</th>\n",
       "      <td>How to Learn Online</td>\n",
       "      <td>Learn essential strategies for successful onli...</td>\n",
       "      <td>124,980</td>\n",
       "      <td>Self-paced on your time</td>\n",
       "      <td>edX</td>\n",
       "      <td>Nina Huntemann-Robyn Belair-Ben Piscopo</td>\n",
       "      <td>Introductory</td>\n",
       "      <td>Education &amp; Teacher Training</td>\n",
       "      <td>English</td>\n",
       "      <td>English</td>\n",
       "      <td>2–3 hours per week</td>\n",
       "      <td>2 Weeks</td>\n",
       "      <td>FREE-Add a Verified Certificate for $49 USD</td>\n",
       "      <td>Designed for those who are new to elearning, t...</td>\n",
       "    </tr>\n",
       "    <tr>\n",
       "      <th>1</th>\n",
       "      <td>Programming for Everybody (Getting Started wit...</td>\n",
       "      <td>This course is a \"no prerequisite\" introductio...</td>\n",
       "      <td>293,864</td>\n",
       "      <td>Self-paced on your time</td>\n",
       "      <td>The University of Michigan</td>\n",
       "      <td>Charles Severance</td>\n",
       "      <td>Introductory</td>\n",
       "      <td>Computer Science</td>\n",
       "      <td>English</td>\n",
       "      <td>English</td>\n",
       "      <td>2–4 hours per week</td>\n",
       "      <td>7 Weeks</td>\n",
       "      <td>FREE-Add a Verified Certificate for $49 USD</td>\n",
       "      <td>This course aims to teach everyone the basics ...</td>\n",
       "    </tr>\n",
       "    <tr>\n",
       "      <th>2</th>\n",
       "      <td>CS50's Introduction to Computer Science</td>\n",
       "      <td>An introduction to the intellectual enterprise...</td>\n",
       "      <td>2,442,271</td>\n",
       "      <td>Self-paced on your time</td>\n",
       "      <td>Harvard University</td>\n",
       "      <td>David J. Malan-Doug Lloyd-Brian Yu</td>\n",
       "      <td>Introductory</td>\n",
       "      <td>Computer Science</td>\n",
       "      <td>English</td>\n",
       "      <td>English</td>\n",
       "      <td>6–18 hours per week</td>\n",
       "      <td>12 Weeks</td>\n",
       "      <td>FREE-Add a Verified Certificate for $90 USD</td>\n",
       "      <td>This is CS50x , Harvard University's introduct...</td>\n",
       "    </tr>\n",
       "    <tr>\n",
       "      <th>3</th>\n",
       "      <td>The Analytics Edge</td>\n",
       "      <td>Through inspiring examples and stories, discov...</td>\n",
       "      <td>129,555</td>\n",
       "      <td>Instructor-led on a course schedule</td>\n",
       "      <td>Massachusetts Institute of Technology</td>\n",
       "      <td>Dimitris Bertsimas-Allison O'Hair-John Silberh...</td>\n",
       "      <td>Intermediate</td>\n",
       "      <td>Data Analysis &amp; Statistics</td>\n",
       "      <td>English</td>\n",
       "      <td>English</td>\n",
       "      <td>10–15 hours per week</td>\n",
       "      <td>13 Weeks</td>\n",
       "      <td>FREE-Add a Verified Certificate for $199 USD</td>\n",
       "      <td>In the last decade, the amount of data availab...</td>\n",
       "    </tr>\n",
       "    <tr>\n",
       "      <th>4</th>\n",
       "      <td>Marketing Analytics: Marketing Measurement Str...</td>\n",
       "      <td>This course is part of a MicroMasters® Program</td>\n",
       "      <td>81,140</td>\n",
       "      <td>Self-paced on your time</td>\n",
       "      <td>University of California, Berkeley</td>\n",
       "      <td>Stephan Sorger</td>\n",
       "      <td>Introductory</td>\n",
       "      <td>Computer Science</td>\n",
       "      <td>English</td>\n",
       "      <td>English</td>\n",
       "      <td>5–7 hours per week</td>\n",
       "      <td>4 Weeks</td>\n",
       "      <td>FREE-Add a Verified Certificate for $249 USD</td>\n",
       "      <td>Begin your journey in a new career in marketin...</td>\n",
       "    </tr>\n",
       "  </tbody>\n",
       "</table>\n",
       "</div>"
      ],
      "text/plain": [
       "                                               title  \\\n",
       "0                                How to Learn Online   \n",
       "1  Programming for Everybody (Getting Started wit...   \n",
       "2            CS50's Introduction to Computer Science   \n",
       "3                                 The Analytics Edge   \n",
       "4  Marketing Analytics: Marketing Measurement Str...   \n",
       "\n",
       "                                             summary n_enrolled  \\\n",
       "0  Learn essential strategies for successful onli...    124,980   \n",
       "1  This course is a \"no prerequisite\" introductio...    293,864   \n",
       "2  An introduction to the intellectual enterprise...  2,442,271   \n",
       "3  Through inspiring examples and stories, discov...    129,555   \n",
       "4     This course is part of a MicroMasters® Program     81,140   \n",
       "\n",
       "                           course_type                            institution  \\\n",
       "0              Self-paced on your time                                    edX   \n",
       "1              Self-paced on your time             The University of Michigan   \n",
       "2              Self-paced on your time                     Harvard University   \n",
       "3  Instructor-led on a course schedule  Massachusetts Institute of Technology   \n",
       "4              Self-paced on your time     University of California, Berkeley   \n",
       "\n",
       "                                         instructors         Level  \\\n",
       "0            Nina Huntemann-Robyn Belair-Ben Piscopo  Introductory   \n",
       "1                                  Charles Severance  Introductory   \n",
       "2                 David J. Malan-Doug Lloyd-Brian Yu  Introductory   \n",
       "3  Dimitris Bertsimas-Allison O'Hair-John Silberh...  Intermediate   \n",
       "4                                     Stephan Sorger  Introductory   \n",
       "\n",
       "                        subject language subtitles         course_effort  \\\n",
       "0  Education & Teacher Training  English   English    2–3 hours per week   \n",
       "1              Computer Science  English   English    2–4 hours per week   \n",
       "2              Computer Science  English   English   6–18 hours per week   \n",
       "3    Data Analysis & Statistics  English   English  10–15 hours per week   \n",
       "4              Computer Science  English   English    5–7 hours per week   \n",
       "\n",
       "  course_length                                         price  \\\n",
       "0       2 Weeks   FREE-Add a Verified Certificate for $49 USD   \n",
       "1       7 Weeks   FREE-Add a Verified Certificate for $49 USD   \n",
       "2      12 Weeks   FREE-Add a Verified Certificate for $90 USD   \n",
       "3      13 Weeks  FREE-Add a Verified Certificate for $199 USD   \n",
       "4       4 Weeks  FREE-Add a Verified Certificate for $249 USD   \n",
       "\n",
       "                                  course_description  \n",
       "0  Designed for those who are new to elearning, t...  \n",
       "1  This course aims to teach everyone the basics ...  \n",
       "2  This is CS50x , Harvard University's introduct...  \n",
       "3  In the last decade, the amount of data availab...  \n",
       "4  Begin your journey in a new career in marketin...  "
      ]
     },
     "execution_count": 250,
     "metadata": {},
     "output_type": "execute_result"
    }
   ],
   "source": [
    "edx_courses.head()"
   ]
  },
  {
   "attachments": {},
   "cell_type": "markdown",
   "metadata": {},
   "source": [
    "Hay que llenar los campos nulos para 'summary', 'n_enrolled', y 'course_description'. Para esto, hay que darle el correcto formato a las columnas"
   ]
  },
  {
   "cell_type": "code",
   "execution_count": 251,
   "metadata": {},
   "outputs": [
    {
     "data": {
      "text/html": [
       "<div>\n",
       "<style scoped>\n",
       "    .dataframe tbody tr th:only-of-type {\n",
       "        vertical-align: middle;\n",
       "    }\n",
       "\n",
       "    .dataframe tbody tr th {\n",
       "        vertical-align: top;\n",
       "    }\n",
       "\n",
       "    .dataframe thead th {\n",
       "        text-align: right;\n",
       "    }\n",
       "</style>\n",
       "<table border=\"1\" class=\"dataframe\">\n",
       "  <thead>\n",
       "    <tr style=\"text-align: right;\">\n",
       "      <th></th>\n",
       "      <th>title</th>\n",
       "      <th>summary</th>\n",
       "      <th>n_enrolled</th>\n",
       "      <th>course_type</th>\n",
       "      <th>institution</th>\n",
       "      <th>instructors</th>\n",
       "      <th>Level</th>\n",
       "      <th>subject</th>\n",
       "      <th>language</th>\n",
       "      <th>subtitles</th>\n",
       "      <th>course_effort</th>\n",
       "      <th>course_length</th>\n",
       "      <th>price</th>\n",
       "      <th>course_description</th>\n",
       "    </tr>\n",
       "  </thead>\n",
       "  <tbody>\n",
       "    <tr>\n",
       "      <th>0</th>\n",
       "      <td>How to Learn Online</td>\n",
       "      <td>Learn essential strategies for successful onli...</td>\n",
       "      <td>124,980</td>\n",
       "      <td>Self-paced on your time</td>\n",
       "      <td>edX</td>\n",
       "      <td>Nina Huntemann-Robyn Belair-Ben Piscopo</td>\n",
       "      <td>Introductory</td>\n",
       "      <td>Education &amp; Teacher Training</td>\n",
       "      <td>English</td>\n",
       "      <td>English</td>\n",
       "      <td>2–3 hours per week</td>\n",
       "      <td>2 Weeks</td>\n",
       "      <td>FREE-Add a Verified Certificate for $49 USD</td>\n",
       "      <td>Designed for those who are new to elearning, t...</td>\n",
       "    </tr>\n",
       "    <tr>\n",
       "      <th>1</th>\n",
       "      <td>Programming for Everybody (Getting Started wit...</td>\n",
       "      <td>This course is a \"no prerequisite\" introductio...</td>\n",
       "      <td>293,864</td>\n",
       "      <td>Self-paced on your time</td>\n",
       "      <td>The University of Michigan</td>\n",
       "      <td>Charles Severance</td>\n",
       "      <td>Introductory</td>\n",
       "      <td>Computer Science</td>\n",
       "      <td>English</td>\n",
       "      <td>English</td>\n",
       "      <td>2–4 hours per week</td>\n",
       "      <td>7 Weeks</td>\n",
       "      <td>FREE-Add a Verified Certificate for $49 USD</td>\n",
       "      <td>This course aims to teach everyone the basics ...</td>\n",
       "    </tr>\n",
       "    <tr>\n",
       "      <th>2</th>\n",
       "      <td>CS50's Introduction to Computer Science</td>\n",
       "      <td>An introduction to the intellectual enterprise...</td>\n",
       "      <td>2,442,271</td>\n",
       "      <td>Self-paced on your time</td>\n",
       "      <td>Harvard University</td>\n",
       "      <td>David J. Malan-Doug Lloyd-Brian Yu</td>\n",
       "      <td>Introductory</td>\n",
       "      <td>Computer Science</td>\n",
       "      <td>English</td>\n",
       "      <td>English</td>\n",
       "      <td>6–18 hours per week</td>\n",
       "      <td>12 Weeks</td>\n",
       "      <td>FREE-Add a Verified Certificate for $90 USD</td>\n",
       "      <td>This is CS50x , Harvard University's introduct...</td>\n",
       "    </tr>\n",
       "    <tr>\n",
       "      <th>3</th>\n",
       "      <td>The Analytics Edge</td>\n",
       "      <td>Through inspiring examples and stories, discov...</td>\n",
       "      <td>129,555</td>\n",
       "      <td>Instructor-led on a course schedule</td>\n",
       "      <td>Massachusetts Institute of Technology</td>\n",
       "      <td>Dimitris Bertsimas-Allison O'Hair-John Silberh...</td>\n",
       "      <td>Intermediate</td>\n",
       "      <td>Data Analysis &amp; Statistics</td>\n",
       "      <td>English</td>\n",
       "      <td>English</td>\n",
       "      <td>10–15 hours per week</td>\n",
       "      <td>13 Weeks</td>\n",
       "      <td>FREE-Add a Verified Certificate for $199 USD</td>\n",
       "      <td>In the last decade, the amount of data availab...</td>\n",
       "    </tr>\n",
       "    <tr>\n",
       "      <th>4</th>\n",
       "      <td>Marketing Analytics: Marketing Measurement Str...</td>\n",
       "      <td>This course is part of a MicroMasters® Program</td>\n",
       "      <td>81,140</td>\n",
       "      <td>Self-paced on your time</td>\n",
       "      <td>University of California, Berkeley</td>\n",
       "      <td>Stephan Sorger</td>\n",
       "      <td>Introductory</td>\n",
       "      <td>Computer Science</td>\n",
       "      <td>English</td>\n",
       "      <td>English</td>\n",
       "      <td>5–7 hours per week</td>\n",
       "      <td>4 Weeks</td>\n",
       "      <td>FREE-Add a Verified Certificate for $249 USD</td>\n",
       "      <td>Begin your journey in a new career in marketin...</td>\n",
       "    </tr>\n",
       "  </tbody>\n",
       "</table>\n",
       "</div>"
      ],
      "text/plain": [
       "                                               title  \\\n",
       "0                                How to Learn Online   \n",
       "1  Programming for Everybody (Getting Started wit...   \n",
       "2            CS50's Introduction to Computer Science   \n",
       "3                                 The Analytics Edge   \n",
       "4  Marketing Analytics: Marketing Measurement Str...   \n",
       "\n",
       "                                             summary n_enrolled  \\\n",
       "0  Learn essential strategies for successful onli...    124,980   \n",
       "1  This course is a \"no prerequisite\" introductio...    293,864   \n",
       "2  An introduction to the intellectual enterprise...  2,442,271   \n",
       "3  Through inspiring examples and stories, discov...    129,555   \n",
       "4     This course is part of a MicroMasters® Program     81,140   \n",
       "\n",
       "                           course_type                            institution  \\\n",
       "0              Self-paced on your time                                    edX   \n",
       "1              Self-paced on your time             The University of Michigan   \n",
       "2              Self-paced on your time                     Harvard University   \n",
       "3  Instructor-led on a course schedule  Massachusetts Institute of Technology   \n",
       "4              Self-paced on your time     University of California, Berkeley   \n",
       "\n",
       "                                         instructors         Level  \\\n",
       "0            Nina Huntemann-Robyn Belair-Ben Piscopo  Introductory   \n",
       "1                                  Charles Severance  Introductory   \n",
       "2                 David J. Malan-Doug Lloyd-Brian Yu  Introductory   \n",
       "3  Dimitris Bertsimas-Allison O'Hair-John Silberh...  Intermediate   \n",
       "4                                     Stephan Sorger  Introductory   \n",
       "\n",
       "                        subject language subtitles         course_effort  \\\n",
       "0  Education & Teacher Training  English   English    2–3 hours per week   \n",
       "1              Computer Science  English   English    2–4 hours per week   \n",
       "2              Computer Science  English   English   6–18 hours per week   \n",
       "3    Data Analysis & Statistics  English   English  10–15 hours per week   \n",
       "4              Computer Science  English   English    5–7 hours per week   \n",
       "\n",
       "  course_length                                         price  \\\n",
       "0       2 Weeks   FREE-Add a Verified Certificate for $49 USD   \n",
       "1       7 Weeks   FREE-Add a Verified Certificate for $49 USD   \n",
       "2      12 Weeks   FREE-Add a Verified Certificate for $90 USD   \n",
       "3      13 Weeks  FREE-Add a Verified Certificate for $199 USD   \n",
       "4       4 Weeks  FREE-Add a Verified Certificate for $249 USD   \n",
       "\n",
       "                                  course_description  \n",
       "0  Designed for those who are new to elearning, t...  \n",
       "1  This course aims to teach everyone the basics ...  \n",
       "2  This is CS50x , Harvard University's introduct...  \n",
       "3  In the last decade, the amount of data availab...  \n",
       "4  Begin your journey in a new career in marketin...  "
      ]
     },
     "execution_count": 251,
     "metadata": {},
     "output_type": "execute_result"
    }
   ],
   "source": [
    "edx_courses.head()"
   ]
  },
  {
   "cell_type": "code",
   "execution_count": 252,
   "metadata": {},
   "outputs": [
    {
     "name": "stderr",
     "output_type": "stream",
     "text": [
      "C:\\Users\\kaod_\\AppData\\Local\\Temp\\ipykernel_35644\\3765366794.py:2: SettingWithCopyWarning: \n",
      "A value is trying to be set on a copy of a slice from a DataFrame.\n",
      "Try using .loc[row_indexer,col_indexer] = value instead\n",
      "\n",
      "See the caveats in the documentation: https://pandas.pydata.org/pandas-docs/stable/user_guide/indexing.html#returning-a-view-versus-a-copy\n",
      "  edx_courses['n_enrolled'] = edx_courses['n_enrolled'].str.replace(',', '').astype(float)\n"
     ]
    }
   ],
   "source": [
    "# se quitan las comas de n_enrolled y se formatea la columna a entero\n",
    "edx_courses['n_enrolled'] = edx_courses['n_enrolled'].str.replace(',', '').astype(float)"
   ]
  },
  {
   "cell_type": "code",
   "execution_count": 253,
   "metadata": {},
   "outputs": [
    {
     "data": {
      "text/html": [
       "<div>\n",
       "<style scoped>\n",
       "    .dataframe tbody tr th:only-of-type {\n",
       "        vertical-align: middle;\n",
       "    }\n",
       "\n",
       "    .dataframe tbody tr th {\n",
       "        vertical-align: top;\n",
       "    }\n",
       "\n",
       "    .dataframe thead th {\n",
       "        text-align: right;\n",
       "    }\n",
       "</style>\n",
       "<table border=\"1\" class=\"dataframe\">\n",
       "  <thead>\n",
       "    <tr style=\"text-align: right;\">\n",
       "      <th></th>\n",
       "      <th>title</th>\n",
       "      <th>summary</th>\n",
       "      <th>n_enrolled</th>\n",
       "      <th>course_type</th>\n",
       "      <th>institution</th>\n",
       "      <th>instructors</th>\n",
       "      <th>Level</th>\n",
       "      <th>subject</th>\n",
       "      <th>language</th>\n",
       "      <th>subtitles</th>\n",
       "      <th>course_effort</th>\n",
       "      <th>course_length</th>\n",
       "      <th>price</th>\n",
       "      <th>course_description</th>\n",
       "    </tr>\n",
       "  </thead>\n",
       "  <tbody>\n",
       "    <tr>\n",
       "      <th>0</th>\n",
       "      <td>How to Learn Online</td>\n",
       "      <td>Learn essential strategies for successful onli...</td>\n",
       "      <td>124980.0</td>\n",
       "      <td>Self-paced on your time</td>\n",
       "      <td>edX</td>\n",
       "      <td>Nina Huntemann-Robyn Belair-Ben Piscopo</td>\n",
       "      <td>Introductory</td>\n",
       "      <td>Education &amp; Teacher Training</td>\n",
       "      <td>English</td>\n",
       "      <td>English</td>\n",
       "      <td>2–3 hours per week</td>\n",
       "      <td>2 Weeks</td>\n",
       "      <td>FREE-Add a Verified Certificate for $49 USD</td>\n",
       "      <td>Designed for those who are new to elearning, t...</td>\n",
       "    </tr>\n",
       "    <tr>\n",
       "      <th>1</th>\n",
       "      <td>Programming for Everybody (Getting Started wit...</td>\n",
       "      <td>This course is a \"no prerequisite\" introductio...</td>\n",
       "      <td>293864.0</td>\n",
       "      <td>Self-paced on your time</td>\n",
       "      <td>The University of Michigan</td>\n",
       "      <td>Charles Severance</td>\n",
       "      <td>Introductory</td>\n",
       "      <td>Computer Science</td>\n",
       "      <td>English</td>\n",
       "      <td>English</td>\n",
       "      <td>2–4 hours per week</td>\n",
       "      <td>7 Weeks</td>\n",
       "      <td>FREE-Add a Verified Certificate for $49 USD</td>\n",
       "      <td>This course aims to teach everyone the basics ...</td>\n",
       "    </tr>\n",
       "    <tr>\n",
       "      <th>2</th>\n",
       "      <td>CS50's Introduction to Computer Science</td>\n",
       "      <td>An introduction to the intellectual enterprise...</td>\n",
       "      <td>2442271.0</td>\n",
       "      <td>Self-paced on your time</td>\n",
       "      <td>Harvard University</td>\n",
       "      <td>David J. Malan-Doug Lloyd-Brian Yu</td>\n",
       "      <td>Introductory</td>\n",
       "      <td>Computer Science</td>\n",
       "      <td>English</td>\n",
       "      <td>English</td>\n",
       "      <td>6–18 hours per week</td>\n",
       "      <td>12 Weeks</td>\n",
       "      <td>FREE-Add a Verified Certificate for $90 USD</td>\n",
       "      <td>This is CS50x , Harvard University's introduct...</td>\n",
       "    </tr>\n",
       "    <tr>\n",
       "      <th>3</th>\n",
       "      <td>The Analytics Edge</td>\n",
       "      <td>Through inspiring examples and stories, discov...</td>\n",
       "      <td>129555.0</td>\n",
       "      <td>Instructor-led on a course schedule</td>\n",
       "      <td>Massachusetts Institute of Technology</td>\n",
       "      <td>Dimitris Bertsimas-Allison O'Hair-John Silberh...</td>\n",
       "      <td>Intermediate</td>\n",
       "      <td>Data Analysis &amp; Statistics</td>\n",
       "      <td>English</td>\n",
       "      <td>English</td>\n",
       "      <td>10–15 hours per week</td>\n",
       "      <td>13 Weeks</td>\n",
       "      <td>FREE-Add a Verified Certificate for $199 USD</td>\n",
       "      <td>In the last decade, the amount of data availab...</td>\n",
       "    </tr>\n",
       "    <tr>\n",
       "      <th>4</th>\n",
       "      <td>Marketing Analytics: Marketing Measurement Str...</td>\n",
       "      <td>This course is part of a MicroMasters® Program</td>\n",
       "      <td>81140.0</td>\n",
       "      <td>Self-paced on your time</td>\n",
       "      <td>University of California, Berkeley</td>\n",
       "      <td>Stephan Sorger</td>\n",
       "      <td>Introductory</td>\n",
       "      <td>Computer Science</td>\n",
       "      <td>English</td>\n",
       "      <td>English</td>\n",
       "      <td>5–7 hours per week</td>\n",
       "      <td>4 Weeks</td>\n",
       "      <td>FREE-Add a Verified Certificate for $249 USD</td>\n",
       "      <td>Begin your journey in a new career in marketin...</td>\n",
       "    </tr>\n",
       "  </tbody>\n",
       "</table>\n",
       "</div>"
      ],
      "text/plain": [
       "                                               title  \\\n",
       "0                                How to Learn Online   \n",
       "1  Programming for Everybody (Getting Started wit...   \n",
       "2            CS50's Introduction to Computer Science   \n",
       "3                                 The Analytics Edge   \n",
       "4  Marketing Analytics: Marketing Measurement Str...   \n",
       "\n",
       "                                             summary  n_enrolled  \\\n",
       "0  Learn essential strategies for successful onli...    124980.0   \n",
       "1  This course is a \"no prerequisite\" introductio...    293864.0   \n",
       "2  An introduction to the intellectual enterprise...   2442271.0   \n",
       "3  Through inspiring examples and stories, discov...    129555.0   \n",
       "4     This course is part of a MicroMasters® Program     81140.0   \n",
       "\n",
       "                           course_type                            institution  \\\n",
       "0              Self-paced on your time                                    edX   \n",
       "1              Self-paced on your time             The University of Michigan   \n",
       "2              Self-paced on your time                     Harvard University   \n",
       "3  Instructor-led on a course schedule  Massachusetts Institute of Technology   \n",
       "4              Self-paced on your time     University of California, Berkeley   \n",
       "\n",
       "                                         instructors         Level  \\\n",
       "0            Nina Huntemann-Robyn Belair-Ben Piscopo  Introductory   \n",
       "1                                  Charles Severance  Introductory   \n",
       "2                 David J. Malan-Doug Lloyd-Brian Yu  Introductory   \n",
       "3  Dimitris Bertsimas-Allison O'Hair-John Silberh...  Intermediate   \n",
       "4                                     Stephan Sorger  Introductory   \n",
       "\n",
       "                        subject language subtitles         course_effort  \\\n",
       "0  Education & Teacher Training  English   English    2–3 hours per week   \n",
       "1              Computer Science  English   English    2–4 hours per week   \n",
       "2              Computer Science  English   English   6–18 hours per week   \n",
       "3    Data Analysis & Statistics  English   English  10–15 hours per week   \n",
       "4              Computer Science  English   English    5–7 hours per week   \n",
       "\n",
       "  course_length                                         price  \\\n",
       "0       2 Weeks   FREE-Add a Verified Certificate for $49 USD   \n",
       "1       7 Weeks   FREE-Add a Verified Certificate for $49 USD   \n",
       "2      12 Weeks   FREE-Add a Verified Certificate for $90 USD   \n",
       "3      13 Weeks  FREE-Add a Verified Certificate for $199 USD   \n",
       "4       4 Weeks  FREE-Add a Verified Certificate for $249 USD   \n",
       "\n",
       "                                  course_description  \n",
       "0  Designed for those who are new to elearning, t...  \n",
       "1  This course aims to teach everyone the basics ...  \n",
       "2  This is CS50x , Harvard University's introduct...  \n",
       "3  In the last decade, the amount of data availab...  \n",
       "4  Begin your journey in a new career in marketin...  "
      ]
     },
     "execution_count": 253,
     "metadata": {},
     "output_type": "execute_result"
    }
   ],
   "source": [
    "edx_courses.head()"
   ]
  },
  {
   "attachments": {},
   "cell_type": "markdown",
   "metadata": {},
   "source": [
    "Ahora, la columna n_enrolled es de tipo float. Vamos a llenar los nulos con un 0 para luego convertir a enteros."
   ]
  },
  {
   "cell_type": "code",
   "execution_count": 254,
   "metadata": {},
   "outputs": [
    {
     "name": "stderr",
     "output_type": "stream",
     "text": [
      "C:\\Users\\kaod_\\AppData\\Local\\Temp\\ipykernel_35644\\3259208710.py:1: SettingWithCopyWarning: \n",
      "A value is trying to be set on a copy of a slice from a DataFrame.\n",
      "Try using .loc[row_indexer,col_indexer] = value instead\n",
      "\n",
      "See the caveats in the documentation: https://pandas.pydata.org/pandas-docs/stable/user_guide/indexing.html#returning-a-view-versus-a-copy\n",
      "  edx_courses.n_enrolled = edx_courses.n_enrolled.fillna(0)\n"
     ]
    }
   ],
   "source": [
    "edx_courses.n_enrolled = edx_courses.n_enrolled.fillna(0)"
   ]
  },
  {
   "cell_type": "code",
   "execution_count": 255,
   "metadata": {},
   "outputs": [
    {
     "name": "stderr",
     "output_type": "stream",
     "text": [
      "C:\\Users\\kaod_\\AppData\\Local\\Temp\\ipykernel_35644\\3031179724.py:3: SettingWithCopyWarning: \n",
      "A value is trying to be set on a copy of a slice from a DataFrame.\n",
      "Try using .loc[row_indexer,col_indexer] = value instead\n",
      "\n",
      "See the caveats in the documentation: https://pandas.pydata.org/pandas-docs/stable/user_guide/indexing.html#returning-a-view-versus-a-copy\n",
      "  edx_courses.n_enrolled = edx_courses.n_enrolled.astype(int)\n"
     ]
    },
    {
     "data": {
      "text/plain": [
       "title                 object\n",
       "summary               object\n",
       "n_enrolled             int32\n",
       "course_type           object\n",
       "institution           object\n",
       "instructors           object\n",
       "Level                 object\n",
       "subject               object\n",
       "language              object\n",
       "subtitles             object\n",
       "course_effort         object\n",
       "course_length         object\n",
       "price                 object\n",
       "course_description    object\n",
       "dtype: object"
      ]
     },
     "execution_count": 255,
     "metadata": {},
     "output_type": "execute_result"
    }
   ],
   "source": [
    "# convertimos a entero\n",
    "\n",
    "edx_courses.n_enrolled = edx_courses.n_enrolled.astype(int)\n",
    "edx_courses.dtypes"
   ]
  },
  {
   "cell_type": "code",
   "execution_count": 256,
   "metadata": {},
   "outputs": [
    {
     "data": {
      "text/plain": [
       "count    9.740000e+02\n",
       "mean     4.665329e+04\n",
       "std      1.128702e+05\n",
       "min      0.000000e+00\n",
       "25%      8.523250e+03\n",
       "50%      1.965050e+04\n",
       "75%      4.880900e+04\n",
       "max      2.442271e+06\n",
       "Name: n_enrolled, dtype: float64"
      ]
     },
     "execution_count": 256,
     "metadata": {},
     "output_type": "execute_result"
    }
   ],
   "source": [
    "# observemos ahora una descripción de esta columna 'n_enrolled' \n",
    "edx_courses['n_enrolled'].describe()"
   ]
  },
  {
   "cell_type": "code",
   "execution_count": 257,
   "metadata": {},
   "outputs": [
    {
     "data": {
      "text/plain": [
       "<AxesSubplot:>"
      ]
     },
     "execution_count": 257,
     "metadata": {},
     "output_type": "execute_result"
    },
    {
     "data": {
      "image/png": "[encoded data removed]",
      "text/plain": [
       "<Figure size 640x480 with 1 Axes>"
      ]
     },
     "metadata": {},
     "output_type": "display_data"
    }
   ],
   "source": [
    "# hagamos un histograma, con ciertos outliars\n",
    "edx_courses['n_enrolled'].hist(bins=200)"
   ]
  },
  {
   "cell_type": "code",
   "execution_count": 258,
   "metadata": {},
   "outputs": [
    {
     "data": {
      "text/plain": [
       "0        120\n",
       "11426      2\n",
       "10129      2\n",
       "5473       2\n",
       "16134      2\n",
       "        ... \n",
       "35058      1\n",
       "9796       1\n",
       "66769      1\n",
       "22366      1\n",
       "8775       1\n",
       "Name: n_enrolled, Length: 850, dtype: int64"
      ]
     },
     "execution_count": 258,
     "metadata": {},
     "output_type": "execute_result"
    }
   ],
   "source": [
    "edx_courses['n_enrolled'].value_counts()"
   ]
  },
  {
   "cell_type": "code",
   "execution_count": 259,
   "metadata": {},
   "outputs": [
    {
     "name": "stderr",
     "output_type": "stream",
     "text": [
      "C:\\Users\\kaod_\\AppData\\Local\\Temp\\ipykernel_35644\\4265699941.py:2: SettingWithCopyWarning: \n",
      "A value is trying to be set on a copy of a slice from a DataFrame.\n",
      "Try using .loc[row_indexer,col_indexer] = value instead\n",
      "\n",
      "See the caveats in the documentation: https://pandas.pydata.org/pandas-docs/stable/user_guide/indexing.html#returning-a-view-versus-a-copy\n",
      "  edx_courses['n_enrolled'] = edx_courses['n_enrolled'].replace(0, 46653)\n"
     ]
    }
   ],
   "source": [
    "# sustituyendo la media redondeada en los valores donde hay 0:\n",
    "edx_courses['n_enrolled'] = edx_courses['n_enrolled'].replace(0, 46653)\n"
   ]
  },
  {
   "cell_type": "code",
   "execution_count": 260,
   "metadata": {},
   "outputs": [
    {
     "data": {
      "text/plain": [
       "120"
      ]
     },
     "execution_count": 260,
     "metadata": {},
     "output_type": "execute_result"
    }
   ],
   "source": [
    "# se comprueba que son exactamente los 120 valores donde había cero.\n",
    "edx_courses.apply(lambda x: x['n_enrolled'] == 46653, axis=1).sum()"
   ]
  },
  {
   "cell_type": "code",
   "execution_count": null,
   "metadata": {},
   "outputs": [],
   "source": [
    "''' checar course_effort para poder cuantizar variables\n",
    "    formatear course_length\n",
    "    formnatear el título de la columna Level\n",
    "    formatear price\n",
    "    checar course syllabus\n",
    "    se podría eliminar la columna syllabus '''"
   ]
  },
  {
   "cell_type": "code",
   "execution_count": 261,
   "metadata": {},
   "outputs": [
    {
     "data": {
      "text/plain": [
       "array(['2 Weeks', '7 Weeks', '12 Weeks', '13 Weeks', '4 Weeks', '6 Weeks',\n",
       "       '10 Weeks', '8 Weeks', '5 Weeks', '16 Weeks', '15 Weeks',\n",
       "       '1 Weeks', '11 Weeks', '14 Weeks', '9 Weeks', '3 Weeks',\n",
       "       '18 Weeks', '17 Weeks'], dtype=object)"
      ]
     },
     "execution_count": 261,
     "metadata": {},
     "output_type": "execute_result"
    }
   ],
   "source": [
    "edx_courses['course_length'].unique()"
   ]
  },
  {
   "cell_type": "code",
   "execution_count": 262,
   "metadata": {},
   "outputs": [
    {
     "name": "stderr",
     "output_type": "stream",
     "text": [
      "C:\\Users\\kaod_\\AppData\\Local\\Temp\\ipykernel_35644\\741756235.py:2: SettingWithCopyWarning: \n",
      "A value is trying to be set on a copy of a slice from a DataFrame\n",
      "\n",
      "See the caveats in the documentation: https://pandas.pydata.org/pandas-docs/stable/user_guide/indexing.html#returning-a-view-versus-a-copy\n",
      "  edx_courses.rename({'course_length': 'course_length(weeks)', 'Level': 'level'}, axis=1, inplace= True)\n"
     ]
    }
   ],
   "source": [
    "# cambiamos nombre a las columnas 'course_length' y 'Level'\n",
    "edx_courses.rename({'course_length': 'course_length(weeks)', 'Level': 'level'}, axis=1, inplace= True)"
   ]
  },
  {
   "cell_type": "code",
   "execution_count": 263,
   "metadata": {},
   "outputs": [
    {
     "data": {
      "text/html": [
       "<div>\n",
       "<style scoped>\n",
       "    .dataframe tbody tr th:only-of-type {\n",
       "        vertical-align: middle;\n",
       "    }\n",
       "\n",
       "    .dataframe tbody tr th {\n",
       "        vertical-align: top;\n",
       "    }\n",
       "\n",
       "    .dataframe thead th {\n",
       "        text-align: right;\n",
       "    }\n",
       "</style>\n",
       "<table border=\"1\" class=\"dataframe\">\n",
       "  <thead>\n",
       "    <tr style=\"text-align: right;\">\n",
       "      <th></th>\n",
       "      <th>title</th>\n",
       "      <th>summary</th>\n",
       "      <th>n_enrolled</th>\n",
       "      <th>course_type</th>\n",
       "      <th>institution</th>\n",
       "      <th>instructors</th>\n",
       "      <th>level</th>\n",
       "      <th>subject</th>\n",
       "      <th>language</th>\n",
       "      <th>subtitles</th>\n",
       "      <th>course_effort</th>\n",
       "      <th>course_length(weeks)</th>\n",
       "      <th>price</th>\n",
       "      <th>course_description</th>\n",
       "    </tr>\n",
       "  </thead>\n",
       "  <tbody>\n",
       "    <tr>\n",
       "      <th>0</th>\n",
       "      <td>How to Learn Online</td>\n",
       "      <td>Learn essential strategies for successful onli...</td>\n",
       "      <td>124980</td>\n",
       "      <td>Self-paced on your time</td>\n",
       "      <td>edX</td>\n",
       "      <td>Nina Huntemann-Robyn Belair-Ben Piscopo</td>\n",
       "      <td>Introductory</td>\n",
       "      <td>Education &amp; Teacher Training</td>\n",
       "      <td>English</td>\n",
       "      <td>English</td>\n",
       "      <td>2–3 hours per week</td>\n",
       "      <td>2 Weeks</td>\n",
       "      <td>FREE-Add a Verified Certificate for $49 USD</td>\n",
       "      <td>Designed for those who are new to elearning, t...</td>\n",
       "    </tr>\n",
       "    <tr>\n",
       "      <th>1</th>\n",
       "      <td>Programming for Everybody (Getting Started wit...</td>\n",
       "      <td>This course is a \"no prerequisite\" introductio...</td>\n",
       "      <td>293864</td>\n",
       "      <td>Self-paced on your time</td>\n",
       "      <td>The University of Michigan</td>\n",
       "      <td>Charles Severance</td>\n",
       "      <td>Introductory</td>\n",
       "      <td>Computer Science</td>\n",
       "      <td>English</td>\n",
       "      <td>English</td>\n",
       "      <td>2–4 hours per week</td>\n",
       "      <td>7 Weeks</td>\n",
       "      <td>FREE-Add a Verified Certificate for $49 USD</td>\n",
       "      <td>This course aims to teach everyone the basics ...</td>\n",
       "    </tr>\n",
       "    <tr>\n",
       "      <th>2</th>\n",
       "      <td>CS50's Introduction to Computer Science</td>\n",
       "      <td>An introduction to the intellectual enterprise...</td>\n",
       "      <td>2442271</td>\n",
       "      <td>Self-paced on your time</td>\n",
       "      <td>Harvard University</td>\n",
       "      <td>David J. Malan-Doug Lloyd-Brian Yu</td>\n",
       "      <td>Introductory</td>\n",
       "      <td>Computer Science</td>\n",
       "      <td>English</td>\n",
       "      <td>English</td>\n",
       "      <td>6–18 hours per week</td>\n",
       "      <td>12 Weeks</td>\n",
       "      <td>FREE-Add a Verified Certificate for $90 USD</td>\n",
       "      <td>This is CS50x , Harvard University's introduct...</td>\n",
       "    </tr>\n",
       "    <tr>\n",
       "      <th>3</th>\n",
       "      <td>The Analytics Edge</td>\n",
       "      <td>Through inspiring examples and stories, discov...</td>\n",
       "      <td>129555</td>\n",
       "      <td>Instructor-led on a course schedule</td>\n",
       "      <td>Massachusetts Institute of Technology</td>\n",
       "      <td>Dimitris Bertsimas-Allison O'Hair-John Silberh...</td>\n",
       "      <td>Intermediate</td>\n",
       "      <td>Data Analysis &amp; Statistics</td>\n",
       "      <td>English</td>\n",
       "      <td>English</td>\n",
       "      <td>10–15 hours per week</td>\n",
       "      <td>13 Weeks</td>\n",
       "      <td>FREE-Add a Verified Certificate for $199 USD</td>\n",
       "      <td>In the last decade, the amount of data availab...</td>\n",
       "    </tr>\n",
       "    <tr>\n",
       "      <th>4</th>\n",
       "      <td>Marketing Analytics: Marketing Measurement Str...</td>\n",
       "      <td>This course is part of a MicroMasters® Program</td>\n",
       "      <td>81140</td>\n",
       "      <td>Self-paced on your time</td>\n",
       "      <td>University of California, Berkeley</td>\n",
       "      <td>Stephan Sorger</td>\n",
       "      <td>Introductory</td>\n",
       "      <td>Computer Science</td>\n",
       "      <td>English</td>\n",
       "      <td>English</td>\n",
       "      <td>5–7 hours per week</td>\n",
       "      <td>4 Weeks</td>\n",
       "      <td>FREE-Add a Verified Certificate for $249 USD</td>\n",
       "      <td>Begin your journey in a new career in marketin...</td>\n",
       "    </tr>\n",
       "  </tbody>\n",
       "</table>\n",
       "</div>"
      ],
      "text/plain": [
       "                                               title  \\\n",
       "0                                How to Learn Online   \n",
       "1  Programming for Everybody (Getting Started wit...   \n",
       "2            CS50's Introduction to Computer Science   \n",
       "3                                 The Analytics Edge   \n",
       "4  Marketing Analytics: Marketing Measurement Str...   \n",
       "\n",
       "                                             summary  n_enrolled  \\\n",
       "0  Learn essential strategies for successful onli...      124980   \n",
       "1  This course is a \"no prerequisite\" introductio...      293864   \n",
       "2  An introduction to the intellectual enterprise...     2442271   \n",
       "3  Through inspiring examples and stories, discov...      129555   \n",
       "4     This course is part of a MicroMasters® Program       81140   \n",
       "\n",
       "                           course_type                            institution  \\\n",
       "0              Self-paced on your time                                    edX   \n",
       "1              Self-paced on your time             The University of Michigan   \n",
       "2              Self-paced on your time                     Harvard University   \n",
       "3  Instructor-led on a course schedule  Massachusetts Institute of Technology   \n",
       "4              Self-paced on your time     University of California, Berkeley   \n",
       "\n",
       "                                         instructors         level  \\\n",
       "0            Nina Huntemann-Robyn Belair-Ben Piscopo  Introductory   \n",
       "1                                  Charles Severance  Introductory   \n",
       "2                 David J. Malan-Doug Lloyd-Brian Yu  Introductory   \n",
       "3  Dimitris Bertsimas-Allison O'Hair-John Silberh...  Intermediate   \n",
       "4                                     Stephan Sorger  Introductory   \n",
       "\n",
       "                        subject language subtitles         course_effort  \\\n",
       "0  Education & Teacher Training  English   English    2–3 hours per week   \n",
       "1              Computer Science  English   English    2–4 hours per week   \n",
       "2              Computer Science  English   English   6–18 hours per week   \n",
       "3    Data Analysis & Statistics  English   English  10–15 hours per week   \n",
       "4              Computer Science  English   English    5–7 hours per week   \n",
       "\n",
       "  course_length(weeks)                                         price  \\\n",
       "0              2 Weeks   FREE-Add a Verified Certificate for $49 USD   \n",
       "1              7 Weeks   FREE-Add a Verified Certificate for $49 USD   \n",
       "2             12 Weeks   FREE-Add a Verified Certificate for $90 USD   \n",
       "3             13 Weeks  FREE-Add a Verified Certificate for $199 USD   \n",
       "4              4 Weeks  FREE-Add a Verified Certificate for $249 USD   \n",
       "\n",
       "                                  course_description  \n",
       "0  Designed for those who are new to elearning, t...  \n",
       "1  This course aims to teach everyone the basics ...  \n",
       "2  This is CS50x , Harvard University's introduct...  \n",
       "3  In the last decade, the amount of data availab...  \n",
       "4  Begin your journey in a new career in marketin...  "
      ]
     },
     "execution_count": 263,
     "metadata": {},
     "output_type": "execute_result"
    }
   ],
   "source": [
    "edx_courses.head()"
   ]
  },
  {
   "attachments": {},
   "cell_type": "markdown",
   "metadata": {},
   "source": [
    "Cuantizando la columna course_length(weeks)"
   ]
  },
  {
   "cell_type": "code",
   "execution_count": 265,
   "metadata": {},
   "outputs": [
    {
     "name": "stderr",
     "output_type": "stream",
     "text": [
      "C:\\Users\\kaod_\\AppData\\Local\\Temp\\ipykernel_35644\\2436078395.py:4: SettingWithCopyWarning: \n",
      "A value is trying to be set on a copy of a slice from a DataFrame.\n",
      "Try using .loc[row_indexer,col_indexer] = value instead\n",
      "\n",
      "See the caveats in the documentation: https://pandas.pydata.org/pandas-docs/stable/user_guide/indexing.html#returning-a-view-versus-a-copy\n",
      "  edx_courses['course_length(weeks)'] = edx_courses['course_length(weeks)'].replace({'Weeks':''}, regex=True)\n"
     ]
    }
   ],
   "source": [
    "# !!!!!!\n",
    "# quitamos la palabra 'Weeks' de todos los registros\n",
    "# edx_courses['course_length(weeks)'] = edx_courses['course_length(weeks)'].replace('Weeks','', inplace=True)\n",
    "edx_courses['course_length(weeks)'] = edx_courses['course_length(weeks)'].replace({'Weeks':''}, regex=True)"
   ]
  },
  {
   "cell_type": "code",
   "execution_count": 266,
   "metadata": {},
   "outputs": [
    {
     "data": {
      "text/html": [
       "<div>\n",
       "<style scoped>\n",
       "    .dataframe tbody tr th:only-of-type {\n",
       "        vertical-align: middle;\n",
       "    }\n",
       "\n",
       "    .dataframe tbody tr th {\n",
       "        vertical-align: top;\n",
       "    }\n",
       "\n",
       "    .dataframe thead th {\n",
       "        text-align: right;\n",
       "    }\n",
       "</style>\n",
       "<table border=\"1\" class=\"dataframe\">\n",
       "  <thead>\n",
       "    <tr style=\"text-align: right;\">\n",
       "      <th></th>\n",
       "      <th>title</th>\n",
       "      <th>summary</th>\n",
       "      <th>n_enrolled</th>\n",
       "      <th>course_type</th>\n",
       "      <th>institution</th>\n",
       "      <th>instructors</th>\n",
       "      <th>level</th>\n",
       "      <th>subject</th>\n",
       "      <th>language</th>\n",
       "      <th>subtitles</th>\n",
       "      <th>course_effort</th>\n",
       "      <th>course_length(weeks)</th>\n",
       "      <th>price</th>\n",
       "      <th>course_description</th>\n",
       "    </tr>\n",
       "  </thead>\n",
       "  <tbody>\n",
       "    <tr>\n",
       "      <th>0</th>\n",
       "      <td>How to Learn Online</td>\n",
       "      <td>Learn essential strategies for successful onli...</td>\n",
       "      <td>124980</td>\n",
       "      <td>Self-paced on your time</td>\n",
       "      <td>edX</td>\n",
       "      <td>Nina Huntemann-Robyn Belair-Ben Piscopo</td>\n",
       "      <td>Introductory</td>\n",
       "      <td>Education &amp; Teacher Training</td>\n",
       "      <td>English</td>\n",
       "      <td>English</td>\n",
       "      <td>2–3 hours per week</td>\n",
       "      <td>2</td>\n",
       "      <td>FREE-Add a Verified Certificate for $49 USD</td>\n",
       "      <td>Designed for those who are new to elearning, t...</td>\n",
       "    </tr>\n",
       "    <tr>\n",
       "      <th>1</th>\n",
       "      <td>Programming for Everybody (Getting Started wit...</td>\n",
       "      <td>This course is a \"no prerequisite\" introductio...</td>\n",
       "      <td>293864</td>\n",
       "      <td>Self-paced on your time</td>\n",
       "      <td>The University of Michigan</td>\n",
       "      <td>Charles Severance</td>\n",
       "      <td>Introductory</td>\n",
       "      <td>Computer Science</td>\n",
       "      <td>English</td>\n",
       "      <td>English</td>\n",
       "      <td>2–4 hours per week</td>\n",
       "      <td>7</td>\n",
       "      <td>FREE-Add a Verified Certificate for $49 USD</td>\n",
       "      <td>This course aims to teach everyone the basics ...</td>\n",
       "    </tr>\n",
       "    <tr>\n",
       "      <th>2</th>\n",
       "      <td>CS50's Introduction to Computer Science</td>\n",
       "      <td>An introduction to the intellectual enterprise...</td>\n",
       "      <td>2442271</td>\n",
       "      <td>Self-paced on your time</td>\n",
       "      <td>Harvard University</td>\n",
       "      <td>David J. Malan-Doug Lloyd-Brian Yu</td>\n",
       "      <td>Introductory</td>\n",
       "      <td>Computer Science</td>\n",
       "      <td>English</td>\n",
       "      <td>English</td>\n",
       "      <td>6–18 hours per week</td>\n",
       "      <td>12</td>\n",
       "      <td>FREE-Add a Verified Certificate for $90 USD</td>\n",
       "      <td>This is CS50x , Harvard University's introduct...</td>\n",
       "    </tr>\n",
       "    <tr>\n",
       "      <th>3</th>\n",
       "      <td>The Analytics Edge</td>\n",
       "      <td>Through inspiring examples and stories, discov...</td>\n",
       "      <td>129555</td>\n",
       "      <td>Instructor-led on a course schedule</td>\n",
       "      <td>Massachusetts Institute of Technology</td>\n",
       "      <td>Dimitris Bertsimas-Allison O'Hair-John Silberh...</td>\n",
       "      <td>Intermediate</td>\n",
       "      <td>Data Analysis &amp; Statistics</td>\n",
       "      <td>English</td>\n",
       "      <td>English</td>\n",
       "      <td>10–15 hours per week</td>\n",
       "      <td>13</td>\n",
       "      <td>FREE-Add a Verified Certificate for $199 USD</td>\n",
       "      <td>In the last decade, the amount of data availab...</td>\n",
       "    </tr>\n",
       "    <tr>\n",
       "      <th>4</th>\n",
       "      <td>Marketing Analytics: Marketing Measurement Str...</td>\n",
       "      <td>This course is part of a MicroMasters® Program</td>\n",
       "      <td>81140</td>\n",
       "      <td>Self-paced on your time</td>\n",
       "      <td>University of California, Berkeley</td>\n",
       "      <td>Stephan Sorger</td>\n",
       "      <td>Introductory</td>\n",
       "      <td>Computer Science</td>\n",
       "      <td>English</td>\n",
       "      <td>English</td>\n",
       "      <td>5–7 hours per week</td>\n",
       "      <td>4</td>\n",
       "      <td>FREE-Add a Verified Certificate for $249 USD</td>\n",
       "      <td>Begin your journey in a new career in marketin...</td>\n",
       "    </tr>\n",
       "  </tbody>\n",
       "</table>\n",
       "</div>"
      ],
      "text/plain": [
       "                                               title  \\\n",
       "0                                How to Learn Online   \n",
       "1  Programming for Everybody (Getting Started wit...   \n",
       "2            CS50's Introduction to Computer Science   \n",
       "3                                 The Analytics Edge   \n",
       "4  Marketing Analytics: Marketing Measurement Str...   \n",
       "\n",
       "                                             summary  n_enrolled  \\\n",
       "0  Learn essential strategies for successful onli...      124980   \n",
       "1  This course is a \"no prerequisite\" introductio...      293864   \n",
       "2  An introduction to the intellectual enterprise...     2442271   \n",
       "3  Through inspiring examples and stories, discov...      129555   \n",
       "4     This course is part of a MicroMasters® Program       81140   \n",
       "\n",
       "                           course_type                            institution  \\\n",
       "0              Self-paced on your time                                    edX   \n",
       "1              Self-paced on your time             The University of Michigan   \n",
       "2              Self-paced on your time                     Harvard University   \n",
       "3  Instructor-led on a course schedule  Massachusetts Institute of Technology   \n",
       "4              Self-paced on your time     University of California, Berkeley   \n",
       "\n",
       "                                         instructors         level  \\\n",
       "0            Nina Huntemann-Robyn Belair-Ben Piscopo  Introductory   \n",
       "1                                  Charles Severance  Introductory   \n",
       "2                 David J. Malan-Doug Lloyd-Brian Yu  Introductory   \n",
       "3  Dimitris Bertsimas-Allison O'Hair-John Silberh...  Intermediate   \n",
       "4                                     Stephan Sorger  Introductory   \n",
       "\n",
       "                        subject language subtitles         course_effort  \\\n",
       "0  Education & Teacher Training  English   English    2–3 hours per week   \n",
       "1              Computer Science  English   English    2–4 hours per week   \n",
       "2              Computer Science  English   English   6–18 hours per week   \n",
       "3    Data Analysis & Statistics  English   English  10–15 hours per week   \n",
       "4              Computer Science  English   English    5–7 hours per week   \n",
       "\n",
       "  course_length(weeks)                                         price  \\\n",
       "0                   2    FREE-Add a Verified Certificate for $49 USD   \n",
       "1                   7    FREE-Add a Verified Certificate for $49 USD   \n",
       "2                  12    FREE-Add a Verified Certificate for $90 USD   \n",
       "3                  13   FREE-Add a Verified Certificate for $199 USD   \n",
       "4                   4   FREE-Add a Verified Certificate for $249 USD   \n",
       "\n",
       "                                  course_description  \n",
       "0  Designed for those who are new to elearning, t...  \n",
       "1  This course aims to teach everyone the basics ...  \n",
       "2  This is CS50x , Harvard University's introduct...  \n",
       "3  In the last decade, the amount of data availab...  \n",
       "4  Begin your journey in a new career in marketin...  "
      ]
     },
     "execution_count": 266,
     "metadata": {},
     "output_type": "execute_result"
    }
   ],
   "source": [
    "edx_courses.head()"
   ]
  },
  {
   "cell_type": "code",
   "execution_count": 267,
   "metadata": {},
   "outputs": [
    {
     "name": "stderr",
     "output_type": "stream",
     "text": [
      "C:\\Users\\kaod_\\AppData\\Local\\Temp\\ipykernel_35644\\1524731273.py:3: SettingWithCopyWarning: \n",
      "A value is trying to be set on a copy of a slice from a DataFrame\n",
      "\n",
      "See the caveats in the documentation: https://pandas.pydata.org/pandas-docs/stable/user_guide/indexing.html#returning-a-view-versus-a-copy\n",
      "  edx_courses.rename({'course_length(weeks)': 'course_length_weeks'}, axis=1, inplace= True)\n"
     ]
    }
   ],
   "source": [
    "# cambiando 'course_length(weeks)' a 'course_length_weeks'\n",
    "\n",
    "edx_courses.rename({'course_length(weeks)': 'course_length_weeks'}, axis=1, inplace= True)"
   ]
  },
  {
   "cell_type": "code",
   "execution_count": 269,
   "metadata": {},
   "outputs": [
    {
     "name": "stderr",
     "output_type": "stream",
     "text": [
      "C:\\Users\\kaod_\\AppData\\Local\\Temp\\ipykernel_35644\\1484537289.py:2: SettingWithCopyWarning: \n",
      "A value is trying to be set on a copy of a slice from a DataFrame.\n",
      "Try using .loc[row_indexer,col_indexer] = value instead\n",
      "\n",
      "See the caveats in the documentation: https://pandas.pydata.org/pandas-docs/stable/user_guide/indexing.html#returning-a-view-versus-a-copy\n",
      "  edx_courses.course_length_weeks = edx_courses.course_length_weeks.astype(int)\n"
     ]
    },
    {
     "data": {
      "text/plain": [
       "title                  object\n",
       "summary                object\n",
       "n_enrolled              int32\n",
       "course_type            object\n",
       "institution            object\n",
       "instructors            object\n",
       "level                  object\n",
       "subject                object\n",
       "language               object\n",
       "subtitles              object\n",
       "course_effort          object\n",
       "course_length_weeks     int32\n",
       "price                  object\n",
       "course_description     object\n",
       "dtype: object"
      ]
     },
     "execution_count": 269,
     "metadata": {},
     "output_type": "execute_result"
    }
   ],
   "source": [
    "# convirtiendo la columna 'course_length(weeks)' a int\n",
    "edx_courses.course_length_weeks = edx_courses.course_length_weeks.astype(int)\n",
    "edx_courses.dtypes"
   ]
  },
  {
   "attachments": {},
   "cell_type": "markdown",
   "metadata": {},
   "source": [
    "Cuantizando la columna 'price'"
   ]
  },
  {
   "cell_type": "code",
   "execution_count": 277,
   "metadata": {},
   "outputs": [
    {
     "data": {
      "text/plain": [
       "47"
      ]
     },
     "execution_count": 277,
     "metadata": {},
     "output_type": "execute_result"
    }
   ],
   "source": [
    "len(edx_courses['price'].unique())"
   ]
  },
  {
   "cell_type": "code",
   "execution_count": 276,
   "metadata": {},
   "outputs": [
    {
     "data": {
      "text/plain": [
       "array(['FREE-Add a Verified Certificate for $49 USD',\n",
       "       'FREE-Add a Verified Certificate for $90 USD',\n",
       "       'FREE-Add a Verified Certificate for $199 USD',\n",
       "       'FREE-Add a Verified Certificate for $249 USD',\n",
       "       'FREE-Add a Verified Certificate for $5 USD',\n",
       "       'FREE-Add a Verified Certificate for $99 USD',\n",
       "       'FREE-Add a Verified Certificate for $39 USD',\n",
       "       'FREE-Add a Verified Certificate for $399 USD',\n",
       "       'FREE-Add a Verified Certificate for $149 USD',\n",
       "       'FREE-Add a Verified Certificate for $125 USD',\n",
       "       'FREE-Add a Verified Certificate for $40 USD',\n",
       "       'FREE-Add a Verified Certificate for $25 USD',\n",
       "       'FREE-Add a Verified Certificate for $50 USD',\n",
       "       'FREE-Add a Verified Certificate for $169 USD',\n",
       "       'FREE-Add a Verified Certificate for $70 USD',\n",
       "       'FREE-Add a Verified Certificate for $79 USD',\n",
       "       'FREE-Add a Verified Certificate for $150 USD',\n",
       "       'FREE-Add a Verified Certificate for $69 USD',\n",
       "       'FREE-Add a Verified Certificate for $200 USD',\n",
       "       'FREE-Add a Verified Certificate for $225 USD',\n",
       "       'FREE-Add a Verified Certificate for $75 USD',\n",
       "       'FREE-Add a Verified Certificate for $300 USD',\n",
       "       'FREE-Add a Verified Certificate for $139 USD',\n",
       "       'FREE-Add a Verified Certificate for $350 USD',\n",
       "       'FREE-Add a Verified Certificate for $19 USD',\n",
       "       'FREE-Add a Verified Certificate for $100 USD',\n",
       "       'FREE-Add a Verified Certificate for $450 USD',\n",
       "       'FREE-Add a Verified Certificate for $119 USD',\n",
       "       'FREE-Add a Verified Certificate for $60 USD',\n",
       "       'FREE-Add a Verified Certificate for $299 USD',\n",
       "       'FREE-Add a Verified Certificate for $29 USD',\n",
       "       'FREE-Add a Verified Certificate for $65 USD',\n",
       "       'FREE-Add a Verified Certificate for $15 USD',\n",
       "       'FREE-Add a Verified Certificate for $214 USD',\n",
       "       'FREE-Add a Verified Certificate for $10 USD',\n",
       "       'FREE-Add a Verified Certificate for $49.99 USD',\n",
       "       'FREE-Add a Verified Certificate for $129 USD',\n",
       "       'FREE-Add a Verified Certificate for $59 USD',\n",
       "       'FREE-Add a Verified Certificate for $299.70 USD',\n",
       "       'FREE-Add a Verified Certificate for $179 USD',\n",
       "       'FREE-Add a Verified Certificate for $250 USD',\n",
       "       'FREE-Add a Verified Certificate for $399.60 USD',\n",
       "       'FREE-Add a Verified Certificate for $159 USD',\n",
       "       'FREE-Add a Verified Certificate for $375 USD',\n",
       "       'FREE-Add a Verified Certificate for $166 USD',\n",
       "       'FREE-Add a Verified Certificate for $49.90 USD',\n",
       "       'FREE-Add a Verified Certificate for $30 USD'], dtype=object)"
      ]
     },
     "execution_count": 276,
     "metadata": {},
     "output_type": "execute_result"
    }
   ],
   "source": [
    "edx_courses['price'].unique()"
   ]
  },
  {
   "cell_type": "code",
   "execution_count": 278,
   "metadata": {},
   "outputs": [
    {
     "name": "stderr",
     "output_type": "stream",
     "text": [
      "C:\\Users\\kaod_\\AppData\\Local\\Temp\\ipykernel_35644\\875382356.py:2: SettingWithCopyWarning: \n",
      "A value is trying to be set on a copy of a slice from a DataFrame\n",
      "\n",
      "See the caveats in the documentation: https://pandas.pydata.org/pandas-docs/stable/user_guide/indexing.html#returning-a-view-versus-a-copy\n",
      "  edx_courses.rename({'price': 'price_usd'}, axis=1, inplace= True)\n"
     ]
    }
   ],
   "source": [
    "# dejemos sólo el precio en dólares, renombremos la columna y cuanticemos\n",
    "edx_courses.rename({'price': 'price_usd'}, axis=1, inplace= True)"
   ]
  },
  {
   "cell_type": "code",
   "execution_count": 284,
   "metadata": {},
   "outputs": [
    {
     "name": "stderr",
     "output_type": "stream",
     "text": [
      "C:\\Users\\kaod_\\AppData\\Local\\Temp\\ipykernel_35644\\1972696085.py:1: SettingWithCopyWarning: \n",
      "A value is trying to be set on a copy of a slice from a DataFrame.\n",
      "Try using .loc[row_indexer,col_indexer] = value instead\n",
      "\n",
      "See the caveats in the documentation: https://pandas.pydata.org/pandas-docs/stable/user_guide/indexing.html#returning-a-view-versus-a-copy\n",
      "  edx_courses['price_usd'] = edx_courses['price_usd'].replace({'FREE-Add':''},\n"
     ]
    }
   ],
   "source": [
    "\n",
    "edx_courses['price_usd'] = edx_courses['price_usd'].replace({'FREE-Add':''},\n",
    "                                                            regex=True)"
   ]
  },
  {
   "cell_type": "code",
   "execution_count": 286,
   "metadata": {},
   "outputs": [
    {
     "name": "stderr",
     "output_type": "stream",
     "text": [
      "C:\\Users\\kaod_\\AppData\\Local\\Temp\\ipykernel_35644\\1408589513.py:1: SettingWithCopyWarning: \n",
      "A value is trying to be set on a copy of a slice from a DataFrame.\n",
      "Try using .loc[row_indexer,col_indexer] = value instead\n",
      "\n",
      "See the caveats in the documentation: https://pandas.pydata.org/pandas-docs/stable/user_guide/indexing.html#returning-a-view-versus-a-copy\n",
      "  edx_courses['price_usd'] = edx_courses['price_usd'].replace({'a Verified Certificate for ':''},\n"
     ]
    }
   ],
   "source": [
    "edx_courses['price_usd'] = edx_courses['price_usd'].replace({'a Verified Certificate for ':''},\n",
    "                                                            regex=True)"
   ]
  },
  {
   "cell_type": "code",
   "execution_count": 288,
   "metadata": {},
   "outputs": [
    {
     "name": "stderr",
     "output_type": "stream",
     "text": [
      "C:\\Users\\kaod_\\AppData\\Local\\Temp\\ipykernel_35644\\2270686836.py:1: SettingWithCopyWarning: \n",
      "A value is trying to be set on a copy of a slice from a DataFrame.\n",
      "Try using .loc[row_indexer,col_indexer] = value instead\n",
      "\n",
      "See the caveats in the documentation: https://pandas.pydata.org/pandas-docs/stable/user_guide/indexing.html#returning-a-view-versus-a-copy\n",
      "  edx_courses['price_usd'] = edx_courses['price_usd'].replace({'$':''},\n",
      "C:\\Users\\kaod_\\AppData\\Local\\Temp\\ipykernel_35644\\2270686836.py:4: SettingWithCopyWarning: \n",
      "A value is trying to be set on a copy of a slice from a DataFrame.\n",
      "Try using .loc[row_indexer,col_indexer] = value instead\n",
      "\n",
      "See the caveats in the documentation: https://pandas.pydata.org/pandas-docs/stable/user_guide/indexing.html#returning-a-view-versus-a-copy\n",
      "  edx_courses['price_usd'] = edx_courses['price_usd'].replace({' USD':''},\n"
     ]
    }
   ],
   "source": [
    "\n",
    "edx_courses['price_usd'] = edx_courses['price_usd'].replace({' USD':''},\n",
    "                                                            regex=True)"
   ]
  },
  {
   "cell_type": "code",
   "execution_count": 292,
   "metadata": {},
   "outputs": [
    {
     "name": "stderr",
     "output_type": "stream",
     "text": [
      "C:\\Users\\kaod_\\AppData\\Local\\Temp\\ipykernel_35644\\3147386402.py:1: SettingWithCopyWarning: \n",
      "A value is trying to be set on a copy of a slice from a DataFrame.\n",
      "Try using .loc[row_indexer,col_indexer] = value instead\n",
      "\n",
      "See the caveats in the documentation: https://pandas.pydata.org/pandas-docs/stable/user_guide/indexing.html#returning-a-view-versus-a-copy\n",
      "  edx_courses[\"price_usd\"] = edx_courses[\"price_usd\"].apply(lambda x: x.replace(\"$\",\"\"))\n"
     ]
    }
   ],
   "source": [
    "edx_courses[\"price_usd\"] = edx_courses[\"price_usd\"].apply(lambda x: x.replace(\"$\",\"\"))"
   ]
  },
  {
   "cell_type": "code",
   "execution_count": 293,
   "metadata": {},
   "outputs": [
    {
     "data": {
      "text/html": [
       "<div>\n",
       "<style scoped>\n",
       "    .dataframe tbody tr th:only-of-type {\n",
       "        vertical-align: middle;\n",
       "    }\n",
       "\n",
       "    .dataframe tbody tr th {\n",
       "        vertical-align: top;\n",
       "    }\n",
       "\n",
       "    .dataframe thead th {\n",
       "        text-align: right;\n",
       "    }\n",
       "</style>\n",
       "<table border=\"1\" class=\"dataframe\">\n",
       "  <thead>\n",
       "    <tr style=\"text-align: right;\">\n",
       "      <th></th>\n",
       "      <th>title</th>\n",
       "      <th>summary</th>\n",
       "      <th>n_enrolled</th>\n",
       "      <th>course_type</th>\n",
       "      <th>institution</th>\n",
       "      <th>instructors</th>\n",
       "      <th>level</th>\n",
       "      <th>subject</th>\n",
       "      <th>language</th>\n",
       "      <th>subtitles</th>\n",
       "      <th>course_effort</th>\n",
       "      <th>course_length_weeks</th>\n",
       "      <th>price_usd</th>\n",
       "      <th>course_description</th>\n",
       "    </tr>\n",
       "  </thead>\n",
       "  <tbody>\n",
       "    <tr>\n",
       "      <th>0</th>\n",
       "      <td>How to Learn Online</td>\n",
       "      <td>Learn essential strategies for successful onli...</td>\n",
       "      <td>124980</td>\n",
       "      <td>Self-paced on your time</td>\n",
       "      <td>edX</td>\n",
       "      <td>Nina Huntemann-Robyn Belair-Ben Piscopo</td>\n",
       "      <td>Introductory</td>\n",
       "      <td>Education &amp; Teacher Training</td>\n",
       "      <td>English</td>\n",
       "      <td>English</td>\n",
       "      <td>2–3 hours per week</td>\n",
       "      <td>2</td>\n",
       "      <td>49</td>\n",
       "      <td>Designed for those who are new to elearning, t...</td>\n",
       "    </tr>\n",
       "    <tr>\n",
       "      <th>1</th>\n",
       "      <td>Programming for Everybody (Getting Started wit...</td>\n",
       "      <td>This course is a \"no prerequisite\" introductio...</td>\n",
       "      <td>293864</td>\n",
       "      <td>Self-paced on your time</td>\n",
       "      <td>The University of Michigan</td>\n",
       "      <td>Charles Severance</td>\n",
       "      <td>Introductory</td>\n",
       "      <td>Computer Science</td>\n",
       "      <td>English</td>\n",
       "      <td>English</td>\n",
       "      <td>2–4 hours per week</td>\n",
       "      <td>7</td>\n",
       "      <td>49</td>\n",
       "      <td>This course aims to teach everyone the basics ...</td>\n",
       "    </tr>\n",
       "    <tr>\n",
       "      <th>2</th>\n",
       "      <td>CS50's Introduction to Computer Science</td>\n",
       "      <td>An introduction to the intellectual enterprise...</td>\n",
       "      <td>2442271</td>\n",
       "      <td>Self-paced on your time</td>\n",
       "      <td>Harvard University</td>\n",
       "      <td>David J. Malan-Doug Lloyd-Brian Yu</td>\n",
       "      <td>Introductory</td>\n",
       "      <td>Computer Science</td>\n",
       "      <td>English</td>\n",
       "      <td>English</td>\n",
       "      <td>6–18 hours per week</td>\n",
       "      <td>12</td>\n",
       "      <td>90</td>\n",
       "      <td>This is CS50x , Harvard University's introduct...</td>\n",
       "    </tr>\n",
       "    <tr>\n",
       "      <th>3</th>\n",
       "      <td>The Analytics Edge</td>\n",
       "      <td>Through inspiring examples and stories, discov...</td>\n",
       "      <td>129555</td>\n",
       "      <td>Instructor-led on a course schedule</td>\n",
       "      <td>Massachusetts Institute of Technology</td>\n",
       "      <td>Dimitris Bertsimas-Allison O'Hair-John Silberh...</td>\n",
       "      <td>Intermediate</td>\n",
       "      <td>Data Analysis &amp; Statistics</td>\n",
       "      <td>English</td>\n",
       "      <td>English</td>\n",
       "      <td>10–15 hours per week</td>\n",
       "      <td>13</td>\n",
       "      <td>199</td>\n",
       "      <td>In the last decade, the amount of data availab...</td>\n",
       "    </tr>\n",
       "    <tr>\n",
       "      <th>4</th>\n",
       "      <td>Marketing Analytics: Marketing Measurement Str...</td>\n",
       "      <td>This course is part of a MicroMasters® Program</td>\n",
       "      <td>81140</td>\n",
       "      <td>Self-paced on your time</td>\n",
       "      <td>University of California, Berkeley</td>\n",
       "      <td>Stephan Sorger</td>\n",
       "      <td>Introductory</td>\n",
       "      <td>Computer Science</td>\n",
       "      <td>English</td>\n",
       "      <td>English</td>\n",
       "      <td>5–7 hours per week</td>\n",
       "      <td>4</td>\n",
       "      <td>249</td>\n",
       "      <td>Begin your journey in a new career in marketin...</td>\n",
       "    </tr>\n",
       "  </tbody>\n",
       "</table>\n",
       "</div>"
      ],
      "text/plain": [
       "                                               title  \\\n",
       "0                                How to Learn Online   \n",
       "1  Programming for Everybody (Getting Started wit...   \n",
       "2            CS50's Introduction to Computer Science   \n",
       "3                                 The Analytics Edge   \n",
       "4  Marketing Analytics: Marketing Measurement Str...   \n",
       "\n",
       "                                             summary  n_enrolled  \\\n",
       "0  Learn essential strategies for successful onli...      124980   \n",
       "1  This course is a \"no prerequisite\" introductio...      293864   \n",
       "2  An introduction to the intellectual enterprise...     2442271   \n",
       "3  Through inspiring examples and stories, discov...      129555   \n",
       "4     This course is part of a MicroMasters® Program       81140   \n",
       "\n",
       "                           course_type                            institution  \\\n",
       "0              Self-paced on your time                                    edX   \n",
       "1              Self-paced on your time             The University of Michigan   \n",
       "2              Self-paced on your time                     Harvard University   \n",
       "3  Instructor-led on a course schedule  Massachusetts Institute of Technology   \n",
       "4              Self-paced on your time     University of California, Berkeley   \n",
       "\n",
       "                                         instructors         level  \\\n",
       "0            Nina Huntemann-Robyn Belair-Ben Piscopo  Introductory   \n",
       "1                                  Charles Severance  Introductory   \n",
       "2                 David J. Malan-Doug Lloyd-Brian Yu  Introductory   \n",
       "3  Dimitris Bertsimas-Allison O'Hair-John Silberh...  Intermediate   \n",
       "4                                     Stephan Sorger  Introductory   \n",
       "\n",
       "                        subject language subtitles         course_effort  \\\n",
       "0  Education & Teacher Training  English   English    2–3 hours per week   \n",
       "1              Computer Science  English   English    2–4 hours per week   \n",
       "2              Computer Science  English   English   6–18 hours per week   \n",
       "3    Data Analysis & Statistics  English   English  10–15 hours per week   \n",
       "4              Computer Science  English   English    5–7 hours per week   \n",
       "\n",
       "   course_length_weeks price_usd  \\\n",
       "0                    2        49   \n",
       "1                    7        49   \n",
       "2                   12        90   \n",
       "3                   13       199   \n",
       "4                    4       249   \n",
       "\n",
       "                                  course_description  \n",
       "0  Designed for those who are new to elearning, t...  \n",
       "1  This course aims to teach everyone the basics ...  \n",
       "2  This is CS50x , Harvard University's introduct...  \n",
       "3  In the last decade, the amount of data availab...  \n",
       "4  Begin your journey in a new career in marketin...  "
      ]
     },
     "execution_count": 293,
     "metadata": {},
     "output_type": "execute_result"
    }
   ],
   "source": [
    "edx_courses.head()"
   ]
  },
  {
   "cell_type": "code",
   "execution_count": 297,
   "metadata": {},
   "outputs": [
    {
     "name": "stderr",
     "output_type": "stream",
     "text": [
      "C:\\Users\\kaod_\\AppData\\Local\\Temp\\ipykernel_35644\\2820245710.py:2: SettingWithCopyWarning: \n",
      "A value is trying to be set on a copy of a slice from a DataFrame.\n",
      "Try using .loc[row_indexer,col_indexer] = value instead\n",
      "\n",
      "See the caveats in the documentation: https://pandas.pydata.org/pandas-docs/stable/user_guide/indexing.html#returning-a-view-versus-a-copy\n",
      "  edx_courses.price_usd = edx_courses.price_usd.astype(float)\n"
     ]
    },
    {
     "data": {
      "text/plain": [
       "title                   object\n",
       "summary                 object\n",
       "n_enrolled               int32\n",
       "course_type             object\n",
       "institution             object\n",
       "instructors             object\n",
       "level                   object\n",
       "subject                 object\n",
       "language                object\n",
       "subtitles               object\n",
       "course_effort           object\n",
       "course_length_weeks      int32\n",
       "price_usd              float64\n",
       "course_description      object\n",
       "dtype: object"
      ]
     },
     "execution_count": 297,
     "metadata": {},
     "output_type": "execute_result"
    }
   ],
   "source": [
    "# cambiando price_usd de object a float\n",
    "edx_courses.price_usd = edx_courses.price_usd.astype(float)\n",
    "edx_courses.dtypes\n"
   ]
  },
  {
   "cell_type": "code",
   "execution_count": 298,
   "metadata": {},
   "outputs": [
    {
     "data": {
      "text/plain": [
       "Introductory    621\n",
       "Intermediate    266\n",
       "Advanced         87\n",
       "Name: level, dtype: int64"
      ]
     },
     "execution_count": 298,
     "metadata": {},
     "output_type": "execute_result"
    }
   ],
   "source": [
    "edx_courses['level'].value_counts()"
   ]
  },
  {
   "cell_type": "code",
   "execution_count": 299,
   "metadata": {},
   "outputs": [
    {
     "data": {
      "text/plain": [
       "<AxesSubplot:>"
      ]
     },
     "execution_count": 299,
     "metadata": {},
     "output_type": "execute_result"
    },
    {
     "data": {
      "image/png": "[encoded data removed]",
      "text/plain": [
       "<Figure size 640x480 with 1 Axes>"
      ]
     },
     "metadata": {},
     "output_type": "display_data"
    }
   ],
   "source": [
    "edx_courses['level'].hist()"
   ]
  },
  {
   "cell_type": "code",
   "execution_count": 305,
   "metadata": {},
   "outputs": [
    {
     "data": {
      "text/plain": [
       "<AxesSubplot:>"
      ]
     },
     "execution_count": 305,
     "metadata": {},
     "output_type": "execute_result"
    },
    {
     "name": "stderr",
     "output_type": "stream",
     "text": [
      "C:\\Users\\kaod_\\AppData\\Roaming\\Python\\Python310\\site-packages\\IPython\\core\\pylabtools.py:151: UserWarning: Glyph 26085 (\\N{CJK UNIFIED IDEOGRAPH-65E5}) missing from current font.\n",
      "  fig.canvas.print_figure(bytes_io, **kw)\n",
      "C:\\Users\\kaod_\\AppData\\Roaming\\Python\\Python310\\site-packages\\IPython\\core\\pylabtools.py:151: UserWarning: Glyph 26412 (\\N{CJK UNIFIED IDEOGRAPH-672C}) missing from current font.\n",
      "  fig.canvas.print_figure(bytes_io, **kw)\n",
      "C:\\Users\\kaod_\\AppData\\Roaming\\Python\\Python310\\site-packages\\IPython\\core\\pylabtools.py:151: UserWarning: Glyph 35486 (\\N{CJK UNIFIED IDEOGRAPH-8A9E}) missing from current font.\n",
      "  fig.canvas.print_figure(bytes_io, **kw)\n",
      "C:\\Users\\kaod_\\AppData\\Roaming\\Python\\Python310\\site-packages\\IPython\\core\\pylabtools.py:151: UserWarning: Glyph 20013 (\\N{CJK UNIFIED IDEOGRAPH-4E2D}) missing from current font.\n",
      "  fig.canvas.print_figure(bytes_io, **kw)\n",
      "C:\\Users\\kaod_\\AppData\\Roaming\\Python\\Python310\\site-packages\\IPython\\core\\pylabtools.py:151: UserWarning: Glyph 25991 (\\N{CJK UNIFIED IDEOGRAPH-6587}) missing from current font.\n",
      "  fig.canvas.print_figure(bytes_io, **kw)\n"
     ]
    },
    {
     "data": {
      "image/png": "[encoded data removed]",
      "text/plain": [
       "<Figure size 640x480 with 1 Axes>"
      ]
     },
     "metadata": {},
     "output_type": "display_data"
    }
   ],
   "source": [
    "edx_courses['language'].hist(bins=20)"
   ]
  },
  {
   "cell_type": "code",
   "execution_count": 307,
   "metadata": {},
   "outputs": [
    {
     "data": {
      "text/plain": [
       "title                   object\n",
       "summary                 object\n",
       "n_enrolled               int32\n",
       "course_type             object\n",
       "institution             object\n",
       "instructors             object\n",
       "level                   object\n",
       "subject                 object\n",
       "language                object\n",
       "subtitles               object\n",
       "course_effort           object\n",
       "course_length_weeks      int32\n",
       "price_usd              float64\n",
       "course_description      object\n",
       "dtype: object"
      ]
     },
     "execution_count": 307,
     "metadata": {},
     "output_type": "execute_result"
    }
   ],
   "source": [
    "edx_courses.dtypes"
   ]
  },
  {
   "attachments": {},
   "cell_type": "markdown",
   "metadata": {},
   "source": [
    "Matriz de correlación"
   ]
  },
  {
   "cell_type": "code",
   "execution_count": 308,
   "metadata": {},
   "outputs": [
    {
     "data": {
      "text/plain": [
       "array([[<AxesSubplot:xlabel='n_enrolled', ylabel='n_enrolled'>,\n",
       "        <AxesSubplot:xlabel='course_length_weeks', ylabel='n_enrolled'>,\n",
       "        <AxesSubplot:xlabel='price_usd', ylabel='n_enrolled'>],\n",
       "       [<AxesSubplot:xlabel='n_enrolled', ylabel='course_length_weeks'>,\n",
       "        <AxesSubplot:xlabel='course_length_weeks', ylabel='course_length_weeks'>,\n",
       "        <AxesSubplot:xlabel='price_usd', ylabel='course_length_weeks'>],\n",
       "       [<AxesSubplot:xlabel='n_enrolled', ylabel='price_usd'>,\n",
       "        <AxesSubplot:xlabel='course_length_weeks', ylabel='price_usd'>,\n",
       "        <AxesSubplot:xlabel='price_usd', ylabel='price_usd'>]],\n",
       "      dtype=object)"
      ]
     },
     "execution_count": 308,
     "metadata": {},
     "output_type": "execute_result"
    },
    {
     "data": {
      "image/png": "[encoded data removed]",
      "text/plain": [
       "<Figure size 1200x800 with 9 Axes>"
      ]
     },
     "metadata": {},
     "output_type": "display_data"
    }
   ],
   "source": [
    "from pandas.plotting import scatter_matrix\n",
    "columnas_edx = ['n_enrolled', 'course_length_weeks', 'price_usd', 'level', 'language']\n",
    "\n",
    "scatter_matrix(edx_courses[columnas_edx], figsize=(12, 8))"
   ]
  },
  {
   "attachments": {},
   "cell_type": "markdown",
   "metadata": {},
   "source": [
    "# udemy_courses"
   ]
  },
  {
   "cell_type": "code",
   "execution_count": null,
   "metadata": {},
   "outputs": [],
   "source": [
    "'''\n",
    "formatear published_timestamp. Quizá se tenga que partir en dos columnas, una de fecha y otra de hora\n",
    "'''"
   ]
  },
  {
   "attachments": {},
   "cell_type": "markdown",
   "metadata": {},
   "source": [
    "Comenzamos eliminando las columnas 'course_id' y 'url'"
   ]
  },
  {
   "cell_type": "code",
   "execution_count": 310,
   "metadata": {},
   "outputs": [],
   "source": [
    "udemy_courses.drop(['course_id', 'url'], axis = 'columns', inplace=True)"
   ]
  },
  {
   "attachments": {},
   "cell_type": "markdown",
   "metadata": {},
   "source": [
    "Se eliminan los registros que contengan False en la columna is_paid, solo nos interesan las ventas "
   ]
  },
  {
   "cell_type": "code",
   "execution_count": 315,
   "metadata": {},
   "outputs": [
    {
     "name": "stdout",
     "output_type": "stream",
     "text": [
      "las dimensiones son:  (3678, 10)\n",
      "310\n"
     ]
    }
   ],
   "source": [
    "print('las dimensiones son: ', udemy_courses.shape)\n",
    "print(len(udemy_courses[(udemy_courses['is_paid'] == False)]))"
   ]
  },
  {
   "cell_type": "code",
   "execution_count": 316,
   "metadata": {},
   "outputs": [],
   "source": [
    "udemy_courses.drop(udemy_courses[(udemy_courses['is_paid'] == False)].index, inplace=True)"
   ]
  },
  {
   "cell_type": "code",
   "execution_count": 317,
   "metadata": {},
   "outputs": [
    {
     "name": "stdout",
     "output_type": "stream",
     "text": [
      "las dimensiones son:  (3368, 10)\n",
      "0\n"
     ]
    }
   ],
   "source": [
    "# confirmando\n",
    "print('las dimensiones son: ', udemy_courses.shape)\n",
    "print(len(udemy_courses[(udemy_courses['is_paid'] == False)]))"
   ]
  },
  {
   "attachments": {},
   "cell_type": "markdown",
   "metadata": {},
   "source": [
    "una vez hecho esto, podemos eliminar la columna 'is_paid'"
   ]
  },
  {
   "cell_type": "code",
   "execution_count": 327,
   "metadata": {},
   "outputs": [],
   "source": [
    "udemy_courses.drop(['is_paid'], axis = 'columns', inplace=True)"
   ]
  },
  {
   "attachments": {},
   "cell_type": "markdown",
   "metadata": {},
   "source": [
    "Eliminamos lo duplicados"
   ]
  },
  {
   "cell_type": "code",
   "execution_count": 323,
   "metadata": {},
   "outputs": [
    {
     "name": "stdout",
     "output_type": "stream",
     "text": [
      "las dimensiones son:  (3368, 10)\n"
     ]
    },
    {
     "data": {
      "text/plain": [
       "6"
      ]
     },
     "execution_count": 323,
     "metadata": {},
     "output_type": "execute_result"
    }
   ],
   "source": [
    "print('las dimensiones son: ', udemy_courses.shape)\n",
    "udemy_courses.duplicated().sum()"
   ]
  },
  {
   "cell_type": "code",
   "execution_count": 324,
   "metadata": {},
   "outputs": [],
   "source": [
    "# se eliminan los duplicados\n",
    "udemy_courses = udemy_courses.drop_duplicates()"
   ]
  },
  {
   "cell_type": "code",
   "execution_count": 329,
   "metadata": {},
   "outputs": [
    {
     "name": "stdout",
     "output_type": "stream",
     "text": [
      "las dimensiones son:  (3362, 9)\n"
     ]
    },
    {
     "data": {
      "text/plain": [
       "0"
      ]
     },
     "execution_count": 329,
     "metadata": {},
     "output_type": "execute_result"
    }
   ],
   "source": [
    "# se confirma\n",
    "print('las dimensiones son: ', udemy_courses.shape)\n",
    "udemy_courses.duplicated().sum()"
   ]
  },
  {
   "cell_type": "code",
   "execution_count": 330,
   "metadata": {},
   "outputs": [
    {
     "data": {
      "text/plain": [
       "course_title            object\n",
       "price                    int64\n",
       "num_subscribers          int64\n",
       "num_reviews              int64\n",
       "num_lectures             int64\n",
       "level                   object\n",
       "content_duration       float64\n",
       "published_timestamp     object\n",
       "subject                 object\n",
       "dtype: object"
      ]
     },
     "execution_count": 330,
     "metadata": {},
     "output_type": "execute_result"
    }
   ],
   "source": [
    "udemy_courses.dtypes"
   ]
  },
  {
   "attachments": {},
   "cell_type": "markdown",
   "metadata": {},
   "source": [
    "Formatear la columna published_timestamp"
   ]
  },
  {
   "attachments": {},
   "cell_type": "markdown",
   "metadata": {},
   "source": [
    "Solo nos interesa la fecha en año-día-mes, así que separaremos primero y luego daremos formato"
   ]
  },
  {
   "cell_type": "code",
   "execution_count": 332,
   "metadata": {},
   "outputs": [
    {
     "data": {
      "text/html": [
       "<div>\n",
       "<style scoped>\n",
       "    .dataframe tbody tr th:only-of-type {\n",
       "        vertical-align: middle;\n",
       "    }\n",
       "\n",
       "    .dataframe tbody tr th {\n",
       "        vertical-align: top;\n",
       "    }\n",
       "\n",
       "    .dataframe thead th {\n",
       "        text-align: right;\n",
       "    }\n",
       "</style>\n",
       "<table border=\"1\" class=\"dataframe\">\n",
       "  <thead>\n",
       "    <tr style=\"text-align: right;\">\n",
       "      <th></th>\n",
       "      <th>0</th>\n",
       "      <th>1</th>\n",
       "    </tr>\n",
       "  </thead>\n",
       "  <tbody>\n",
       "    <tr>\n",
       "      <th>0</th>\n",
       "      <td>2017-01-18</td>\n",
       "      <td>20:58:58Z</td>\n",
       "    </tr>\n",
       "    <tr>\n",
       "      <th>1</th>\n",
       "      <td>2017-03-09</td>\n",
       "      <td>16:34:20Z</td>\n",
       "    </tr>\n",
       "    <tr>\n",
       "      <th>2</th>\n",
       "      <td>2016-12-19</td>\n",
       "      <td>19:26:30Z</td>\n",
       "    </tr>\n",
       "    <tr>\n",
       "      <th>3</th>\n",
       "      <td>2017-05-30</td>\n",
       "      <td>20:07:24Z</td>\n",
       "    </tr>\n",
       "    <tr>\n",
       "      <th>4</th>\n",
       "      <td>2016-12-13</td>\n",
       "      <td>14:57:18Z</td>\n",
       "    </tr>\n",
       "    <tr>\n",
       "      <th>...</th>\n",
       "      <td>...</td>\n",
       "      <td>...</td>\n",
       "    </tr>\n",
       "    <tr>\n",
       "      <th>3673</th>\n",
       "      <td>2016-06-14</td>\n",
       "      <td>17:36:46Z</td>\n",
       "    </tr>\n",
       "    <tr>\n",
       "      <th>3674</th>\n",
       "      <td>2017-03-10</td>\n",
       "      <td>22:24:30Z</td>\n",
       "    </tr>\n",
       "    <tr>\n",
       "      <th>3675</th>\n",
       "      <td>2015-12-30</td>\n",
       "      <td>16:41:42Z</td>\n",
       "    </tr>\n",
       "    <tr>\n",
       "      <th>3676</th>\n",
       "      <td>2016-08-11</td>\n",
       "      <td>19:06:15Z</td>\n",
       "    </tr>\n",
       "    <tr>\n",
       "      <th>3677</th>\n",
       "      <td>2014-09-28</td>\n",
       "      <td>19:51:11Z</td>\n",
       "    </tr>\n",
       "  </tbody>\n",
       "</table>\n",
       "<p>3362 rows × 2 columns</p>\n",
       "</div>"
      ],
      "text/plain": [
       "               0          1\n",
       "0     2017-01-18  20:58:58Z\n",
       "1     2017-03-09  16:34:20Z\n",
       "2     2016-12-19  19:26:30Z\n",
       "3     2017-05-30  20:07:24Z\n",
       "4     2016-12-13  14:57:18Z\n",
       "...          ...        ...\n",
       "3673  2016-06-14  17:36:46Z\n",
       "3674  2017-03-10  22:24:30Z\n",
       "3675  2015-12-30  16:41:42Z\n",
       "3676  2016-08-11  19:06:15Z\n",
       "3677  2014-09-28  19:51:11Z\n",
       "\n",
       "[3362 rows x 2 columns]"
      ]
     },
     "execution_count": 332,
     "metadata": {},
     "output_type": "execute_result"
    }
   ],
   "source": [
    "'''name = df[\"name\"].str.split(expand=True)\n",
    "name.columns = ['first_name', 'last_name']\n",
    "df = pd.concat([df, name], axis=1)\n",
    "df'''\n",
    "\n",
    "dividido = udemy_courses[\"published_timestamp\"].str.split('T', expand=True)\n",
    "dividido"
   ]
  },
  {
   "attachments": {},
   "cell_type": "markdown",
   "metadata": {},
   "source": [
    "Nombramos las columnas"
   ]
  },
  {
   "cell_type": "code",
   "execution_count": 337,
   "metadata": {},
   "outputs": [],
   "source": [
    "dividido.columns = ['date', 'hour']"
   ]
  },
  {
   "cell_type": "code",
   "execution_count": 338,
   "metadata": {},
   "outputs": [
    {
     "data": {
      "text/html": [
       "<div>\n",
       "<style scoped>\n",
       "    .dataframe tbody tr th:only-of-type {\n",
       "        vertical-align: middle;\n",
       "    }\n",
       "\n",
       "    .dataframe tbody tr th {\n",
       "        vertical-align: top;\n",
       "    }\n",
       "\n",
       "    .dataframe thead th {\n",
       "        text-align: right;\n",
       "    }\n",
       "</style>\n",
       "<table border=\"1\" class=\"dataframe\">\n",
       "  <thead>\n",
       "    <tr style=\"text-align: right;\">\n",
       "      <th></th>\n",
       "      <th>date</th>\n",
       "      <th>hour</th>\n",
       "    </tr>\n",
       "  </thead>\n",
       "  <tbody>\n",
       "    <tr>\n",
       "      <th>0</th>\n",
       "      <td>2017-01-18</td>\n",
       "      <td>20:58:58Z</td>\n",
       "    </tr>\n",
       "    <tr>\n",
       "      <th>1</th>\n",
       "      <td>2017-03-09</td>\n",
       "      <td>16:34:20Z</td>\n",
       "    </tr>\n",
       "    <tr>\n",
       "      <th>2</th>\n",
       "      <td>2016-12-19</td>\n",
       "      <td>19:26:30Z</td>\n",
       "    </tr>\n",
       "    <tr>\n",
       "      <th>3</th>\n",
       "      <td>2017-05-30</td>\n",
       "      <td>20:07:24Z</td>\n",
       "    </tr>\n",
       "    <tr>\n",
       "      <th>4</th>\n",
       "      <td>2016-12-13</td>\n",
       "      <td>14:57:18Z</td>\n",
       "    </tr>\n",
       "  </tbody>\n",
       "</table>\n",
       "</div>"
      ],
      "text/plain": [
       "         date       hour\n",
       "0  2017-01-18  20:58:58Z\n",
       "1  2017-03-09  16:34:20Z\n",
       "2  2016-12-19  19:26:30Z\n",
       "3  2017-05-30  20:07:24Z\n",
       "4  2016-12-13  14:57:18Z"
      ]
     },
     "execution_count": 338,
     "metadata": {},
     "output_type": "execute_result"
    }
   ],
   "source": [
    "dividido.head()"
   ]
  },
  {
   "attachments": {},
   "cell_type": "markdown",
   "metadata": {},
   "source": [
    "Eliminamos la columna hour de dividido"
   ]
  },
  {
   "cell_type": "code",
   "execution_count": 339,
   "metadata": {},
   "outputs": [],
   "source": [
    "dividido.drop(['hour'], axis = 'columns', inplace=True)"
   ]
  },
  {
   "attachments": {},
   "cell_type": "markdown",
   "metadata": {},
   "source": [
    "concatenamos 'dividido' con 'udemy_courses'"
   ]
  },
  {
   "cell_type": "code",
   "execution_count": 341,
   "metadata": {},
   "outputs": [],
   "source": [
    "udemy_courses = pd.concat([udemy_courses, dividido], axis=1)"
   ]
  },
  {
   "attachments": {},
   "cell_type": "markdown",
   "metadata": {},
   "source": [
    "formateamos la nueva columna 'date'"
   ]
  },
  {
   "cell_type": "code",
   "execution_count": 344,
   "metadata": {},
   "outputs": [],
   "source": [
    "udemy_courses['date'] = pd.to_datetime(udemy_courses['date'])"
   ]
  },
  {
   "attachments": {},
   "cell_type": "markdown",
   "metadata": {},
   "source": [
    "eliminamos 'published_timestamp'"
   ]
  },
  {
   "cell_type": "code",
   "execution_count": 346,
   "metadata": {},
   "outputs": [],
   "source": [
    "udemy_courses.drop(['published_timestamp'], axis = 'columns', inplace=True)"
   ]
  },
  {
   "cell_type": "code",
   "execution_count": 349,
   "metadata": {},
   "outputs": [
    {
     "data": {
      "text/plain": [
       "count    3362.000000\n",
       "mean        4.271584\n",
       "std         6.254162\n",
       "min         0.000000\n",
       "25%         1.500000\n",
       "50%         2.500000\n",
       "75%         4.500000\n",
       "max        78.500000\n",
       "Name: content_duration, dtype: float64"
      ]
     },
     "execution_count": 349,
     "metadata": {},
     "output_type": "execute_result"
    }
   ],
   "source": [
    "udemy_courses['content_duration'].describe()"
   ]
  },
  {
   "cell_type": "code",
   "execution_count": 347,
   "metadata": {},
   "outputs": [
    {
     "data": {
      "text/html": [
       "<div>\n",
       "<style scoped>\n",
       "    .dataframe tbody tr th:only-of-type {\n",
       "        vertical-align: middle;\n",
       "    }\n",
       "\n",
       "    .dataframe tbody tr th {\n",
       "        vertical-align: top;\n",
       "    }\n",
       "\n",
       "    .dataframe thead th {\n",
       "        text-align: right;\n",
       "    }\n",
       "</style>\n",
       "<table border=\"1\" class=\"dataframe\">\n",
       "  <thead>\n",
       "    <tr style=\"text-align: right;\">\n",
       "      <th></th>\n",
       "      <th>course_title</th>\n",
       "      <th>price</th>\n",
       "      <th>num_subscribers</th>\n",
       "      <th>num_reviews</th>\n",
       "      <th>num_lectures</th>\n",
       "      <th>level</th>\n",
       "      <th>content_duration</th>\n",
       "      <th>subject</th>\n",
       "      <th>date</th>\n",
       "    </tr>\n",
       "  </thead>\n",
       "  <tbody>\n",
       "    <tr>\n",
       "      <th>0</th>\n",
       "      <td>Ultimate Investment Banking Course</td>\n",
       "      <td>200</td>\n",
       "      <td>2147</td>\n",
       "      <td>23</td>\n",
       "      <td>51</td>\n",
       "      <td>All Levels</td>\n",
       "      <td>1.5</td>\n",
       "      <td>Business Finance</td>\n",
       "      <td>2017-01-18</td>\n",
       "    </tr>\n",
       "    <tr>\n",
       "      <th>1</th>\n",
       "      <td>Complete GST Course &amp; Certification - Grow You...</td>\n",
       "      <td>75</td>\n",
       "      <td>2792</td>\n",
       "      <td>923</td>\n",
       "      <td>274</td>\n",
       "      <td>All Levels</td>\n",
       "      <td>39.0</td>\n",
       "      <td>Business Finance</td>\n",
       "      <td>2017-03-09</td>\n",
       "    </tr>\n",
       "    <tr>\n",
       "      <th>2</th>\n",
       "      <td>Financial Modeling for Business Analysts and C...</td>\n",
       "      <td>45</td>\n",
       "      <td>2174</td>\n",
       "      <td>74</td>\n",
       "      <td>51</td>\n",
       "      <td>Intermediate Level</td>\n",
       "      <td>2.5</td>\n",
       "      <td>Business Finance</td>\n",
       "      <td>2016-12-19</td>\n",
       "    </tr>\n",
       "    <tr>\n",
       "      <th>3</th>\n",
       "      <td>Beginner to Pro - Financial Analysis in Excel ...</td>\n",
       "      <td>95</td>\n",
       "      <td>2451</td>\n",
       "      <td>11</td>\n",
       "      <td>36</td>\n",
       "      <td>All Levels</td>\n",
       "      <td>3.0</td>\n",
       "      <td>Business Finance</td>\n",
       "      <td>2017-05-30</td>\n",
       "    </tr>\n",
       "    <tr>\n",
       "      <th>4</th>\n",
       "      <td>How To Maximize Your Profits Trading Options</td>\n",
       "      <td>200</td>\n",
       "      <td>1276</td>\n",
       "      <td>45</td>\n",
       "      <td>26</td>\n",
       "      <td>Intermediate Level</td>\n",
       "      <td>2.0</td>\n",
       "      <td>Business Finance</td>\n",
       "      <td>2016-12-13</td>\n",
       "    </tr>\n",
       "  </tbody>\n",
       "</table>\n",
       "</div>"
      ],
      "text/plain": [
       "                                        course_title  price  num_subscribers  \\\n",
       "0                 Ultimate Investment Banking Course    200             2147   \n",
       "1  Complete GST Course & Certification - Grow You...     75             2792   \n",
       "2  Financial Modeling for Business Analysts and C...     45             2174   \n",
       "3  Beginner to Pro - Financial Analysis in Excel ...     95             2451   \n",
       "4       How To Maximize Your Profits Trading Options    200             1276   \n",
       "\n",
       "   num_reviews  num_lectures               level  content_duration  \\\n",
       "0           23            51          All Levels               1.5   \n",
       "1          923           274          All Levels              39.0   \n",
       "2           74            51  Intermediate Level               2.5   \n",
       "3           11            36          All Levels               3.0   \n",
       "4           45            26  Intermediate Level               2.0   \n",
       "\n",
       "            subject       date  \n",
       "0  Business Finance 2017-01-18  \n",
       "1  Business Finance 2017-03-09  \n",
       "2  Business Finance 2016-12-19  \n",
       "3  Business Finance 2017-05-30  \n",
       "4  Business Finance 2016-12-13  "
      ]
     },
     "execution_count": 347,
     "metadata": {},
     "output_type": "execute_result"
    }
   ],
   "source": [
    "udemy_courses.head()"
   ]
  },
  {
   "cell_type": "code",
   "execution_count": 353,
   "metadata": {},
   "outputs": [
    {
     "data": {
      "text/plain": [
       "course_title                object\n",
       "price                        int64\n",
       "num_subscribers              int64\n",
       "num_reviews                  int64\n",
       "num_lectures                 int64\n",
       "level                       object\n",
       "content_duration           float64\n",
       "subject                     object\n",
       "date                datetime64[ns]\n",
       "dtype: object"
      ]
     },
     "execution_count": 353,
     "metadata": {},
     "output_type": "execute_result"
    }
   ],
   "source": [
    "udemy_courses.dtypes"
   ]
  },
  {
   "attachments": {},
   "cell_type": "markdown",
   "metadata": {},
   "source": [
    "Matrices de correlación"
   ]
  },
  {
   "cell_type": "code",
   "execution_count": 350,
   "metadata": {},
   "outputs": [
    {
     "data": {
      "text/plain": [
       "array([[<AxesSubplot:xlabel='price', ylabel='price'>,\n",
       "        <AxesSubplot:xlabel='num_reviews', ylabel='price'>],\n",
       "       [<AxesSubplot:xlabel='price', ylabel='num_reviews'>,\n",
       "        <AxesSubplot:xlabel='num_reviews', ylabel='num_reviews'>]],\n",
       "      dtype=object)"
      ]
     },
     "execution_count": 350,
     "metadata": {},
     "output_type": "execute_result"
    },
    {
     "data": {
      "image/png": "[encoded data removed]",
      "text/plain": [
       "<Figure size 1200x800 with 4 Axes>"
      ]
     },
     "metadata": {},
     "output_type": "display_data"
    }
   ],
   "source": [
    "columnas_udemy = ['price', 'level', 'num_reviews', 'subject']\n",
    "\n",
    "scatter_matrix(udemy_courses[columnas_udemy], figsize=(12, 8))"
   ]
  },
  {
   "cell_type": "code",
   "execution_count": 352,
   "metadata": {},
   "outputs": [
    {
     "data": {
      "text/html": [
       "<div>\n",
       "<style scoped>\n",
       "    .dataframe tbody tr th:only-of-type {\n",
       "        vertical-align: middle;\n",
       "    }\n",
       "\n",
       "    .dataframe tbody tr th {\n",
       "        vertical-align: top;\n",
       "    }\n",
       "\n",
       "    .dataframe thead th {\n",
       "        text-align: right;\n",
       "    }\n",
       "</style>\n",
       "<table border=\"1\" class=\"dataframe\">\n",
       "  <thead>\n",
       "    <tr style=\"text-align: right;\">\n",
       "      <th></th>\n",
       "      <th>name</th>\n",
       "      <th>institution</th>\n",
       "      <th>course_id</th>\n",
       "      <th>reviews</th>\n",
       "      <th>reviewers</th>\n",
       "      <th>date_reviews</th>\n",
       "      <th>rating</th>\n",
       "    </tr>\n",
       "  </thead>\n",
       "  <tbody>\n",
       "    <tr>\n",
       "      <th>0</th>\n",
       "      <td>Machine Learning</td>\n",
       "      <td>Stanford University</td>\n",
       "      <td>machine-learning</td>\n",
       "      <td>This is an extremely basic course. Machine lea...</td>\n",
       "      <td>By Deleted A</td>\n",
       "      <td>2017-03-18</td>\n",
       "      <td>1</td>\n",
       "    </tr>\n",
       "    <tr>\n",
       "      <th>1</th>\n",
       "      <td>Machine Learning</td>\n",
       "      <td>Stanford University</td>\n",
       "      <td>machine-learning</td>\n",
       "      <td>The course is ok but the certification procedu...</td>\n",
       "      <td>By Bruno C</td>\n",
       "      <td>2015-11-09</td>\n",
       "      <td>1</td>\n",
       "    </tr>\n",
       "    <tr>\n",
       "      <th>2</th>\n",
       "      <td>Machine Learning</td>\n",
       "      <td>Stanford University</td>\n",
       "      <td>machine-learning</td>\n",
       "      <td>I just started week 3 , I have to admit that I...</td>\n",
       "      <td>By Fadi</td>\n",
       "      <td>2019-04-15</td>\n",
       "      <td>1</td>\n",
       "    </tr>\n",
       "    <tr>\n",
       "      <th>3</th>\n",
       "      <td>Machine Learning</td>\n",
       "      <td>Stanford University</td>\n",
       "      <td>machine-learning</td>\n",
       "      <td>This course is absolute garbage.  You get no f...</td>\n",
       "      <td>By Mathew L</td>\n",
       "      <td>2015-09-25</td>\n",
       "      <td>1</td>\n",
       "    </tr>\n",
       "    <tr>\n",
       "      <th>4</th>\n",
       "      <td>Machine Learning</td>\n",
       "      <td>Stanford University</td>\n",
       "      <td>machine-learning</td>\n",
       "      <td>However good the material and lectures may be,...</td>\n",
       "      <td>By Rui C</td>\n",
       "      <td>2015-12-12</td>\n",
       "      <td>1</td>\n",
       "    </tr>\n",
       "  </tbody>\n",
       "</table>\n",
       "</div>"
      ],
      "text/plain": [
       "               name          institution         course_id  \\\n",
       "0  Machine Learning  Stanford University  machine-learning   \n",
       "1  Machine Learning  Stanford University  machine-learning   \n",
       "2  Machine Learning  Stanford University  machine-learning   \n",
       "3  Machine Learning  Stanford University  machine-learning   \n",
       "4  Machine Learning  Stanford University  machine-learning   \n",
       "\n",
       "                                             reviews     reviewers  \\\n",
       "0  This is an extremely basic course. Machine lea...  By Deleted A   \n",
       "1  The course is ok but the certification procedu...    By Bruno C   \n",
       "2  I just started week 3 , I have to admit that I...       By Fadi   \n",
       "3  This course is absolute garbage.  You get no f...   By Mathew L   \n",
       "4  However good the material and lectures may be,...      By Rui C   \n",
       "\n",
       "  date_reviews  rating  \n",
       "0   2017-03-18       1  \n",
       "1   2015-11-09       1  \n",
       "2   2019-04-15       1  \n",
       "3   2015-09-25       1  \n",
       "4   2015-12-12       1  "
      ]
     },
     "execution_count": 352,
     "metadata": {},
     "output_type": "execute_result"
    }
   ],
   "source": [
    "coursera.head()"
   ]
  },
  {
   "cell_type": "code",
   "execution_count": 354,
   "metadata": {},
   "outputs": [
    {
     "data": {
      "text/html": [
       "<div>\n",
       "<style scoped>\n",
       "    .dataframe tbody tr th:only-of-type {\n",
       "        vertical-align: middle;\n",
       "    }\n",
       "\n",
       "    .dataframe tbody tr th {\n",
       "        vertical-align: top;\n",
       "    }\n",
       "\n",
       "    .dataframe thead th {\n",
       "        text-align: right;\n",
       "    }\n",
       "</style>\n",
       "<table border=\"1\" class=\"dataframe\">\n",
       "  <thead>\n",
       "    <tr style=\"text-align: right;\">\n",
       "      <th></th>\n",
       "      <th>title</th>\n",
       "      <th>summary</th>\n",
       "      <th>n_enrolled</th>\n",
       "      <th>course_type</th>\n",
       "      <th>institution</th>\n",
       "      <th>instructors</th>\n",
       "      <th>level</th>\n",
       "      <th>subject</th>\n",
       "      <th>language</th>\n",
       "      <th>subtitles</th>\n",
       "      <th>course_effort</th>\n",
       "      <th>course_length_weeks</th>\n",
       "      <th>price_usd</th>\n",
       "      <th>course_description</th>\n",
       "    </tr>\n",
       "  </thead>\n",
       "  <tbody>\n",
       "    <tr>\n",
       "      <th>0</th>\n",
       "      <td>How to Learn Online</td>\n",
       "      <td>Learn essential strategies for successful onli...</td>\n",
       "      <td>124980</td>\n",
       "      <td>Self-paced on your time</td>\n",
       "      <td>edX</td>\n",
       "      <td>Nina Huntemann-Robyn Belair-Ben Piscopo</td>\n",
       "      <td>Introductory</td>\n",
       "      <td>Education &amp; Teacher Training</td>\n",
       "      <td>English</td>\n",
       "      <td>English</td>\n",
       "      <td>2–3 hours per week</td>\n",
       "      <td>2</td>\n",
       "      <td>49.0</td>\n",
       "      <td>Designed for those who are new to elearning, t...</td>\n",
       "    </tr>\n",
       "    <tr>\n",
       "      <th>1</th>\n",
       "      <td>Programming for Everybody (Getting Started wit...</td>\n",
       "      <td>This course is a \"no prerequisite\" introductio...</td>\n",
       "      <td>293864</td>\n",
       "      <td>Self-paced on your time</td>\n",
       "      <td>The University of Michigan</td>\n",
       "      <td>Charles Severance</td>\n",
       "      <td>Introductory</td>\n",
       "      <td>Computer Science</td>\n",
       "      <td>English</td>\n",
       "      <td>English</td>\n",
       "      <td>2–4 hours per week</td>\n",
       "      <td>7</td>\n",
       "      <td>49.0</td>\n",
       "      <td>This course aims to teach everyone the basics ...</td>\n",
       "    </tr>\n",
       "    <tr>\n",
       "      <th>2</th>\n",
       "      <td>CS50's Introduction to Computer Science</td>\n",
       "      <td>An introduction to the intellectual enterprise...</td>\n",
       "      <td>2442271</td>\n",
       "      <td>Self-paced on your time</td>\n",
       "      <td>Harvard University</td>\n",
       "      <td>David J. Malan-Doug Lloyd-Brian Yu</td>\n",
       "      <td>Introductory</td>\n",
       "      <td>Computer Science</td>\n",
       "      <td>English</td>\n",
       "      <td>English</td>\n",
       "      <td>6–18 hours per week</td>\n",
       "      <td>12</td>\n",
       "      <td>90.0</td>\n",
       "      <td>This is CS50x , Harvard University's introduct...</td>\n",
       "    </tr>\n",
       "    <tr>\n",
       "      <th>3</th>\n",
       "      <td>The Analytics Edge</td>\n",
       "      <td>Through inspiring examples and stories, discov...</td>\n",
       "      <td>129555</td>\n",
       "      <td>Instructor-led on a course schedule</td>\n",
       "      <td>Massachusetts Institute of Technology</td>\n",
       "      <td>Dimitris Bertsimas-Allison O'Hair-John Silberh...</td>\n",
       "      <td>Intermediate</td>\n",
       "      <td>Data Analysis &amp; Statistics</td>\n",
       "      <td>English</td>\n",
       "      <td>English</td>\n",
       "      <td>10–15 hours per week</td>\n",
       "      <td>13</td>\n",
       "      <td>199.0</td>\n",
       "      <td>In the last decade, the amount of data availab...</td>\n",
       "    </tr>\n",
       "    <tr>\n",
       "      <th>4</th>\n",
       "      <td>Marketing Analytics: Marketing Measurement Str...</td>\n",
       "      <td>This course is part of a MicroMasters® Program</td>\n",
       "      <td>81140</td>\n",
       "      <td>Self-paced on your time</td>\n",
       "      <td>University of California, Berkeley</td>\n",
       "      <td>Stephan Sorger</td>\n",
       "      <td>Introductory</td>\n",
       "      <td>Computer Science</td>\n",
       "      <td>English</td>\n",
       "      <td>English</td>\n",
       "      <td>5–7 hours per week</td>\n",
       "      <td>4</td>\n",
       "      <td>249.0</td>\n",
       "      <td>Begin your journey in a new career in marketin...</td>\n",
       "    </tr>\n",
       "  </tbody>\n",
       "</table>\n",
       "</div>"
      ],
      "text/plain": [
       "                                               title  \\\n",
       "0                                How to Learn Online   \n",
       "1  Programming for Everybody (Getting Started wit...   \n",
       "2            CS50's Introduction to Computer Science   \n",
       "3                                 The Analytics Edge   \n",
       "4  Marketing Analytics: Marketing Measurement Str...   \n",
       "\n",
       "                                             summary  n_enrolled  \\\n",
       "0  Learn essential strategies for successful onli...      124980   \n",
       "1  This course is a \"no prerequisite\" introductio...      293864   \n",
       "2  An introduction to the intellectual enterprise...     2442271   \n",
       "3  Through inspiring examples and stories, discov...      129555   \n",
       "4     This course is part of a MicroMasters® Program       81140   \n",
       "\n",
       "                           course_type                            institution  \\\n",
       "0              Self-paced on your time                                    edX   \n",
       "1              Self-paced on your time             The University of Michigan   \n",
       "2              Self-paced on your time                     Harvard University   \n",
       "3  Instructor-led on a course schedule  Massachusetts Institute of Technology   \n",
       "4              Self-paced on your time     University of California, Berkeley   \n",
       "\n",
       "                                         instructors         level  \\\n",
       "0            Nina Huntemann-Robyn Belair-Ben Piscopo  Introductory   \n",
       "1                                  Charles Severance  Introductory   \n",
       "2                 David J. Malan-Doug Lloyd-Brian Yu  Introductory   \n",
       "3  Dimitris Bertsimas-Allison O'Hair-John Silberh...  Intermediate   \n",
       "4                                     Stephan Sorger  Introductory   \n",
       "\n",
       "                        subject language subtitles         course_effort  \\\n",
       "0  Education & Teacher Training  English   English    2–3 hours per week   \n",
       "1              Computer Science  English   English    2–4 hours per week   \n",
       "2              Computer Science  English   English   6–18 hours per week   \n",
       "3    Data Analysis & Statistics  English   English  10–15 hours per week   \n",
       "4              Computer Science  English   English    5–7 hours per week   \n",
       "\n",
       "   course_length_weeks  price_usd  \\\n",
       "0                    2       49.0   \n",
       "1                    7       49.0   \n",
       "2                   12       90.0   \n",
       "3                   13      199.0   \n",
       "4                    4      249.0   \n",
       "\n",
       "                                  course_description  \n",
       "0  Designed for those who are new to elearning, t...  \n",
       "1  This course aims to teach everyone the basics ...  \n",
       "2  This is CS50x , Harvard University's introduct...  \n",
       "3  In the last decade, the amount of data availab...  \n",
       "4  Begin your journey in a new career in marketin...  "
      ]
     },
     "execution_count": 354,
     "metadata": {},
     "output_type": "execute_result"
    }
   ],
   "source": [
    "edx_courses.head()"
   ]
  },
  {
   "cell_type": "code",
   "execution_count": 356,
   "metadata": {},
   "outputs": [
    {
     "data": {
      "text/plain": [
       "title                   object\n",
       "summary                 object\n",
       "n_enrolled               int32\n",
       "course_type             object\n",
       "institution             object\n",
       "instructors             object\n",
       "level                   object\n",
       "subject                 object\n",
       "language                object\n",
       "subtitles               object\n",
       "course_effort           object\n",
       "course_length_weeks      int32\n",
       "price_usd              float64\n",
       "course_description      object\n",
       "dtype: object"
      ]
     },
     "execution_count": 356,
     "metadata": {},
     "output_type": "execute_result"
    }
   ],
   "source": [
    "edx_courses.dtypes"
   ]
  },
  {
   "cell_type": "code",
   "execution_count": 355,
   "metadata": {},
   "outputs": [
    {
     "data": {
      "text/html": [
       "<div>\n",
       "<style scoped>\n",
       "    .dataframe tbody tr th:only-of-type {\n",
       "        vertical-align: middle;\n",
       "    }\n",
       "\n",
       "    .dataframe tbody tr th {\n",
       "        vertical-align: top;\n",
       "    }\n",
       "\n",
       "    .dataframe thead th {\n",
       "        text-align: right;\n",
       "    }\n",
       "</style>\n",
       "<table border=\"1\" class=\"dataframe\">\n",
       "  <thead>\n",
       "    <tr style=\"text-align: right;\">\n",
       "      <th></th>\n",
       "      <th>course_title</th>\n",
       "      <th>price</th>\n",
       "      <th>num_subscribers</th>\n",
       "      <th>num_reviews</th>\n",
       "      <th>num_lectures</th>\n",
       "      <th>level</th>\n",
       "      <th>content_duration</th>\n",
       "      <th>subject</th>\n",
       "      <th>date</th>\n",
       "    </tr>\n",
       "  </thead>\n",
       "  <tbody>\n",
       "    <tr>\n",
       "      <th>0</th>\n",
       "      <td>Ultimate Investment Banking Course</td>\n",
       "      <td>200</td>\n",
       "      <td>2147</td>\n",
       "      <td>23</td>\n",
       "      <td>51</td>\n",
       "      <td>All Levels</td>\n",
       "      <td>1.5</td>\n",
       "      <td>Business Finance</td>\n",
       "      <td>2017-01-18</td>\n",
       "    </tr>\n",
       "    <tr>\n",
       "      <th>1</th>\n",
       "      <td>Complete GST Course &amp; Certification - Grow You...</td>\n",
       "      <td>75</td>\n",
       "      <td>2792</td>\n",
       "      <td>923</td>\n",
       "      <td>274</td>\n",
       "      <td>All Levels</td>\n",
       "      <td>39.0</td>\n",
       "      <td>Business Finance</td>\n",
       "      <td>2017-03-09</td>\n",
       "    </tr>\n",
       "    <tr>\n",
       "      <th>2</th>\n",
       "      <td>Financial Modeling for Business Analysts and C...</td>\n",
       "      <td>45</td>\n",
       "      <td>2174</td>\n",
       "      <td>74</td>\n",
       "      <td>51</td>\n",
       "      <td>Intermediate Level</td>\n",
       "      <td>2.5</td>\n",
       "      <td>Business Finance</td>\n",
       "      <td>2016-12-19</td>\n",
       "    </tr>\n",
       "    <tr>\n",
       "      <th>3</th>\n",
       "      <td>Beginner to Pro - Financial Analysis in Excel ...</td>\n",
       "      <td>95</td>\n",
       "      <td>2451</td>\n",
       "      <td>11</td>\n",
       "      <td>36</td>\n",
       "      <td>All Levels</td>\n",
       "      <td>3.0</td>\n",
       "      <td>Business Finance</td>\n",
       "      <td>2017-05-30</td>\n",
       "    </tr>\n",
       "    <tr>\n",
       "      <th>4</th>\n",
       "      <td>How To Maximize Your Profits Trading Options</td>\n",
       "      <td>200</td>\n",
       "      <td>1276</td>\n",
       "      <td>45</td>\n",
       "      <td>26</td>\n",
       "      <td>Intermediate Level</td>\n",
       "      <td>2.0</td>\n",
       "      <td>Business Finance</td>\n",
       "      <td>2016-12-13</td>\n",
       "    </tr>\n",
       "  </tbody>\n",
       "</table>\n",
       "</div>"
      ],
      "text/plain": [
       "                                        course_title  price  num_subscribers  \\\n",
       "0                 Ultimate Investment Banking Course    200             2147   \n",
       "1  Complete GST Course & Certification - Grow You...     75             2792   \n",
       "2  Financial Modeling for Business Analysts and C...     45             2174   \n",
       "3  Beginner to Pro - Financial Analysis in Excel ...     95             2451   \n",
       "4       How To Maximize Your Profits Trading Options    200             1276   \n",
       "\n",
       "   num_reviews  num_lectures               level  content_duration  \\\n",
       "0           23            51          All Levels               1.5   \n",
       "1          923           274          All Levels              39.0   \n",
       "2           74            51  Intermediate Level               2.5   \n",
       "3           11            36          All Levels               3.0   \n",
       "4           45            26  Intermediate Level               2.0   \n",
       "\n",
       "            subject       date  \n",
       "0  Business Finance 2017-01-18  \n",
       "1  Business Finance 2017-03-09  \n",
       "2  Business Finance 2016-12-19  \n",
       "3  Business Finance 2017-05-30  \n",
       "4  Business Finance 2016-12-13  "
      ]
     },
     "execution_count": 355,
     "metadata": {},
     "output_type": "execute_result"
    }
   ],
   "source": [
    "udemy_courses.head()"
   ]
  },
  {
   "cell_type": "code",
   "execution_count": 357,
   "metadata": {},
   "outputs": [],
   "source": [
    "coursera.to_csv('coursera_c.csv')\n",
    "edx_courses.to_csv('edx_c.csv')\n",
    "udemy_courses.to_csv('udemy_c.cv')"
   ]
  }
 ],
 "metadata": {
  "kernelspec": {
   "display_name": "Python 3",
   "language": "python",
   "name": "python3"
  },
  "language_info": {
   "codemirror_mode": {
    "name": "ipython",
    "version": 3
   },
   "file_extension": ".py",
   "mimetype": "text/x-python",
   "name": "python",
   "nbconvert_exporter": "python",
   "pygments_lexer": "ipython3",
   "version": "3.10.1"
  },
  "orig_nbformat": 4,
  "vscode": {
   "interpreter": {
    "hash": "26de051ba29f2982a8de78e945f0abaf191376122a1563185a90213a26c5da77"
   }
  }
 },
 "nbformat": 4,
 "nbformat_minor": 2
}
